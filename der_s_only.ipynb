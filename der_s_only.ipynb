{
 "cells": [
  {
   "cell_type": "code",
   "execution_count": 1,
   "metadata": {},
   "outputs": [
    {
     "name": "stdout",
     "output_type": "stream",
     "text": [
      "✅ 총 3개 파일을 불러왔습니다: 1201.csv, 137.csv, 401.csv\n",
      "📊 데이터 Shape: I=3, T=24, S=3\n",
      "✅ 시뮬레이션 초기화 완료: S=3, Randomness='high', M1=640.41, M2=1276.41\n"
     ]
    },
    {
     "name": "stderr",
     "output_type": "stream",
     "text": [
      "/Users/jangseohyun/Documents/workspace/symply/DER/functions.py:96: FutureWarning: 'H' is deprecated and will be removed in a future version, please use 'h' instead.\n",
      "  nyc_rt[\"Hour\"] = nyc_rt[\"Time Stamp\"].dt.floor(\"H\")\n"
     ]
    }
   ],
   "source": [
    "import pandas as pd\n",
    "import numpy as np\n",
    "import matplotlib.pyplot as plt\n",
    "import gurobipy as gp\n",
    "from gurobipy import GRB\n",
    "import os\n",
    "from itertools import product\n",
    "from functions import (load_parameters, load_generation_data, load_price_data, generate_randomized_generation,\n",
    "generate_rt_scenarios, plot_generation_data, plot_randomized_generation, plot_scenarios_for_generator, plot_rt_scenarios)\n",
    "\n",
    "generation_data, I, T = load_generation_data(date_filter=\"2022-07-18\")\n",
    "S, R, P_RT, K, K0, M1, M2 = load_parameters(I, T, generation_data)\n",
    "P_DA, P_PN = load_price_data()"
   ]
  },
  {
   "cell_type": "code",
   "execution_count": 2,
   "metadata": {},
   "outputs": [
    {
     "name": "stdout",
     "output_type": "stream",
     "text": [
      "Set parameter Username\n",
      "Set parameter LicenseID to value 2611964\n",
      "Academic license - for non-commercial use only - expires 2026-01-20\n",
      "Set parameter MIPGap to value 1e-07\n",
      "Gurobi Optimizer version 12.0.0 build v12.0.0rc1 (mac64[arm] - Darwin 24.3.0 24D81)\n",
      "\n",
      "CPU model: Apple M3\n",
      "Thread count: 8 physical cores, 8 logical processors, using up to 8 threads\n",
      "\n",
      "Non-default parameters:\n",
      "MIPGap  1e-07\n",
      "\n",
      "Optimize a model with 2385 rows, 1809 columns and 5625 nonzeros\n",
      "Model fingerprint: 0xf18203eb\n",
      "Variable types: 1161 continuous, 648 integer (648 binary)\n",
      "Coefficient statistics:\n",
      "  Matrix range     [1e+00, 6e+02]\n",
      "  Objective range  [2e+01, 2e+02]\n",
      "  Bounds range     [1e+00, 1e+00]\n",
      "  RHS range        [2e-01, 6e+02]\n",
      "Found heuristic solution: objective 718952.15099\n",
      "Presolve removed 1731 rows and 1263 columns\n",
      "Presolve time: 0.04s\n",
      "Presolved: 654 rows, 546 columns, 1652 nonzeros\n",
      "Found heuristic solution: objective 874762.17933\n",
      "Variable types: 351 continuous, 195 integer (195 binary)\n",
      "\n",
      "Root relaxation: objective 9.510114e+05, 283 iterations, 0.00 seconds (0.00 work units)\n",
      "\n",
      "    Nodes    |    Current Node    |     Objective Bounds      |     Work\n",
      " Expl Unexpl |  Obj  Depth IntInf | Incumbent    BestBd   Gap | It/Node Time\n",
      "\n",
      "     0     0 951011.366    0    2 874762.179 951011.366  8.72%     -    0s\n",
      "H    0     0                    949905.77273 951011.366  0.12%     -    0s\n",
      "     0     0 950871.498    0    5 949905.773 950871.498  0.10%     -    0s\n",
      "     0     0 950854.297    0    6 949905.773 950854.297  0.10%     -    0s\n",
      "H    0     0                    950087.35030 950854.297  0.08%     -    0s\n",
      "H    0     0                    950285.17253 950854.297  0.06%     -    0s\n",
      "     0     0 950312.334    0    4 950285.173 950312.334  0.00%     -    0s\n",
      "     0     0 950306.320    0    4 950285.173 950306.320  0.00%     -    0s\n",
      "H    0     0                    950285.45076 950306.320  0.00%     -    0s\n",
      "     0     0     cutoff    0      950285.451 950285.451  0.00%     -    0s\n",
      "\n",
      "Cutting planes:\n",
      "  Gomory: 2\n",
      "  Implied bound: 8\n",
      "  MIR: 4\n",
      "  Flow cover: 17\n",
      "  Flow path: 2\n",
      "  Relax-and-lift: 4\n",
      "\n",
      "Explored 1 nodes (389 simplex iterations) in 0.11 seconds (0.06 work units)\n",
      "Thread count was 8 (of 8 available processors)\n",
      "\n",
      "Solution count 6: 950285 950285 950087 ... 718952\n",
      "\n",
      "Optimal solution found (tolerance 1.00e-07)\n",
      "Best objective 9.502854507642e+05, best bound 9.502854507642e+05, gap 0.0000%\n",
      "Optimal solution found! Objective value: 950285.4507641935\n"
     ]
    }
   ],
   "source": [
    "only = gp.Model(\"only\")\n",
    "only.setParam(\"MIPGap\", 1e-7)\n",
    "\n",
    "x = only.addVars(I, T, vtype=GRB.CONTINUOUS, lb=0, name=\"x\")\n",
    "yp = only.addVars(I, T, S, vtype=GRB.CONTINUOUS, lb=0, name=\"y_plus\")\n",
    "ym = only.addVars(I, T, S, vtype=GRB.CONTINUOUS, lb=0, name=\"y_minus\")\n",
    "z = only.addVars(I, T+1, S, vtype=GRB.CONTINUOUS, name=\"z\")\n",
    "zc = only.addVars(I, T, S, vtype=GRB.CONTINUOUS, name=\"z_charge\")\n",
    "zd = only.addVars(I, T, S, vtype=GRB.CONTINUOUS, name=\"z_discharge\")\n",
    "zeta = only.addVars(I, T, S, vtype=GRB.BINARY, name=\"zeta\")\n",
    "delta = only.addVars(I, T, S, vtype=GRB.BINARY, name=\"delta\")\n",
    "rho = only.addVars(I, T, S, vtype=GRB.BINARY, name=\"rho\")\n",
    "\n",
    "only.update()\n",
    "\n",
    "obj = gp.quicksum(P_DA[t] * x[i, t] for i, t in product(range(I), range(T))) \\\n",
    "    + gp.quicksum(1 / S * (P_RT[t, s] * yp[i, t, s] - P_PN[t] * ym[i, t, s]) for i, t, s in product(range(I), range(T), range(S)))\n",
    "\n",
    "only.setObjective(obj, GRB.MAXIMIZE)\n",
    "\n",
    "for i, t, s in product(range(I), range(T), range(S)):\n",
    "    only.addConstr(R[i, t, s] - x[i, t] == yp[i, t, s] - ym[i, t, s] + zc[i, t, s] - zd[i, t, s])\n",
    "    only.addConstr(yp[i, t, s] <= R[i, t, s])\n",
    "    only.addConstr(z[i, t + 1, s] == z[i, t, s] + zc[i, t, s] - zd[i, t, s])\n",
    "    only.addConstr(zd[i, t, s] <= z[i, t, s])\n",
    "    only.addConstr(zc[i, t, s] <= K[i] - z[i, t, s])\n",
    "    only.addConstr(yp[i, t, s] <= M1 * rho[i, t, s])\n",
    "    only.addConstr(ym[i, t, s] <= M1 * (1 - rho[i, t, s]))\n",
    "    only.addConstr(ym[i, t, s] <= M1 * delta[i, t, s])\n",
    "    only.addConstr(zc[i, t, s] <= M1 * (1 - delta[i, t, s]))\n",
    "    only.addConstr(zc[i, t, s] <= M1 * zeta[i, t, s])\n",
    "    only.addConstr(zd[i, t, s] <= M1 * (1 - zeta[i, t, s]))\n",
    "for i, s in product(range(I), range(S)):\n",
    "    only.addConstr(z[i, 0, s] == K0[i])\n",
    "\n",
    "only.optimize()\n",
    "\n",
    "if only.status == GRB.OPTIMAL:\n",
    "    print(f\"Optimal solution found! Objective value: {only.objVal}\")\n",
    "else:\n",
    "    print(\"No optimal solution found.\")\n",
    "\n",
    "x_vals = np.array([[x[i, t].X for t in range(T)] for i in range(I)])\n",
    "yp_vals = np.array([[[yp[i, t, s].X for s in range(S)] for t in range(T)] for i in range(I)]) \n",
    "ym_vals = np.array([[[ym[i, t, s].X for s in range(S)] for t in range(T)] for i in range(I)])\n",
    "z_vals  = np.array([[[z[i, t, s].X for s in range(S)] for t in range(T)] for i in range(I)])\n",
    "zc_vals = np.array([[[zc[i, t, s].X for s in range(S)] for t in range(T)] for i in range(I)])\n",
    "zd_vals = np.array([[[zd[i, t, s].X for s in range(S)] for t in range(T)] for i in range(I)])"
   ]
  },
  {
   "cell_type": "code",
   "execution_count": 3,
   "metadata": {},
   "outputs": [
    {
     "name": "stdout",
     "output_type": "stream",
     "text": [
      "[DISAGGREGATION MODEL]\n",
      "DA Profit      = 325808.73\n",
      "RT Profit      = 632891.02\n",
      "Penalty Cost   = 8414.30\n",
      "Total Profit   = 950285.45\n"
     ]
    }
   ],
   "source": [
    "da_profit = sum(P_DA[t] * x[i, t].X for i in range(I) for t in range(T))\n",
    "rt_profit = sum(P_RT[t, s] * yp[i, t, s].X / S for i in range(I) for t in range(T) for s in range(S))\n",
    "pn_cost   = sum(P_PN[t] * ym[i, t, s].X / S for i in range(I) for t in range(T) for s in range(S))\n",
    "total_profit = da_profit + rt_profit - pn_cost\n",
    "\n",
    "print(\"[DISAGGREGATION MODEL]\")\n",
    "print(f\"DA Profit      = {da_profit:.2f}\")\n",
    "print(f\"RT Profit      = {rt_profit:.2f}\")\n",
    "print(f\"Penalty Cost   = {pn_cost:.2f}\")\n",
    "print(f\"Total Profit   = {total_profit:.2f}\")"
   ]
  },
  {
   "cell_type": "code",
   "execution_count": 4,
   "metadata": {},
   "outputs": [
    {
     "name": "stdout",
     "output_type": "stream",
     "text": [
      "\n",
      "[ONLY MODEL] Day-Ahead Commitment (sum over DERs):\n",
      "TOTAL: 2126.14\n"
     ]
    },
    {
     "data": {
      "image/png": "[encoded data removed]",
      "text/plain": [
       "<Figure size 1000x500 with 1 Axes>"
      ]
     },
     "metadata": {},
     "output_type": "display_data"
    }
   ],
   "source": [
    "print(\"\\n[ONLY MODEL] Day-Ahead Commitment (sum over DERs):\")\n",
    "total_only_commit = 0\n",
    "for t in range(T):\n",
    "    commit_t = sum(x[i, t].X for i in range(I))\n",
    "    total_only_commit += commit_t\n",
    "    # print(f\"Time {t}: {commit_t:.2f}\")\n",
    "print(f\"TOTAL: {total_only_commit:.2f}\")\n",
    "\n",
    "plt.figure(figsize=(10, 5))\n",
    "plt.plot(range(T), x_vals.sum(axis=0), marker='o')\n",
    "plt.title(\"Total Day-Ahead Commitment Over Time\")\n",
    "plt.xlabel(\"Hour\")\n",
    "plt.ylabel(\"Total x\")\n",
    "plt.ylim(0,1500)\n",
    "plt.grid(True)\n",
    "plt.show()"
   ]
  },
  {
   "cell_type": "code",
   "execution_count": 5,
   "metadata": {},
   "outputs": [
    {
     "name": "stdout",
     "output_type": "stream",
     "text": [
      "[i=0, t=13, s=00]  R=284.25, x=0.00, y⁺=284.25, y⁻=0.00, zᶜ=0.00, zᴰ=0.00\n",
      "[i=0, t=13, s=01]  R=361.78, x=0.00, y⁺=361.78, y⁻=0.00, zᶜ=0.00, zᴰ=0.00\n",
      "[i=1, t=13, s=00]  R=112.40, x=0.00, y⁺=112.40, y⁻=0.00, zᶜ=0.00, zᴰ=0.00\n",
      "[i=1, t=13, s=01]  R=453.50, x=0.00, y⁺=453.50, y⁻=0.00, zᶜ=0.00, zᴰ=0.00\n",
      "[i=2, t=13, s=00]  R=131.93, x=0.00, y⁺=131.93, y⁻=0.00, zᶜ=0.00, zᴰ=0.00\n",
      "[i=2, t=13, s=01]  R=265.41, x=0.00, y⁺=265.41, y⁻=0.00, zᶜ=0.00, zᴰ=0.00\n",
      "[i=0, t=14, s=00]  R=129.09, x=96.65, y⁺=0.00, y⁻=0.00, zᶜ=32.44, zᴰ=0.00\n",
      "[i=0, t=14, s=01]  R=291.11, x=96.65, y⁺=102.36, y⁻=0.00, zᶜ=92.10, zᴰ=0.00\n",
      "[i=1, t=14, s=00]  R=85.11, x=291.63, y⁺=0.00, y⁻=106.52, zᶜ=0.00, zᴰ=100.00\n",
      "[i=1, t=14, s=01]  R=392.33, x=291.63, y⁺=0.71, y⁻=0.00, zᶜ=100.00, zᴰ=0.00\n",
      "[i=2, t=14, s=00]  R=189.28, x=289.28, y⁺=0.00, y⁻=0.00, zᶜ=0.00, zᴰ=100.00\n",
      "[i=2, t=14, s=01]  R=454.40, x=289.28, y⁺=65.12, y⁻=0.00, zᶜ=100.00, zᴰ=0.00\n"
     ]
    }
   ],
   "source": [
    "for t in range(13,15):\n",
    "    for i in range(I):\n",
    "        for s in range(0,2):\n",
    "            R_val  = R[i, t, s]\n",
    "            x_val  = x_vals[i, t]\n",
    "            yp_val = yp_vals[i, t, s]\n",
    "            ym_val = ym_vals[i, t, s]\n",
    "            zc_val = zc_vals[i, t, s]\n",
    "            zd_val = zd_vals[i, t, s]\n",
    "\n",
    "            lhs = R_val - x_val\n",
    "            rhs = yp_val - ym_val + zc_val - zd_val\n",
    "\n",
    "            print(f\"[i={i}, t={t:02d}, s={s:02d}]  R={R_val:.2f}, x={x_val:.2f}, y⁺={yp_val:.2f}, y⁻={ym_val:.2f}, zᶜ={zc_val:.2f}, zᴰ={zd_val:.2f}\")\n",
    "            # print(f\"                 LHS = {lhs:.2f}, RHS = {rhs:.2f}\")"
   ]
  },
  {
   "cell_type": "code",
   "execution_count": 6,
   "metadata": {},
   "outputs": [
    {
     "ename": "IndexError",
     "evalue": "index 4 is out of bounds for axis 2 with size 3",
     "output_type": "error",
     "traceback": [
      "\u001b[0;31m---------------------------------------------------------------------------\u001b[0m",
      "\u001b[0;31mIndexError\u001b[0m                                Traceback (most recent call last)",
      "Cell \u001b[0;32mIn[6], line 3\u001b[0m\n\u001b[1;32m      1\u001b[0m i\u001b[38;5;241m=\u001b[39m\u001b[38;5;241m0\u001b[39m\n\u001b[1;32m      2\u001b[0m s\u001b[38;5;241m=\u001b[39m\u001b[38;5;241m4\u001b[39m\n\u001b[0;32m----> 3\u001b[0m zc_single \u001b[38;5;241m=\u001b[39m \u001b[43mzc_vals\u001b[49m\u001b[43m[\u001b[49m\u001b[43mi\u001b[49m\u001b[43m,\u001b[49m\u001b[43m \u001b[49m\u001b[43m:\u001b[49m\u001b[43m,\u001b[49m\u001b[43m \u001b[49m\u001b[43ms\u001b[49m\u001b[43m]\u001b[49m  \n\u001b[1;32m      4\u001b[0m zd_single \u001b[38;5;241m=\u001b[39m zd_vals[i, :, s]\n\u001b[1;32m      5\u001b[0m z_single \u001b[38;5;241m=\u001b[39m z_vals[i, :, s]\n",
      "\u001b[0;31mIndexError\u001b[0m: index 4 is out of bounds for axis 2 with size 3"
     ]
    }
   ],
   "source": [
    "i=0\n",
    "s=4\n",
    "zc_single = zc_vals[i, :, s]  \n",
    "zd_single = zd_vals[i, :, s]\n",
    "z_single = z_vals[i, :, s]\n",
    "hours = np.arange(len(zc_single))\n",
    "\n",
    "plt.figure(figsize=(12, 5))\n",
    "# plt.step(hours, zc_single, where='post', label=f\"Charge (DER {i}, Scen {s})\", color = 'green', linestyle = \"--\", linewidth = 1.5)\n",
    "# plt.step(hours, zd_single, where='post', label=f\"Discharge (DER {i}, Scen {s})\", linestyle = \"--\", color = 'red')\n",
    "plt.step(hours, z_single, where='post', label=f\"SoC (DER {i}, Scen {s})\", color='#00821E', linewidth=2)\n",
    "plt.title(f\"[Only] Battery Charging/Discharging (DER {i}, Scenario {s})\")\n",
    "plt.xlabel(\"Hour\")\n",
    "plt.ylabel(\"Energy (kWh)\")\n",
    "plt.xticks(hours)\n",
    "plt.legend()\n",
    "plt.grid(True)\n",
    "plt.tight_layout()\n",
    "plt.show()"
   ]
  },
  {
   "cell_type": "code",
   "execution_count": null,
   "metadata": {},
   "outputs": [],
   "source": []
  }
 ],
 "metadata": {
  "kernelspec": {
   "display_name": "base",
   "language": "python",
   "name": "python3"
  },
  "language_info": {
   "codemirror_mode": {
    "name": "ipython",
    "version": 3
   },
   "file_extension": ".py",
   "mimetype": "text/x-python",
   "name": "python",
   "nbconvert_exporter": "python",
   "pygments_lexer": "ipython3",
   "version": "3.12.7"
  }
 },
 "nbformat": 4,
 "nbformat_minor": 2
}
