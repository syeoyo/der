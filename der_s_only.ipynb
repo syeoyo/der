{
 "cells": [
  {
   "cell_type": "code",
   "execution_count": 1,
   "metadata": {},
   "outputs": [
    {
     "name": "stdout",
     "output_type": "stream",
     "text": [
      "✅ 총 5개 파일을 불러왔습니다: 1201.csv, 137.csv, 401.csv, 524.csv, 89.csv\n",
      "📊 데이터 Shape: I=5, T=24, S=10\n",
      "✅ 시뮬레이션 초기화 완료: S=10, Randomness='high', M1=758.40, M2=1855.82\n"
     ]
    },
    {
     "name": "stderr",
     "output_type": "stream",
     "text": [
      "/Users/jangseohyun/Documents/workspace/symply/DER/functions.py:95: FutureWarning: 'H' is deprecated and will be removed in a future version, please use 'h' instead.\n",
      "  nyc_rt[\"Hour\"] = nyc_rt[\"Time Stamp\"].dt.floor(\"H\")\n"
     ]
    }
   ],
   "source": [
    "import pandas as pd\n",
    "import numpy as np\n",
    "import matplotlib.pyplot as plt\n",
    "import gurobipy as gp\n",
    "from gurobipy import GRB\n",
    "import os\n",
    "from itertools import product\n",
    "from functions import (load_parameters, load_generation_data, load_price_data, generate_randomized_generation,\n",
    "generate_rt_scenarios, plot_generation_data, plot_randomized_generation, plot_scenarios_for_generator, plot_rt_scenarios)\n",
    "\n",
    "generation_data, I, T = load_generation_data(date_filter=\"2022-07-18\")\n",
    "S, R, P_RT, K, K0, M1, M2 = load_parameters(I, T, generation_data)\n",
    "P_DA, P_PN = load_price_data()"
   ]
  },
  {
   "cell_type": "code",
   "execution_count": 3,
   "metadata": {},
   "outputs": [
    {
     "name": "stdout",
     "output_type": "stream",
     "text": [
      "Gurobi Optimizer version 12.0.1 build v12.0.1rc0 (mac64[arm] - Darwin 24.3.0 24D81)\n",
      "\n",
      "CPU model: Apple M3\n",
      "Thread count: 8 physical cores, 8 logical processors, using up to 8 threads\n",
      "\n",
      "Optimize a model with 10800 rows, 8520 columns and 26350 nonzeros\n",
      "Model fingerprint: 0x117b769b\n",
      "Variable types: 6120 continuous, 2400 integer (2400 binary)\n",
      "Coefficient statistics:\n",
      "  Matrix range     [1e+00, 8e+02]\n",
      "  Objective range  [5e+00, 2e+02]\n",
      "  Bounds range     [1e+00, 1e+00]\n",
      "  RHS range        [1e-01, 8e+02]\n",
      "Presolve removed 9480 rows and 7116 columns\n",
      "Presolve time: 0.08s\n",
      "Presolved: 1320 rows, 1404 columns, 3880 nonzeros\n",
      "Variable types: 1064 continuous, 340 integer (340 binary)\n",
      "Found heuristic solution: objective 1675095.9983\n",
      "\n",
      "Root relaxation: objective 1.709055e+06, 792 iterations, 0.00 seconds (0.00 work units)\n",
      "\n",
      "    Nodes    |    Current Node    |     Objective Bounds      |     Work\n",
      " Expl Unexpl |  Obj  Depth IntInf | Incumbent    BestBd   Gap | It/Node Time\n",
      "\n",
      "     0     0 1709055.42    0    2 1675096.00 1709055.42  2.03%     -    0s\n",
      "H    0     0                    1708765.7118 1709055.42  0.02%     -    0s\n",
      "\n",
      "Cutting planes:\n",
      "  MIR: 1\n",
      "  Flow cover: 6\n",
      "\n",
      "Explored 1 nodes (878 simplex iterations) in 0.11 seconds (0.12 work units)\n",
      "Thread count was 8 (of 8 available processors)\n",
      "\n",
      "Solution count 2: 1.70877e+06 1.6751e+06 \n",
      "\n",
      "Optimal solution found (tolerance 1.00e-04)\n",
      "Best objective 1.708765711809e+06, best bound 1.708765711809e+06, gap 0.0000%\n",
      "Optimal solution found! Objective value: 1708765.711809379\n"
     ]
    }
   ],
   "source": [
    "only = gp.Model(\"only\")\n",
    "# only.setParam(\"MIPGap\", 1e-7)\n",
    "\n",
    "x = only.addVars(I, T, vtype=GRB.CONTINUOUS, lb=0, name=\"x\")\n",
    "yp = only.addVars(I, T, S, vtype=GRB.CONTINUOUS, lb=0, name=\"y_plus\")\n",
    "ym = only.addVars(I, T, S, vtype=GRB.CONTINUOUS, lb=0, name=\"y_minus\")\n",
    "z = only.addVars(I, T, S, vtype=GRB.CONTINUOUS, name=\"z\")\n",
    "zc = only.addVars(I, T, S, vtype=GRB.CONTINUOUS, name=\"z_charge\")\n",
    "zd = only.addVars(I, T, S, vtype=GRB.CONTINUOUS, name=\"z_discharge\")\n",
    "zeta = only.addVars(I, T, S, vtype=GRB.BINARY, name=\"zeta\")\n",
    "delta = only.addVars(I, T, S, vtype=GRB.BINARY, name=\"delta\")\n",
    "\n",
    "only.update()\n",
    "\n",
    "obj = gp.quicksum(P_DA[t] * x[i, t] for i, t in product(range(I), range(T))) \\\n",
    "    + gp.quicksum(1 / S * (P_RT[t, s] * yp[i, t, s] - P_PN[t] * ym[i, t, s]) for i, t, s in product(range(I), range(T), range(S)))\n",
    "only.setObjective(obj, GRB.MAXIMIZE)\n",
    "\n",
    "for i, t, s in product(range(I), range(T), range(S)):\n",
    "    only.addConstr(R[i, t, s] - x[i, t] == yp[i, t, s] - ym[i, t, s] + zc[i, t, s] - zd[i, t, s])\n",
    "    only.addConstr(R[i, t, s] + zd[i, t, s] >= yp[i, t, s] + zc[i, t, s])\n",
    "    only.addConstr(ym[i, t, s] <= M1 * delta[i, t, s])\n",
    "    only.addConstr(zc[i, t, s] <= M1 * (1 - delta[i, t, s]))\n",
    "    only.addConstr(zc[i, t, s] <= M1 * zeta[i, t, s])\n",
    "    only.addConstr(zd[i, t, s] <= M1 * (1 - zeta[i, t, s]))\n",
    "    only.addConstr(z[i, t, s] <= K[i])\n",
    "    only.addConstr(z[i, t, s] >= 0)\n",
    "for i, s in product(range(I), range(S)):\n",
    "    only.addConstr(z[i, 0, s] == K0[i] + zc[i, 0, s] - zd[i, 0, s])\n",
    "for i, t, s in product(range(I), range(1, T), range(S)):\n",
    "    only.addConstr(z[i, t, s] == z[i, t - 1, s] + zc[i, t, s] - zd[i, t, s])\n",
    "\n",
    "only.optimize()\n",
    "\n",
    "if only.status == GRB.OPTIMAL:\n",
    "    print(f\"Optimal solution found! Objective value: {only.objVal}\")\n",
    "else:\n",
    "    print(\"No optimal solution found.\")"
   ]
  },
  {
   "cell_type": "code",
   "execution_count": 4,
   "metadata": {},
   "outputs": [
    {
     "name": "stdout",
     "output_type": "stream",
     "text": [
      "[DISAGGREGATION MODEL]\n",
      "DA Profit      = 200157.14\n",
      "RT Profit      = 1515686.89\n",
      "Penalty Cost   = 7078.31\n",
      "Total Profit   = 1708765.71\n"
     ]
    }
   ],
   "source": [
    "da_profit = sum(P_DA[t] * x[i, t].X for i in range(I) for t in range(T))\n",
    "rt_profit = sum(P_RT[t, s] * yp[i, t, s].X / S for i in range(I) for t in range(T) for s in range(S))\n",
    "pn_cost   = sum(P_PN[t] * ym[i, t, s].X / S for i in range(I) for t in range(T) for s in range(S))\n",
    "total_profit = da_profit + rt_profit - pn_cost\n",
    "\n",
    "print(\"[DISAGGREGATION MODEL]\")\n",
    "print(f\"DA Profit      = {da_profit:.2f}\")\n",
    "print(f\"RT Profit      = {rt_profit:.2f}\")\n",
    "print(f\"Penalty Cost   = {pn_cost:.2f}\")\n",
    "print(f\"Total Profit   = {total_profit:.2f}\")"
   ]
  },
  {
   "cell_type": "code",
   "execution_count": 5,
   "metadata": {},
   "outputs": [
    {
     "name": "stdout",
     "output_type": "stream",
     "text": [
      "\n",
      "[ONLY MODEL] Day-Ahead Commitment (sum over DERs):\n",
      "Time 0: 0.00\n",
      "Time 1: 0.00\n",
      "Time 2: 0.00\n",
      "Time 3: 0.00\n",
      "Time 4: 0.00\n",
      "Time 5: 0.00\n",
      "Time 6: 0.00\n",
      "Time 7: 0.00\n",
      "Time 8: 0.00\n",
      "Time 9: 48.21\n",
      "Time 10: 226.18\n",
      "Time 11: 0.00\n",
      "Time 12: 0.00\n",
      "Time 13: 0.00\n",
      "Time 14: 383.37\n",
      "Time 15: 0.00\n",
      "Time 16: 239.75\n",
      "Time 17: 0.00\n",
      "Time 18: 0.00\n",
      "Time 19: 342.65\n",
      "Time 20: 109.07\n",
      "Time 21: 32.50\n",
      "Time 22: 0.00\n",
      "Time 23: 0.00\n",
      "TOTAL: 1381.73\n"
     ]
    }
   ],
   "source": [
    "print(\"\\n[ONLY MODEL] Day-Ahead Commitment (sum over DERs):\")\n",
    "total_only_commit = 0\n",
    "for t in range(T):\n",
    "    commit_t = sum(x[i, t].X for i in range(I))\n",
    "    total_only_commit += commit_t\n",
    "    print(f\"Time {t}: {commit_t:.2f}\")\n",
    "print(f\"TOTAL: {total_only_commit:.2f}\")"
   ]
  }
 ],
 "metadata": {
  "kernelspec": {
   "display_name": "Python 3",
   "language": "python",
   "name": "python3"
  },
  "language_info": {
   "codemirror_mode": {
    "name": "ipython",
    "version": 3
   },
   "file_extension": ".py",
   "mimetype": "text/x-python",
   "name": "python",
   "nbconvert_exporter": "python",
   "pygments_lexer": "ipython3",
   "version": "3.9.6"
  }
 },
 "nbformat": 4,
 "nbformat_minor": 2
}
