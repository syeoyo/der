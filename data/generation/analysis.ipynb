{
 "cells": [
  {
   "cell_type": "code",
   "execution_count": 3,
   "metadata": {},
   "outputs": [],
   "source": [
    "import pandas as pd\n",
    "import numpy as np\n",
    "import matplotlib.pyplot as plt\n",
    "import os"
   ]
  },
  {
   "cell_type": "code",
   "execution_count": 8,
   "metadata": {},
   "outputs": [],
   "source": [
    "def load_generation_data(selected_files=None):\n",
    "    # data/generation 디렉토리 경로\n",
    "    data_dir = '/Users/jangseohyun/Documents/workspace/symply/DER/data/generation'\n",
    "    \n",
    "    # 디렉토리 내의 모든 CSV 파일 목록 가져오기\n",
    "    all_files = sorted([f for f in os.listdir(data_dir) if f.endswith('.csv')])\n",
    "    \n",
    "    # 불러올 파일 선택\n",
    "    files_to_load = all_files if selected_files is None else selected_files\n",
    "    \n",
    "    # 선택된 파일들 불러오기\n",
    "    data_frames = {}\n",
    "    loaded_files = []\n",
    "    for file in files_to_load:\n",
    "        file_path = os.path.join(data_dir, file)\n",
    "        df = pd.read_csv(file_path)\n",
    "        data_frames[file] = df\n",
    "        loaded_files.append(file)\n",
    "    print(f\"총 {len(loaded_files)}개를 불러왔습니다 ({', '.join(loaded_files)})\")\n",
    "    \n",
    "    return data_frames"
   ]
  },
  {
   "cell_type": "code",
   "execution_count": 35,
   "metadata": {},
   "outputs": [],
   "source": [
    "def plot_daily_generation(data_frames, selected_dates=None):\n",
    "    # 첫 번째 데이터를 기준으로 날짜 목록 가져오기\n",
    "    first_df = list(data_frames.values())[0]\n",
    "    dates_array = np.array(first_df['Date'].unique())\n",
    "    \n",
    "    if selected_dates is None:\n",
    "        # 사용 가능한 날짜 목록 출력\n",
    "        print(\"사용 가능한 날짜 목록:\")\n",
    "        for i, date in enumerate(dates_array):\n",
    "            print(f\"{i}: {date}\")\n",
    "        \n",
    "        # 사용자 입력 받기\n",
    "        print(\"\\n플랏할 날짜 번호를 선택하세요 (여러 개인 경우 쉼표로 구분):\")\n",
    "        selected_indices = input().strip().split(',')\n",
    "        selected_dates = dates_array[[int(idx.strip()) for idx in selected_indices]]\n",
    "    else:\n",
    "        # selected_dates가 정수인 경우 해당 인덱스의 날짜로 변환\n",
    "        if isinstance(selected_dates, int):\n",
    "            selected_dates = [dates_array[selected_dates]]\n",
    "    \n",
    "    # 각 선택된 날짜별로 플랏\n",
    "    for date in selected_dates:\n",
    "        plt.figure(figsize=(12, 6))\n",
    "        \n",
    "        # 각 발전기(CSV 파일)별로 플랏\n",
    "        for file_name, df in data_frames.items():\n",
    "            # 해당 날짜의 데이터만 선택\n",
    "            mask = df['Date'] == date\n",
    "            daily_hours = df[mask]['Hour'].to_numpy()\n",
    "            daily_generation = df[mask]['Electricity Generated'].to_numpy()\n",
    "            \n",
    "            # 발전량 플랏\n",
    "            label = f'DER {file_name.split(\".\")[0]}'\n",
    "            plt.plot(daily_hours, daily_generation, label=label, marker='o')\n",
    "        \n",
    "        plt.title(f'Daily Generation - {date}')\n",
    "        plt.xlabel('Hour')\n",
    "        plt.ylabel('Electricity Generated (kW)')\n",
    "        plt.legend(bbox_to_anchor=(1.05, 1), loc='upper left')\n",
    "        plt.grid(False)\n",
    "        plt.xticks(range(0, 24))\n",
    "        plt.tight_layout()\n",
    "        plt.show()"
   ]
  },
  {
   "cell_type": "code",
   "execution_count": 59,
   "metadata": {},
   "outputs": [],
   "source": [
    "def plot_daily_generation(data_frames, selected_dates=None):\n",
    "    # 첫 번째 데이터를 기준으로 날짜 목록 가져오기\n",
    "    first_df = list(data_frames.values())[0]\n",
    "    dates_array = np.array(first_df['Date'].unique())\n",
    "    \n",
    "    # selected_dates 처리\n",
    "    if selected_dates is None:\n",
    "        # None이면 모든 날짜 사용\n",
    "        dates_to_plot = dates_array\n",
    "    elif isinstance(selected_dates, (int, np.integer)):\n",
    "        # 숫자 하나만 입력한 경우\n",
    "        dates_to_plot = [dates_array[selected_dates]]\n",
    "    elif isinstance(selected_dates, list):\n",
    "        # 날짜 리스트를 입력한 경우\n",
    "        dates_to_plot = [dates_array[i] for i in selected_dates]\n",
    "    else:\n",
    "        raise ValueError(\"selected_dates must be None, int, or list of ints\")\n",
    "    \n",
    "    # 각 선택된 날짜별로 플랏\n",
    "    for date in dates_to_plot:\n",
    "        plt.figure(figsize=(12, 6))\n",
    "        \n",
    "        # 각 발전기(CSV 파일)별로 플랏\n",
    "        for file_name, df in data_frames.items():\n",
    "            # 해당 날짜의 데이터만 선택\n",
    "            mask = df['Date'] == date\n",
    "            daily_hours = df[mask]['Hour (Eastern Time, Daylight-Adjusted)'].to_numpy()\n",
    "            daily_generation = df[mask]['Electricity Generated'].to_numpy()\n",
    "            \n",
    "            # 발전량 플랏\n",
    "            label = f'DER {file_name.split(\".\")[0]}'\n",
    "            plt.plot(daily_hours, daily_generation, label=label, marker='o')\n",
    "        \n",
    "        plt.title(f'Daily Generation - {date}')\n",
    "        plt.xlabel('Hour')\n",
    "        plt.ylabel('Electricity Generated (kW)')\n",
    "        plt.legend(bbox_to_anchor=(1.05, 1), loc='upper left')\n",
    "        plt.grid(False)\n",
    "        plt.xticks(range(0, 24))\n",
    "        plt.yticks([])\n",
    "        plt.tight_layout()\n",
    "        plt.show()\n"
   ]
  },
  {
   "cell_type": "code",
   "execution_count": null,
   "metadata": {},
   "outputs": [
    {
     "ename": "TypeError",
     "evalue": "'int' object is not iterable",
     "output_type": "error",
     "traceback": [
      "\u001b[0;31m---------------------------------------------------------------------------\u001b[0m",
      "\u001b[0;31mTypeError\u001b[0m                                 Traceback (most recent call last)",
      "Cell \u001b[0;32mIn[63], line 1\u001b[0m\n\u001b[0;32m----> 1\u001b[0m data \u001b[38;5;241m=\u001b[39m \u001b[43mload_generation_data\u001b[49m\u001b[43m(\u001b[49m\u001b[38;5;241;43m89\u001b[39;49m\u001b[43m)\u001b[49m\n\u001b[1;32m      2\u001b[0m plot_daily_generation(data, [\u001b[38;5;241m5\u001b[39m, \u001b[38;5;241m14\u001b[39m, \u001b[38;5;241m17\u001b[39m, \u001b[38;5;241m18\u001b[39m, \u001b[38;5;241m19\u001b[39m, \u001b[38;5;241m24\u001b[39m, \u001b[38;5;241m25\u001b[39m, \u001b[38;5;241m29\u001b[39m, \u001b[38;5;241m30\u001b[39m, \u001b[38;5;241m31\u001b[39m])\n",
      "Cell \u001b[0;32mIn[8], line 14\u001b[0m, in \u001b[0;36mload_generation_data\u001b[0;34m(selected_files)\u001b[0m\n\u001b[1;32m     12\u001b[0m data_frames \u001b[38;5;241m=\u001b[39m {}\n\u001b[1;32m     13\u001b[0m loaded_files \u001b[38;5;241m=\u001b[39m []\n\u001b[0;32m---> 14\u001b[0m \u001b[43m\u001b[49m\u001b[38;5;28;43;01mfor\u001b[39;49;00m\u001b[43m \u001b[49m\u001b[43mfile\u001b[49m\u001b[43m \u001b[49m\u001b[38;5;129;43;01min\u001b[39;49;00m\u001b[43m \u001b[49m\u001b[43mfiles_to_load\u001b[49m\u001b[43m:\u001b[49m\n\u001b[1;32m     15\u001b[0m \u001b[43m    \u001b[49m\u001b[43mfile_path\u001b[49m\u001b[43m \u001b[49m\u001b[38;5;241;43m=\u001b[39;49m\u001b[43m \u001b[49m\u001b[43mos\u001b[49m\u001b[38;5;241;43m.\u001b[39;49m\u001b[43mpath\u001b[49m\u001b[38;5;241;43m.\u001b[39;49m\u001b[43mjoin\u001b[49m\u001b[43m(\u001b[49m\u001b[43mdata_dir\u001b[49m\u001b[43m,\u001b[49m\u001b[43m \u001b[49m\u001b[43mfile\u001b[49m\u001b[43m)\u001b[49m\n\u001b[1;32m     16\u001b[0m \u001b[43m    \u001b[49m\u001b[43mdf\u001b[49m\u001b[43m \u001b[49m\u001b[38;5;241;43m=\u001b[39;49m\u001b[43m \u001b[49m\u001b[43mpd\u001b[49m\u001b[38;5;241;43m.\u001b[39;49m\u001b[43mread_csv\u001b[49m\u001b[43m(\u001b[49m\u001b[43mfile_path\u001b[49m\u001b[43m)\u001b[49m\n",
      "\u001b[0;31mTypeError\u001b[0m: 'int' object is not iterable"
     ]
    }
   ],
   "source": [
    "data = load_generation_data()\n",
    "plot_daily_generation(data, [5, 14, 17, 18, 19, 24, 25, 29, 30, 31])\n"
   ]
  }
 ],
 "metadata": {
  "kernelspec": {
   "display_name": "base",
   "language": "python",
   "name": "python3"
  },
  "language_info": {
   "codemirror_mode": {
    "name": "ipython",
    "version": 3
   },
   "file_extension": ".py",
   "mimetype": "text/x-python",
   "name": "python",
   "nbconvert_exporter": "python",
   "pygments_lexer": "ipython3",
   "version": "3.12.7"
  }
 },
 "nbformat": 4,
 "nbformat_minor": 2
}
