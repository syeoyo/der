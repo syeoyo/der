{
 "cells": [
  {
   "cell_type": "code",
   "execution_count": 1,
   "metadata": {},
   "outputs": [
    {
     "name": "stdout",
     "output_type": "stream",
     "text": [
      "✅ 총 5개 파일을 불러왔습니다: 1201.csv, 137.csv, 401.csv, 524.csv, 89.csv\n",
      "📊 데이터 Shape: I=5, T=24, S=3\n",
      "✅ 시뮬레이션 초기화 완료: S=3, Randomness='high', M1=640.00, M2=1805.00\n"
     ]
    }
   ],
   "source": [
    "import pandas as pd\n",
    "import numpy as np\n",
    "import matplotlib.pyplot as plt\n",
    "import gurobipy as gp\n",
    "from gurobipy import GRB\n",
    "import os\n",
    "from itertools import product\n",
    "from functions import (load_parameters, load_generation_data, load_price_data, generate_randomized_generation,\n",
    "generate_rt_scenarios, plot_generation_data, plot_randomized_generation, plot_scenarios_for_generator, plot_rt_scenarios)\n",
    "\n",
    "generation_data, I, T = load_generation_data(date_filter=\"2022-07-18\")\n",
    "S, R, P_RT, K, K0, M1, M2 = load_parameters(I, T, generation_data)\n",
    "P_DA, P_PN = load_price_data()"
   ]
  },
  {
   "cell_type": "markdown",
   "metadata": {},
   "source": [
    "### 모델 DER Aggregation "
   ]
  },
  {
   "cell_type": "code",
   "execution_count": 2,
   "metadata": {},
   "outputs": [
    {
     "name": "stdout",
     "output_type": "stream",
     "text": [
      "Set parameter Username\n",
      "Set parameter LicenseID to value 2611964\n",
      "Academic license - for non-commercial use only - expires 2026-01-20\n",
      "Set parameter MIPGap to value 1e-05\n"
     ]
    }
   ],
   "source": [
    "only_profit = np.array(pd.read_csv(\"result/result_only_profit.csv\"))\n",
    "agg = gp.Model(\"agg\")\n",
    "# agg.Params.OutputFlag = 0\n",
    "agg.Params.MIPGap = 0.00001  # MIP gap을 1%로 설정\n",
    "\n",
    "\n",
    "alpha = agg.addVars(T, vtype=GRB.CONTINUOUS, lb=0, name=\"alpha\")\n",
    "beta_plus = agg.addVars(T, S, vtype=GRB.CONTINUOUS, lb=0, name=\"beta_plus\")\n",
    "beta_minus = agg.addVars(T, S, vtype=GRB.CONTINUOUS, lb=0, name=\"beta_minus\")\n",
    "\n",
    "M = max(sum(R[i, t, s] for i in range(I)) for t in range(T) for s in range(S))\n",
    "z = agg.addVars(T, S, vtype=GRB.BINARY, name=\"z\")\n",
    "prob = np.array([1 / S for s in range(S)])\n",
    "\n",
    "agg.update()\n",
    "\n",
    "obj = gp.quicksum(P_DA[t] * alpha[t] for t in range(T)) + gp.quicksum(\n",
    "    prob[s] * (P_RT[t, s] * beta_plus[t, s] - P_PN[t] * beta_minus[t, s])\n",
    "    for t in range(T)\n",
    "    for s in range(S)\n",
    ")\n",
    "\n",
    "agg.setObjective(obj, GRB.MAXIMIZE)\n",
    "\n",
    "for t in range(T):\n",
    "    for s in range(S):\n",
    "        agg.addConstr(\n",
    "            gp.quicksum(R[i, t, s] for i in range(I)) - alpha[t]\n",
    "            == beta_plus[t, s] - beta_minus[t, s]\n",
    "        )\n",
    "\n",
    "for t in range(T):\n",
    "    for s in range(S):\n",
    "        agg.addConstr(gp.quicksum(R[i, t, s] for i in range(I)) >= beta_plus[t, s])\n",
    "\n",
    "for t in range(T):\n",
    "    for s in range(S):\n",
    "        agg.addConstr(beta_plus[t, s] <= M * z[t, s])\n",
    "        agg.addConstr(beta_minus[t, s] <= M * (1 - z[t, s]))\n",
    "\n",
    "agg.optimize()\n",
    "\n",
    "if agg.status == GRB.OPTIMAL:\n",
    "    print(\"Optimal solution found!\")\n",
    "    print(f\"Objective value: {agg.objVal}\")\n",
    "else:\n",
    "    print(\"No optimal solution found.\")"
   ]
  },
  {
   "cell_type": "markdown",
   "metadata": {},
   "source": [
    "### 결과 분석"
   ]
  },
  {
   "cell_type": "markdown",
   "metadata": {},
   "source": [
    "#### 수익 분석"
   ]
  },
  {
   "cell_type": "code",
   "execution_count": 4,
   "metadata": {},
   "outputs": [
    {
     "name": "stdout",
     "output_type": "stream",
     "text": [
      "DA: 560779.62\n",
      "RT: 1138504.90\n",
      "Penalty: 61530.76\n",
      "목적 함수 기반 총 이익: 1637753.76\n"
     ]
    }
   ],
   "source": [
    "# Day-ahead 수익 계산\n",
    "total_da_profit_obj = 0\n",
    "for t in range(T):\n",
    "    total_da_profit_obj += P_DA[t] * alpha[t].x  \n",
    "\n",
    "# Real-time 수익 계산\n",
    "total_rt_profit_obj = 0\n",
    "for t in range(T):\n",
    "    for s in range(S):\n",
    "        rt_profit_obj = P_RT[t, s] * beta_plus[t, s].x  \n",
    "        total_rt_profit_obj += prob[s] * rt_profit_obj\n",
    "\n",
    "# Penalty 비용 계산\n",
    "total_penalty_cost_obj = 0\n",
    "for t in range(T):\n",
    "    for s in range(S):\n",
    "        penalty_cost_obj = P_PN[t] * beta_minus[t, s].x\n",
    "        total_penalty_cost_obj += prob[s] * penalty_cost_obj\n",
    "\n",
    "# 총 시스템 이익 (목적 함수 기반)\n",
    "total_system_profit_obj = total_da_profit_obj + total_rt_profit_obj - total_penalty_cost_obj\n",
    "\n",
    "# 결과 출력\n",
    "print(f\"DA: {total_da_profit_obj:.2f}\")\n",
    "print(f\"RT: {total_rt_profit_obj:.2f}\")\n",
    "print(f\"Penalty: {total_penalty_cost_obj:.2f}\")\n",
    "print(f\"목적 함수 기반 총 이익: {total_system_profit_obj:.2f}\")"
   ]
  },
  {
   "cell_type": "markdown",
   "metadata": {},
   "source": [
    "#### 하루 aggregated 커밋량 분석"
   ]
  },
  {
   "cell_type": "code",
   "execution_count": 9,
   "metadata": {},
   "outputs": [
    {
     "name": "stdout",
     "output_type": "stream",
     "text": [
      "[시간 0] alpha: 0.0, beta+: 0.0, beta-: 0.0\n",
      "[시간 1] alpha: 0.0, beta+: 0.0, beta-: 0.0\n",
      "[시간 2] alpha: 0.0, beta+: 0.0, beta-: 0.0\n",
      "[시간 3] alpha: 0.0, beta+: 0.0, beta-: 0.0\n",
      "[시간 4] alpha: 0.0, beta+: 0.7, beta-: 0.0\n",
      "[시간 5] alpha: 0.0, beta+: 0.0, beta-: 0.0\n",
      "[시간 6] alpha: 3.0, beta+: 0.7, beta-: 0.7\n",
      "[시간 7] alpha: 8.0, beta+: 2.7, beta-: 0.0\n",
      "[시간 8] alpha: 58.0, beta+: 0.3, beta-: 12.0\n",
      "[시간 9] alpha: 179.0, beta+: 16.3, beta-: 8.0\n",
      "[시간 10] alpha: 432.0, beta+: 83.7, beta-: 0.0\n",
      "[시간 11] alpha: 0.0, beta+: 543.3, beta-: 0.0\n",
      "[시간 12] alpha: 0.0, beta+: 934.3, beta-: 0.0\n",
      "[시간 13] alpha: 0.0, beta+: 1461.7, beta-: 0.0\n",
      "[시간 14] alpha: 1446.0, beta+: 119.7, beta-: 243.7\n",
      "[시간 15] alpha: 0.0, beta+: 989.0, beta-: 0.0\n",
      "[시간 16] alpha: 640.0, beta+: 153.0, beta-: 0.0\n",
      "[시간 17] alpha: 0.0, beta+: 775.7, beta-: 0.0\n",
      "[시간 18] alpha: 563.0, beta+: 21.3, beta-: 0.0\n",
      "[시간 19] alpha: 317.0, beta+: 145.7, beta-: 0.0\n",
      "[시간 20] alpha: 65.0, beta+: 23.7, beta-: 0.0\n",
      "[시간 21] alpha: 27.0, beta+: 1.0, beta-: 1.0\n",
      "[시간 22] alpha: 0.0, beta+: 0.0, beta-: 0.0\n",
      "[시간 23] alpha: 0.0, beta+: 0.0, beta-: 0.0\n",
      "총 하루 commitment: 3738.0\n"
     ]
    }
   ],
   "source": [
    "# 각 시간대 t에 대한 평균 alpha, beta+ 및 beta- 계산 및 출력\n",
    "for t in range(T):\n",
    "    avg_alpha = alpha[t].x  # alpha[t]의 최적화 값\n",
    "    avg_beta_plus = sum(beta_plus[t, s].x for s in range(S)) / S  # beta_plus의 평균\n",
    "    avg_beta_minus = sum(beta_minus[t, s].x for s in range(S)) / S  # beta_minus의 평균\n",
    "\n",
    "    print(f\"[시간 {t}] alpha: {avg_alpha:.1f}, beta+: {avg_beta_plus:.1f}, beta-: {avg_beta_minus:.1f}\")\n",
    "\n",
    "# alpha 값의 총합 출력\n",
    "total_alpha = sum(alpha[t].x for t in range(T))\n",
    "print(f\"총 하루 commitment: {total_alpha:.1f}\")"
   ]
  },
  {
   "cell_type": "markdown",
   "metadata": {},
   "source": [
    "### 사후정산"
   ]
  },
  {
   "cell_type": "code",
   "execution_count": 10,
   "metadata": {},
   "outputs": [
    {
     "name": "stdout",
     "output_type": "stream",
     "text": [
      "Surplus 분배 결과:\n",
      "[0]: 1413.00\n",
      "[1]: 1430.17\n",
      "[2]: 1438.11\n",
      "[3]: 1485.18\n",
      "[4]: 1460.34\n",
      "\n",
      "최종 Profit:\n",
      "[0] 223932.57 (0.64%)\n",
      "[1] 332341.27 (0.43%)\n",
      "[2] 369936.39 (0.39%)\n",
      "[3] 544194.10 (0.27%)\n",
      "[4] 167349.43 (0.88%)\n"
     ]
    }
   ],
   "source": [
    "only_value = pd.read_csv('result/result_only_obj.csv').values\n",
    "only_profit = pd.read_csv('result/result_only_profit.csv').values\n",
    "surplus = agg.objVal - only_value[0] #\n",
    "\n",
    "I, T, S = R.shape\n",
    "\n",
    "R_proportion = R / R.sum(axis=1, keepdims=True) \n",
    "R_proportion = np.nan_to_num(R_proportion) \n",
    "\n",
    "R_proportion_P = np.multiply(R_proportion, P_DA[:, np.newaxis])\n",
    "\n",
    "R_weighted = R_proportion_P.sum(axis=(1, 2)) \n",
    "\n",
    "R_weighted_normalized = R_weighted / R_weighted.sum() \n",
    "\n",
    "surplus_distribution = surplus * R_weighted_normalized  \n",
    "\n",
    "final_profit = only_profit.flatten() + surplus_distribution\n",
    "\n",
    "print(\"Surplus 분배 결과:\")\n",
    "for i, value in enumerate(surplus_distribution):\n",
    "    print(f\"[{i}]: {value:.2f}\")\n",
    "\n",
    "print(\"\\n최종 Profit:\")\n",
    "for i, (profit, only) in enumerate(zip(final_profit, only_profit.flatten())):\n",
    "    increase_percentage = ((profit - only) / only) * 100\n",
    "    print(f\"[{i}] {profit:.2f} ({increase_percentage:.2f}%)\")"
   ]
  },
  {
   "cell_type": "markdown",
   "metadata": {},
   "source": [
    "### 결과 저장"
   ]
  },
  {
   "cell_type": "code",
   "execution_count": 11,
   "metadata": {},
   "outputs": [],
   "source": [
    "alpha_df = pd.DataFrame({\n",
    "    'alpha': [alpha[t].x for t in range(T)]\n",
    "})\n",
    "alpha_df.to_csv('result/result_base_alpha.csv', index=False)\n",
    "\n",
    "# # beta_plus 저장\n",
    "# beta_plus_df = pd.DataFrame(\n",
    "#     [[beta_plus[t,s].x for s in range(S)] \n",
    "#      for t in range(T)],\n",
    "#     columns=[f'S{s}' for s in range(S)]\n",
    "# )\n",
    "# beta_plus_df.to_csv('result_beta_plus.csv', index=False)\n",
    "\n",
    "# # beta_minus 저장\n",
    "# beta_minus_df = pd.DataFrame(\n",
    "#     [[beta_minus[t,s].x for s in range(S)] \n",
    "#      for t in range(T)],\n",
    "#     columns=[f'S{s}' for s in range(S)]\n",
    "# )\n",
    "# beta_minus_df.to_csv('result_beta_minus.csv', index=False)"
   ]
  },
  {
   "cell_type": "code",
   "execution_count": 12,
   "metadata": {},
   "outputs": [],
   "source": [
    "agg_profit_value = pd.DataFrame({'agg_profit_value': final_profit})\n",
    "agg_profit_value.to_csv('result/result_agg_profit.csv', index=False)\n",
    "\n",
    "agg_obj = pd.DataFrame({'agg_obj': [agg.objVal]})\n",
    "agg_obj.to_csv('result/result_agg_obj.csv', index=False)"
   ]
  }
 ],
 "metadata": {
  "kernelspec": {
   "display_name": "Python 3",
   "language": "python",
   "name": "python3"
  },
  "language_info": {
   "codemirror_mode": {
    "name": "ipython",
    "version": 3
   },
   "file_extension": ".py",
   "mimetype": "text/x-python",
   "name": "python",
   "nbconvert_exporter": "python",
   "pygments_lexer": "ipython3",
   "version": "3.9.6"
  }
 },
 "nbformat": 4,
 "nbformat_minor": 2
}
