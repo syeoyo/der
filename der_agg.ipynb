{
 "cells": [
  {
   "cell_type": "markdown",
   "metadata": {},
   "source": [
    "### data"
   ]
  },
  {
   "cell_type": "code",
   "execution_count": 22,
   "metadata": {},
   "outputs": [],
   "source": [
    "import pandas as pd\n",
    "import numpy as np\n",
    "import matplotlib.pyplot as plt\n",
    "import gurobipy as gp\n",
    "from gurobipy import GRB"
   ]
  },
  {
   "cell_type": "code",
   "execution_count": 23,
   "metadata": {},
   "outputs": [],
   "source": [
    "generation_q = pd.read_csv(\n",
    "    \"/Users/jangseohyun/Documents/workspace/symply/DER/DATA_generation.csv\"\n",
    ")\n",
    "demand_q = pd.read_csv(\n",
    "    \"/Users/jangseohyun/Documents/workspace/symply/DER/DATA_demand.csv\"\n",
    ")\n",
    "price_q = pd.read_csv(\n",
    "    \"/Users/jangseohyun/Documents/workspace/symply/DER/DATA_price.csv\"\n",
    ")"
   ]
  },
  {
   "cell_type": "code",
   "execution_count": 25,
   "metadata": {},
   "outputs": [],
   "source": [
    "generation_q[\"Time\"] = pd.to_datetime(generation_q[\"Time\"], format=\"%Y-%m-%d %H:%M\")\n",
    "generation_q[\"Hour\"] = generation_q[\"Time\"].dt.floor(\"h\")\n",
    "generation_h = generation_q.groupby(\"Hour\").sum(numeric_only=True)\n",
    "\n",
    "\n",
    "demand_q[\"Time\"] = pd.to_datetime(demand_q[\"Time\"], format=\"%Y-%m-%d %H:%M\")\n",
    "demand_q[\"Hour\"] = demand_q[\"Time\"].dt.floor(\"h\")\n",
    "demand_h = demand_q.groupby(\"Hour\").sum(numeric_only=True)\n",
    "\n",
    "price_q[\"Time\"] = pd.to_datetime(price_q[\"Time\"], format=\"%Y-%m-%d %H:%M\")"
   ]
  },
  {
   "cell_type": "markdown",
   "metadata": {},
   "source": [
    "### Set"
   ]
  },
  {
   "cell_type": "code",
   "execution_count": 26,
   "metadata": {},
   "outputs": [],
   "source": [
    "I = list(range(len(generation_q.columns) - 11))\n",
    "T = list(generation_h.index.hour.unique())\n",
    "S = list(range(20))\n",
    "prob = np.array([1 / len(S) for s in S])"
   ]
  },
  {
   "cell_type": "markdown",
   "metadata": {},
   "source": [
    "### 데이터 전처리"
   ]
  },
  {
   "cell_type": "markdown",
   "metadata": {},
   "source": [
    "#### Generation"
   ]
  },
  {
   "cell_type": "code",
   "execution_count": 27,
   "metadata": {},
   "outputs": [],
   "source": [
    "generation_avg = np.array(\n",
    "    [[generation_h[generation_h.index.hour == t].mean().iloc[i] for t in T] for i in I]\n",
    ")\n",
    "\n",
    "\n",
    "def generate_randomized_generation(I, T, S, generation_avg, randomness_level):\n",
    "    np.random.seed(7)\n",
    "    if randomness_level == \"low\":\n",
    "        noise_factors = np.random.uniform(0.8, 1.2, size=(len(I), len(T), len(S)))\n",
    "    elif randomness_level == \"medium\":\n",
    "        noise_factors = np.random.uniform(0.5, 1.5, size=(len(I), len(T), len(S)))\n",
    "    elif randomness_level == \"high\":\n",
    "        noise_factors = np.random.uniform(0.2, 1.8, size=(len(I), len(T), len(S)))\n",
    "    elif randomness_level == \"none\":\n",
    "        noise_factors = np.random.uniform(1, 1.1, size=(len(I), len(T), len(S)))\n",
    "    else:\n",
    "        raise ValueError(\n",
    "            \"Invalid randomness level. Please choose 'low', 'medium', or 'high'.\"\n",
    "        )\n",
    "\n",
    "    generation_r = np.zeros((len(I), len(T), len(S)))\n",
    "    for i in range(len(I)):\n",
    "        for t in range(len(T)):\n",
    "            for s in range(len(S)):\n",
    "                generation_r[i, t, s] = generation_avg[i, t] * noise_factors[i, t, s]\n",
    "\n",
    "    return generation_r"
   ]
  },
  {
   "cell_type": "markdown",
   "metadata": {},
   "source": [
    "#### Demand"
   ]
  },
  {
   "cell_type": "code",
   "execution_count": 28,
   "metadata": {},
   "outputs": [],
   "source": [
    "demand_avg = np.array(\n",
    "    [[demand_h[demand_h.index.hour == t].mean().iloc[i] for t in T] for i in I]\n",
    ")\n",
    "\n",
    "\n",
    "def generate_randomized_demand(I, T, S, demand_avg, randomness_level):\n",
    "    np.random.seed(17)\n",
    "    if randomness_level == \"low\":\n",
    "        noise_factors = np.random.uniform(0.8, 1.2, size=(len(I), len(T), len(S)))\n",
    "    elif randomness_level == \"medium\":\n",
    "        noise_factors = np.random.uniform(0.5, 1.5, size=(len(I), len(T), len(S)))\n",
    "    elif randomness_level == \"high\":\n",
    "        noise_factors = np.random.uniform(0.2, 1.8, size=(len(I), len(T), len(S)))\n",
    "    elif randomness_level == \"none\":\n",
    "        noise_factors = np.random.uniform(1, 1.1, size=(len(I), len(T), len(S)))\n",
    "    else:\n",
    "        raise ValueError(\n",
    "            \"Invalid randomness level. Please choose 'low', 'medium', or 'high'.\"\n",
    "        )\n",
    "\n",
    "    demand_r = np.zeros((len(I), len(T), len(S)))\n",
    "    for i in range(len(I)):\n",
    "        for t in range(len(T)):\n",
    "            for s in range(len(S)):\n",
    "                demand_r[i, t, s] = demand_avg[i, t] * noise_factors[i, t, s]\n",
    "\n",
    "    return demand_r"
   ]
  },
  {
   "cell_type": "markdown",
   "metadata": {},
   "source": [
    "#### Randomize"
   ]
  },
  {
   "cell_type": "code",
   "execution_count": 29,
   "metadata": {},
   "outputs": [],
   "source": [
    "random_key = \"high\""
   ]
  },
  {
   "cell_type": "code",
   "execution_count": 30,
   "metadata": {},
   "outputs": [],
   "source": [
    "generation_r = generate_randomized_generation(I, T, S, generation_avg, random_key)\n",
    "demand_r = generate_randomized_demand(I, T, S, demand_avg, random_key)"
   ]
  },
  {
   "cell_type": "markdown",
   "metadata": {},
   "source": [
    "#### Residual = generation - demand"
   ]
  },
  {
   "cell_type": "code",
   "execution_count": 31,
   "metadata": {},
   "outputs": [],
   "source": [
    "residual = np.zeros((len(I), len(T), len(S)))\n",
    "for i in range(len(I)):\n",
    "    for t in range(len(T)):\n",
    "        for s in range(len(S)):\n",
    "            residual[i, t, s] = generation_r[i, t, s] - demand_r[i, t, s]\n",
    "\n",
    "R = np.zeros((len(I), len(T), len(S)))\n",
    "for i in range(len(I)):\n",
    "    for t in range(len(T)):\n",
    "        for s in range(len(S)):\n",
    "            R[i, t, s] = max(0, residual[i, t, s])"
   ]
  },
  {
   "cell_type": "code",
   "execution_count": 32,
   "metadata": {},
   "outputs": [],
   "source": [
    "# def plot_R_for_multiple_i(i_indices, R, s_idx=10):\n",
    "#     \"\"\"\n",
    "#     여러 i_index에 대한 R 값을 시간(0~24시) 기준으로 겹쳐서 플롯하는 함수\n",
    "\n",
    "#     Parameters:\n",
    "#     - i_indices: 리스트 형태로 선택할 I 인덱스들을 지정\n",
    "#     - R: 계산된 R 배열 (I, T, S 차원)\n",
    "#     - s_idx: 선택할 S 인덱스 (기본값 10)\n",
    "#     \"\"\"\n",
    "#     plt.figure(figsize=(8, 5))\n",
    "#     hours = np.linspace(0, 24, R.shape[1])  # 0~24시를 시간 축으로 설정\n",
    "    \n",
    "#     for i_index in i_indices:\n",
    "#         if i_index >= R.shape[0]:\n",
    "#             print(f\"Error: i_index {i_index}가 범위를 초과했습니다.\")\n",
    "#             continue\n",
    "\n",
    "#         R_values = R[i_index, :, s_idx]\n",
    "#         plt.plot(hours, R_values, label=f'DER owner ({i_index})')\n",
    "\n",
    "#     plt.xlabel('Time')\n",
    "#     plt.ylabel('Generation')\n",
    "#     plt.xticks(np.arange(0, 24))\n",
    "#     plt.ylim(0, 13)\n",
    "#     plt.legend()\n",
    "\n",
    "#     # plt.savefig(\n",
    "#     # \"figure/fig_rand_none.pdf\", bbox_inches=\"tight\", pad_inches=0.05\n",
    "#     # )\n",
    "#     # plt.savefig(\n",
    "#     # \"figure/fig_rand_high.pdf\", bbox_inches=\"tight\", pad_inches=0.05\n",
    "#     # )\n",
    "#     plt.show()\n",
    "\n",
    "# i_values=[0,1,2]\n",
    "# plot_R_for_multiple_i(i_indices=i_values, R=R, s_idx=10)"
   ]
  },
  {
   "cell_type": "code",
   "execution_count": 33,
   "metadata": {},
   "outputs": [],
   "source": [
    "index = pd.MultiIndex.from_product([range(len(I)), range(len(T)), range(len(S))],\n",
    "                                 names=['generator', 'time', 'scenario'])\n",
    "df = pd.DataFrame({'value': R.flatten()}, index=index).reset_index()\n",
    "df.to_csv('result/result_R.csv', index=False)"
   ]
  },
  {
   "cell_type": "markdown",
   "metadata": {},
   "source": [
    "### Price 설정"
   ]
  },
  {
   "cell_type": "code",
   "execution_count": 34,
   "metadata": {},
   "outputs": [],
   "source": [
    "price_q[\"Hour\"] = price_q[\"Time\"].dt.floor(\"h\")\n",
    "price_h = price_q.groupby(\"Hour\").mean(numeric_only=True)\n",
    "\n",
    "price = price_h.iloc[: len(S) * len(T)]\n",
    "\n",
    "P_DA = np.array(\n",
    "    [sum(price[\"Price\"].iloc[t + s * len(T)] for s in S) / len(S) * 1.2 for t in T]\n",
    ")\n",
    "P_RT = np.array([[price[\"Price\"].iloc[t + s * len(T)] for s in S] for t in T])\n",
    "P_PN = np.array(\n",
    "    [sum(price[\"Price\"].iloc[t + s * len(T)] for s in S) / len(S) * 2 for t in T]\n",
    ")"
   ]
  },
  {
   "cell_type": "markdown",
   "metadata": {},
   "source": [
    "### 모델 DER Aggregation "
   ]
  },
  {
   "cell_type": "code",
   "execution_count": 35,
   "metadata": {},
   "outputs": [
    {
     "name": "stdout",
     "output_type": "stream",
     "text": [
      "Set parameter Username\n",
      "Academic license - for non-commercial use only - expires 2026-03-09\n",
      "Set parameter MIPGap to value 1e-05\n"
     ]
    }
   ],
   "source": [
    "agg = gp.Model(\"agg\")\n",
    "# agg.Params.OutputFlag = 0\n",
    "agg.Params.MIPGap = 0.00001  # MIP gap을 1%로 설정\n",
    "\n",
    "\n",
    "alpha = agg.addVars(len(T), vtype=GRB.CONTINUOUS, lb=0, name=\"alpha\")\n",
    "beta_plus = agg.addVars(len(T), len(S), vtype=GRB.CONTINUOUS, lb=0, name=\"beta_plus\")\n",
    "beta_minus = agg.addVars(len(T), len(S), vtype=GRB.CONTINUOUS, lb=0, name=\"beta_minus\")\n",
    "\n",
    "M = max(sum(R[i, t, s] for i in I) for t in T for s in S)\n",
    "z = agg.addVars(T, S, vtype=GRB.BINARY, name=\"z\")\n",
    "\n",
    "agg.update()\n",
    "\n",
    "obj = gp.quicksum(P_DA[t] * alpha[t] for t in range(len(T))) + gp.quicksum(\n",
    "    prob[s] * (P_RT[t, s] * beta_plus[t, s] - P_PN[t] * beta_minus[t, s])\n",
    "    for t in range(len(T))\n",
    "    for s in range(len(S))\n",
    ")\n",
    "\n",
    "agg.setObjective(obj, GRB.MAXIMIZE)"
   ]
  },
  {
   "cell_type": "code",
   "execution_count": 36,
   "metadata": {},
   "outputs": [
    {
     "name": "stdout",
     "output_type": "stream",
     "text": [
      "Gurobi Optimizer version 12.0.1 build v12.0.1rc0 (win64 - Windows 11.0 (26100.2))\n",
      "\n",
      "CPU model: 13th Gen Intel(R) Core(TM) i9-13900K, instruction set [SSE2|AVX|AVX2]\n",
      "Thread count: 24 physical cores, 32 logical processors, using up to 32 threads\n",
      "\n",
      "Non-default parameters:\n",
      "MIPGap  1e-05\n",
      "\n",
      "Optimize a model with 1920 rows, 1464 columns and 3840 nonzeros\n",
      "Model fingerprint: 0xa2f4728e\n",
      "Variable types: 984 continuous, 480 integer (480 binary)\n",
      "Coefficient statistics:\n",
      "  Matrix range     [1e+00, 9e+01]\n",
      "  Objective range  [4e-04, 4e+01]\n",
      "  Bounds range     [1e+00, 1e+00]\n",
      "  RHS range        [7e-02, 9e+01]\n",
      "Found heuristic solution: objective 10878.894271\n",
      "Presolve removed 1860 rows and 1403 columns\n",
      "Presolve time: 0.02s\n",
      "Presolved: 60 rows, 61 columns, 140 nonzeros\n",
      "Found heuristic solution: objective 11422.003959\n",
      "Variable types: 41 continuous, 20 integer (20 binary)\n",
      "\n",
      "Root relaxation: objective 1.190477e+04, 54 iterations, 0.00 seconds (0.00 work units)\n",
      "\n",
      "    Nodes    |    Current Node    |     Objective Bounds      |     Work\n",
      " Expl Unexpl |  Obj  Depth IntInf | Incumbent    BestBd   Gap | It/Node Time\n",
      "\n",
      "     0     0 11904.7741    0    3 11422.0040 11904.7741  4.23%     -    0s\n",
      "H    0     0                    11878.130049 11904.7741  0.22%     -    0s\n",
      "\n",
      "Explored 1 nodes (54 simplex iterations) in 0.03 seconds (0.01 work units)\n",
      "Thread count was 32 (of 32 available processors)\n",
      "\n",
      "Solution count 3: 11878.1 11422 10878.9 \n",
      "\n",
      "Optimal solution found (tolerance 1.00e-05)\n",
      "Best objective 1.187813004865e+04, best bound 1.187813004865e+04, gap 0.0000%\n",
      "Optimal solution found!\n",
      "Objective value: 11878.130048654493\n"
     ]
    }
   ],
   "source": [
    "for t in range(len(T)):\n",
    "    for s in range(len(S)):\n",
    "        agg.addConstr(\n",
    "            gp.quicksum(R[i, t, s] for i in I) - alpha[t]\n",
    "            == beta_plus[t, s] - beta_minus[t, s]\n",
    "        )\n",
    "\n",
    "for t in range(len(T)):\n",
    "    for s in range(len(S)):\n",
    "        agg.addConstr(gp.quicksum(R[i, t, s] for i in I) >= beta_plus[t, s])\n",
    "\n",
    "for t in range(len(T)):\n",
    "    for s in range(len(S)):\n",
    "        agg.addConstr(beta_plus[t, s] <= M * z[t, s])\n",
    "        agg.addConstr(beta_minus[t, s] <= M * (1 - z[t, s]))\n",
    "\n",
    "agg.optimize()\n",
    "\n",
    "if agg.status == GRB.OPTIMAL:\n",
    "    print(\"Optimal solution found!\")\n",
    "    print(f\"Objective value: {agg.objVal}\")\n",
    "else:\n",
    "    print(\"No optimal solution found.\")"
   ]
  },
  {
   "cell_type": "markdown",
   "metadata": {},
   "source": [
    "### 결과 분석"
   ]
  },
  {
   "cell_type": "markdown",
   "metadata": {},
   "source": [
    "#### 수익 분석"
   ]
  },
  {
   "cell_type": "code",
   "execution_count": 37,
   "metadata": {},
   "outputs": [
    {
     "name": "stdout",
     "output_type": "stream",
     "text": [
      "DA: 8602.60\n",
      "RT: 3616.68\n",
      "Penalty: 341.16\n",
      "목적 함수 기반 총 이익: 11878.13\n"
     ]
    }
   ],
   "source": [
    "# Day-ahead 수익 계산\n",
    "total_da_profit_obj = 0\n",
    "for t in range(len(T)):\n",
    "    total_da_profit_obj += P_DA[t] * alpha[t].x  \n",
    "\n",
    "# Real-time 수익 계산\n",
    "total_rt_profit_obj = 0\n",
    "for t in range(len(T)):\n",
    "    for s in range(len(S)):\n",
    "        rt_profit_obj = P_RT[t, s] * beta_plus[t, s].x  \n",
    "        total_rt_profit_obj += prob[s] * rt_profit_obj\n",
    "\n",
    "# Penalty 비용 계산\n",
    "total_penalty_cost_obj = 0\n",
    "for t in range(len(T)):\n",
    "    for s in range(len(S)):\n",
    "        penalty_cost_obj = P_PN[t] * beta_minus[t, s].x\n",
    "        total_penalty_cost_obj += prob[s] * penalty_cost_obj\n",
    "\n",
    "# 총 시스템 이익 (목적 함수 기반)\n",
    "total_system_profit_obj = total_da_profit_obj + total_rt_profit_obj - total_penalty_cost_obj\n",
    "\n",
    "# 결과 출력\n",
    "print(f\"DA: {total_da_profit_obj:.2f}\")\n",
    "print(f\"RT: {total_rt_profit_obj:.2f}\")\n",
    "print(f\"Penalty: {total_penalty_cost_obj:.2f}\")\n",
    "print(f\"목적 함수 기반 총 이익: {total_system_profit_obj:.2f}\")"
   ]
  },
  {
   "cell_type": "code",
   "execution_count": 38,
   "metadata": {},
   "outputs": [
    {
     "data": {
      "image/png": "[encoded data removed]",
      "text/plain": [
       "<Figure size 1000x600 with 1 Axes>"
      ]
     },
     "metadata": {},
     "output_type": "display_data"
    }
   ],
   "source": [
    "# ✅ 특정 시간과 시나리오 선택\n",
    "t_target = 14  # 원하는 시간 (예: 13시)\n",
    "s_target = 3  # 원하는 시나리오 (예: 시나리오 3)\n",
    "\n",
    "beta_plus_values = beta_plus[t_target, s_target].x\n",
    "beta_minus_values = [\n",
    "    -beta_minus[t_target, s_target].x\n",
    "]  # Shortage는 음수로 변환\n",
    "\n",
    "\n",
    "# ✅ Figure 설정\n",
    "fig, ax = plt.subplots(figsize=(10, 6))\n",
    "\n",
    "# ✅ Surplus (y_plus) -> 초록색\n",
    "ax.bar(1, beta_plus_values, color=\"green\", label=\"Surplus Energy\")\n",
    "\n",
    "# ✅ Shortage (y_minus) -> 빨간색\n",
    "ax.bar(1, beta_minus_values, color=\"red\", label=\"Shortage Energy\")\n",
    "\n",
    "# ✅ 0 기준선 추가\n",
    "ax.axhline(0, color=\"black\", linewidth=0.5)\n",
    "\n",
    "# ✅ 레이블 및 축 설정\n",
    "ax.set_xlabel(\"Individual DER Owner\")\n",
    "ax.set_ylabel(\"Energy\")  # DER owner 인덱스 설정\n",
    "ax.legend()\n",
    "ax.set_ylim(-4, 19)\n",
    "\n",
    "# ✅ 제목 추가\n",
    "plt.title(\n",
    "    f\"Aggregated Deviation from Commitment Decision in Hour {t_target} Scenario {s_target}\"\n",
    ")\n",
    "\n",
    "# ✅ 그래프 출력\n",
    "plt.show()"
   ]
  },
  {
   "cell_type": "markdown",
   "metadata": {},
   "source": [
    "#### 하루 aggregated 커밋량 분석"
   ]
  },
  {
   "cell_type": "code",
   "execution_count": 39,
   "metadata": {},
   "outputs": [
    {
     "name": "stdout",
     "output_type": "stream",
     "text": [
      "[시간 0] alpha: 0.000, beta+: 0.000, beta-: 0.000\n",
      "[시간 1] alpha: 0.000, beta+: 0.000, beta-: 0.000\n",
      "[시간 2] alpha: 0.000, beta+: 0.000, beta-: 0.000\n",
      "[시간 3] alpha: 0.000, beta+: 0.000, beta-: 0.000\n",
      "[시간 4] alpha: 0.000, beta+: 0.000, beta-: 0.000\n",
      "[시간 5] alpha: 0.000, beta+: 0.000, beta-: 0.000\n",
      "[시간 6] alpha: 0.000, beta+: 0.000, beta-: 0.000\n",
      "[시간 7] alpha: 0.000, beta+: 0.000, beta-: 0.000\n",
      "[시간 8] alpha: 0.816, beta+: 1.258, beta-: 0.077\n",
      "[시간 9] alpha: 7.714, beta+: 5.072, beta-: 0.318\n",
      "[시간 10] alpha: 24.230, beta+: 8.442, beta-: 0.089\n",
      "[시간 11] alpha: 28.485, beta+: 16.456, beta-: 1.217\n",
      "[시간 12] alpha: 38.932, beta+: 16.756, beta-: 0.429\n",
      "[시간 13] alpha: 39.040, beta+: 18.203, beta-: 0.250\n",
      "[시간 14] alpha: 34.879, beta+: 15.878, beta-: 0.759\n",
      "[시간 15] alpha: 25.752, beta+: 9.758, beta-: 0.873\n",
      "[시간 16] alpha: 11.038, beta+: 8.142, beta-: 1.000\n",
      "[시간 17] alpha: 1.574, beta+: 3.297, beta-: 0.116\n",
      "[시간 18] alpha: 0.000, beta+: 0.495, beta-: 0.000\n",
      "[시간 19] alpha: 0.000, beta+: 0.000, beta-: 0.000\n",
      "[시간 20] alpha: 0.000, beta+: 0.000, beta-: 0.000\n",
      "[시간 21] alpha: 0.000, beta+: 0.000, beta-: 0.000\n",
      "[시간 22] alpha: 0.000, beta+: 0.000, beta-: 0.000\n",
      "[시간 23] alpha: 0.000, beta+: 0.000, beta-: 0.000\n",
      "총 하루 commitment: 212.461\n"
     ]
    }
   ],
   "source": [
    "# 각 시간대 t에 대한 평균 alpha, beta+ 및 beta- 계산 및 출력\n",
    "for t in range(len(T)):\n",
    "    avg_alpha = alpha[t].x  # alpha[t]의 최적화 값\n",
    "    avg_beta_plus = sum(beta_plus[t, s].x for s in range(len(S))) / len(S)  # beta_plus의 평균\n",
    "    avg_beta_minus = sum(beta_minus[t, s].x for s in range(len(S))) / len(S)  # beta_minus의 평균\n",
    "\n",
    "    print(f\"[시간 {t}] alpha: {avg_alpha:.3f}, beta+: {avg_beta_plus:.3f}, beta-: {avg_beta_minus:.3f}\")\n",
    "\n",
    "# alpha 값의 총합 출력\n",
    "total_alpha = sum(alpha[t].x for t in range(len(T)))\n",
    "print(f\"총 하루 commitment: {total_alpha:.3f}\")"
   ]
  },
  {
   "cell_type": "markdown",
   "metadata": {},
   "source": [
    "### 사후정산"
   ]
  },
  {
   "cell_type": "code",
   "execution_count": 40,
   "metadata": {},
   "outputs": [
    {
     "name": "stdout",
     "output_type": "stream",
     "text": [
      "Surplus 분배 결과:\n",
      "[0]: 117.96\n",
      "[1]: 122.85\n",
      "[2]: 120.12\n",
      "[3]: 117.91\n",
      "[4]: 117.69\n",
      "[5]: 128.76\n",
      "[6]: 121.67\n",
      "[7]: 121.97\n",
      "[8]: 123.73\n",
      "[9]: 123.39\n",
      "\n",
      "최종 Profit:\n",
      "[0] 1322.48 (9.79%)\n",
      "[1] 995.40 (14.08%)\n",
      "[2] 1357.62 (9.71%)\n",
      "[3] 1246.42 (10.45%)\n",
      "[4] 841.93 (16.25%)\n",
      "[5] 1092.27 (13.36%)\n",
      "[6] 1854.38 (7.02%)\n",
      "[7] 1220.90 (11.10%)\n",
      "[8] 892.66 (16.09%)\n",
      "[9] 1054.06 (13.26%)\n"
     ]
    }
   ],
   "source": [
    "only_value = pd.read_csv('result/result_only_obj.csv').values\n",
    "only_profit = pd.read_csv('result/result_only_profit.csv').values\n",
    "surplus = agg.objVal - only_value[0] #\n",
    "\n",
    "I, T, S = R.shape\n",
    "\n",
    "R_proportion = R / R.sum(axis=1, keepdims=True) \n",
    "R_proportion = np.nan_to_num(R_proportion) \n",
    "\n",
    "R_proportion_P = np.multiply(R_proportion, P_DA[:, np.newaxis])\n",
    "\n",
    "R_weighted = R_proportion_P.sum(axis=(1, 2)) \n",
    "\n",
    "R_weighted_normalized = R_weighted / R_weighted.sum() \n",
    "\n",
    "surplus_distribution = surplus * R_weighted_normalized  \n",
    "\n",
    "final_profit = only_profit.flatten() + surplus_distribution\n",
    "\n",
    "print(\"Surplus 분배 결과:\")\n",
    "for i, value in enumerate(surplus_distribution):\n",
    "    print(f\"[{i}]: {value:.2f}\")\n",
    "\n",
    "print(\"\\n최종 Profit:\")\n",
    "for i, (profit, only) in enumerate(zip(final_profit, only_profit.flatten())):\n",
    "    increase_percentage = ((profit - only) / only) * 100\n",
    "    print(f\"[{i}] {profit:.2f} ({increase_percentage:.2f}%)\")"
   ]
  },
  {
   "cell_type": "markdown",
   "metadata": {},
   "source": [
    "### 결과 저장"
   ]
  },
  {
   "cell_type": "code",
   "execution_count": 41,
   "metadata": {},
   "outputs": [],
   "source": [
    "alpha_df = pd.DataFrame({\n",
    "    'alpha': [alpha[t].x for t in range(T)]\n",
    "})\n",
    "alpha_df.to_csv('result/result_base_alpha.csv', index=False)\n",
    "\n",
    "# # beta_plus 저장\n",
    "# beta_plus_df = pd.DataFrame(\n",
    "#     [[beta_plus[t,s].x for s in range(S)] \n",
    "#      for t in range(T)],\n",
    "#     columns=[f'S{s}' for s in range(S)]\n",
    "# )\n",
    "# beta_plus_df.to_csv('result_beta_plus.csv', index=False)\n",
    "\n",
    "# # beta_minus 저장\n",
    "# beta_minus_df = pd.DataFrame(\n",
    "#     [[beta_minus[t,s].x for s in range(S)] \n",
    "#      for t in range(T)],\n",
    "#     columns=[f'S{s}' for s in range(S)]\n",
    "# )\n",
    "# beta_minus_df.to_csv('result_beta_minus.csv', index=False)"
   ]
  },
  {
   "cell_type": "code",
   "execution_count": 42,
   "metadata": {},
   "outputs": [],
   "source": [
    "agg_profit_value = pd.DataFrame({'agg_profit_value': final_profit})\n",
    "agg_profit_value.to_csv('result/result_agg_profit.csv', index=False)\n",
    "\n",
    "agg_obj = pd.DataFrame({'agg_obj': [agg.objVal]})\n",
    "agg_obj.to_csv('result/result_agg_obj.csv', index=False)"
   ]
  }
 ],
 "metadata": {
  "kernelspec": {
   "display_name": "base",
   "language": "python",
   "name": "python3"
  },
  "language_info": {
   "codemirror_mode": {
    "name": "ipython",
    "version": 3
   },
   "file_extension": ".py",
   "mimetype": "text/x-python",
   "name": "python",
   "nbconvert_exporter": "python",
   "pygments_lexer": "ipython3",
   "version": "3.10.9"
  }
 },
 "nbformat": 4,
 "nbformat_minor": 2
}
