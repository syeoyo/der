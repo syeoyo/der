{
 "cells": [
  {
   "cell_type": "code",
   "execution_count": 8,
   "metadata": {},
   "outputs": [
    {
     "name": "stdout",
     "output_type": "stream",
     "text": [
      "✅ 총 5개 파일을 불러왔습니다: 1201.csv, 137.csv, 401.csv, 524.csv, 89.csv\n",
      "📊 데이터 Shape: I=5, T=24, S=30\n",
      "✅ 시뮬레이션 초기화 완료: S=30, Randomness='high', M1=722.00, M2=1957.00\n"
     ]
    }
   ],
   "source": [
    "import pandas as pd\n",
    "import numpy as np\n",
    "import matplotlib.pyplot as plt\n",
    "import gurobipy as gp\n",
    "from gurobipy import GRB\n",
    "import os\n",
    "from itertools import product\n",
    "from functions import (load_parameters, load_generation_data, load_price_data, generate_randomized_generation,\n",
    "generate_rt_scenarios, plot_generation_data, plot_randomized_generation, plot_scenarios_for_generator, plot_rt_scenarios)\n",
    "\n",
    "generation_data, I, T = load_generation_data(date_filter=\"2022-07-18\")\n",
    "S, R, P_RT, K, K0, M1, M2 = load_parameters(I, T, generation_data)\n",
    "P_DA, P_PN = load_price_data()"
   ]
  },
  {
   "cell_type": "markdown",
   "metadata": {},
   "source": [
    "### 모델 DER Aggregation "
   ]
  },
  {
   "cell_type": "code",
   "execution_count": 9,
   "metadata": {},
   "outputs": [
    {
     "name": "stdout",
     "output_type": "stream",
     "text": [
      "Set parameter MIPGap to value 1e-06\n",
      "Gurobi Optimizer version 12.0.1 build v12.0.1rc0 (mac64[arm] - Darwin 24.3.0 24D81)\n",
      "\n",
      "CPU model: Apple M3\n",
      "Thread count: 8 physical cores, 8 logical processors, using up to 8 threads\n",
      "\n",
      "Non-default parameters:\n",
      "MIPGap  1e-06\n",
      "\n",
      "Optimize a model with 2880 rows, 2184 columns and 5760 nonzeros\n",
      "Model fingerprint: 0x0ab2a60c\n",
      "Variable types: 1464 continuous, 720 integer (720 binary)\n",
      "Coefficient statistics:\n",
      "  Matrix range     [1e+00, 2e+03]\n",
      "  Objective range  [2e+00, 2e+02]\n",
      "  Bounds range     [1e+00, 1e+00]\n",
      "  RHS range        [1e+00, 2e+03]\n",
      "Found heuristic solution: objective 1218652.8571\n",
      "Presolve removed 2790 rows and 2093 columns\n",
      "Presolve time: 0.02s\n",
      "Presolved: 90 rows, 91 columns, 210 nonzeros\n",
      "Found heuristic solution: objective 1567553.4139\n",
      "Variable types: 61 continuous, 30 integer (30 binary)\n",
      "\n",
      "Root relaxation: objective 1.567562e+06, 64 iterations, 0.00 seconds (0.00 work units)\n",
      "\n",
      "    Nodes    |    Current Node    |     Objective Bounds      |     Work\n",
      " Expl Unexpl |  Obj  Depth IntInf | Incumbent    BestBd   Gap | It/Node Time\n",
      "\n",
      "*    0     0               0    1567561.8840 1567561.88 -0.00%     -    0s\n",
      "\n",
      "Explored 1 nodes (64 simplex iterations) in 0.02 seconds (0.02 work units)\n",
      "Thread count was 8 (of 8 available processors)\n",
      "\n",
      "Solution count 3: 1.56756e+06 1.56755e+06 1.21865e+06 \n",
      "\n",
      "Optimal solution found (tolerance 1.00e-06)\n",
      "Best objective 1.567561884005e+06, best bound 1.567561884005e+06, gap 0.0000%\n",
      "Optimal solution found!\n",
      "Objective value: 1567561.8840047552\n"
     ]
    }
   ],
   "source": [
    "only_profit = np.array(pd.read_csv(\"result/result_only_profit.csv\"))\n",
    "agg = gp.Model(\"agg\")\n",
    "agg.setParam(\"MIPGap\", 1e-7)\n",
    "\n",
    "alpha = agg.addVars(T, vtype=GRB.CONTINUOUS, lb=0, name=\"alpha\")\n",
    "beta_plus = agg.addVars(T, S, vtype=GRB.CONTINUOUS, lb=0, name=\"beta_plus\")\n",
    "beta_minus = agg.addVars(T, S, vtype=GRB.CONTINUOUS, lb=0, name=\"beta_minus\")\n",
    "M = max(sum(R[i, t, s] for i in range(I)) for t in range(T) for s in range(S))\n",
    "z = agg.addVars(T, S, vtype=GRB.BINARY, name=\"z\")\n",
    "prob = np.array([1 / S for s in range(S)])\n",
    "\n",
    "agg.update()\n",
    "\n",
    "obj = gp.quicksum(P_DA[t] * alpha[t] for t in range(T)) + gp.quicksum(prob[s] * (P_RT[t, s] * beta_plus[t, s] - P_PN[t] * beta_minus[t, s]) for t in range(T) for s in range(S))\n",
    "agg.setObjective(obj, GRB.MAXIMIZE)\n",
    "\n",
    "for t, s in product(range(T), range(S)):\n",
    "    agg.addConstr(gp.quicksum(R[i, t, s] for i in range(I)) - alpha[t] == beta_plus[t, s] - beta_minus[t, s])\n",
    "    agg.addConstr(gp.quicksum(R[i, t, s] for i in range(I)) >= beta_plus[t, s])\n",
    "    agg.addConstr(beta_plus[t, s] <= M * z[t, s])\n",
    "    agg.addConstr(beta_minus[t, s] <= M * (1 - z[t, s]))\n",
    "\n",
    "agg.optimize()\n",
    "\n",
    "if agg.status == GRB.OPTIMAL:\n",
    "    print(\"Optimal solution found!\")\n",
    "    print(f\"Objective value: {agg.objVal}\")\n",
    "else:\n",
    "    print(\"No optimal solution found.\")"
   ]
  },
  {
   "cell_type": "markdown",
   "metadata": {},
   "source": [
    "### 결과 분석"
   ]
  },
  {
   "cell_type": "markdown",
   "metadata": {},
   "source": [
    "#### 수익 분석"
   ]
  },
  {
   "cell_type": "code",
   "execution_count": 10,
   "metadata": {},
   "outputs": [
    {
     "name": "stdout",
     "output_type": "stream",
     "text": [
      "DA: 418449.85\n",
      "RT: 1179399.40\n",
      "Penalty: 30287.36\n",
      "목적 함수 기반 총 이익: 1567561.88\n"
     ]
    }
   ],
   "source": [
    "# Day-ahead 수익 계산\n",
    "total_da_profit_obj = 0\n",
    "for t in range(T):\n",
    "    total_da_profit_obj += P_DA[t] * alpha[t].x  \n",
    "\n",
    "# Real-time 수익 계산\n",
    "total_rt_profit_obj = 0\n",
    "for t in range(T):\n",
    "    for s in range(S):\n",
    "        rt_profit_obj = P_RT[t, s] * beta_plus[t, s].x  \n",
    "        total_rt_profit_obj += prob[s] * rt_profit_obj\n",
    "\n",
    "# Penalty 비용 계산\n",
    "total_penalty_cost_obj = 0\n",
    "for t in range(T):\n",
    "    for s in range(S):\n",
    "        penalty_cost_obj = P_PN[t] * beta_minus[t, s].x\n",
    "        total_penalty_cost_obj += prob[s] * penalty_cost_obj\n",
    "\n",
    "# 총 시스템 이익 (목적 함수 기반)\n",
    "total_system_profit_obj = total_da_profit_obj + total_rt_profit_obj - total_penalty_cost_obj\n",
    "\n",
    "# 결과 출력\n",
    "print(f\"DA: {total_da_profit_obj:.2f}\")\n",
    "print(f\"RT: {total_rt_profit_obj:.2f}\")\n",
    "print(f\"Penalty: {total_penalty_cost_obj:.2f}\")\n",
    "print(f\"목적 함수 기반 총 이익: {total_system_profit_obj:.2f}\")"
   ]
  },
  {
   "cell_type": "markdown",
   "metadata": {},
   "source": [
    "#### 하루 aggregated 커밋량 분석"
   ]
  },
  {
   "cell_type": "code",
   "execution_count": 11,
   "metadata": {},
   "outputs": [
    {
     "name": "stdout",
     "output_type": "stream",
     "text": [
      "[시간 0] alpha: 0.0, beta+: 0.0, beta-: 0.0\n",
      "[시간 1] alpha: 0.0, beta+: 0.0, beta-: 0.0\n",
      "[시간 2] alpha: 0.0, beta+: 0.0, beta-: 0.0\n",
      "[시간 3] alpha: 0.0, beta+: 0.0, beta-: 0.0\n",
      "[시간 4] alpha: 0.0, beta+: 0.6, beta-: 0.0\n",
      "[시간 5] alpha: 0.0, beta+: 0.0, beta-: 0.0\n",
      "[시간 6] alpha: 2.0, beta+: 1.4, beta-: 0.1\n",
      "[시간 7] alpha: 7.0, beta+: 5.7, beta-: 0.1\n",
      "[시간 8] alpha: 35.0, beta+: 12.1, beta-: 0.7\n",
      "[시간 9] alpha: 143.0, beta+: 33.4, beta-: 6.8\n",
      "[시간 10] alpha: 299.0, beta+: 144.6, beta-: 5.5\n",
      "[시간 11] alpha: 0.0, beta+: 661.0, beta-: 0.0\n",
      "[시간 12] alpha: 0.0, beta+: 875.4, beta-: 0.0\n",
      "[시간 13] alpha: 0.0, beta+: 1259.7, beta-: 0.0\n",
      "[시간 14] alpha: 1229.0, beta+: 213.2, beta-: 77.2\n",
      "[시간 15] alpha: 0.0, beta+: 868.3, beta-: 0.0\n",
      "[시간 16] alpha: 636.0, beta+: 186.7, beta-: 22.0\n",
      "[시간 17] alpha: 0.0, beta+: 763.7, beta-: 0.0\n",
      "[시간 18] alpha: 0.0, beta+: 542.2, beta-: 0.0\n",
      "[시간 19] alpha: 291.0, beta+: 108.3, beta-: 14.1\n",
      "[시간 20] alpha: 90.0, beta+: 17.5, beta-: 3.8\n",
      "[시간 21] alpha: 13.0, beta+: 6.1, beta-: 1.0\n",
      "[시간 22] alpha: 0.0, beta+: 0.0, beta-: 0.0\n",
      "[시간 23] alpha: 0.0, beta+: 0.0, beta-: 0.0\n",
      "총 하루 commitment: 2745.0\n"
     ]
    }
   ],
   "source": [
    "# 각 시간대 t에 대한 평균 alpha, beta+ 및 beta- 계산 및 출력\n",
    "for t in range(T):\n",
    "    avg_alpha = alpha[t].x  # alpha[t]의 최적화 값\n",
    "    avg_beta_plus = sum(beta_plus[t, s].x for s in range(S)) / S  # beta_plus의 평균\n",
    "    avg_beta_minus = sum(beta_minus[t, s].x for s in range(S)) / S  # beta_minus의 평균\n",
    "\n",
    "    print(f\"[시간 {t}] alpha: {avg_alpha:.1f}, beta+: {avg_beta_plus:.1f}, beta-: {avg_beta_minus:.1f}\")\n",
    "\n",
    "# alpha 값의 총합 출력\n",
    "total_alpha = sum(alpha[t].x for t in range(T))\n",
    "print(f\"총 하루 commitment: {total_alpha:.1f}\")"
   ]
  },
  {
   "cell_type": "markdown",
   "metadata": {},
   "source": [
    "### 사후정산"
   ]
  },
  {
   "cell_type": "code",
   "execution_count": 12,
   "metadata": {},
   "outputs": [
    {
     "name": "stdout",
     "output_type": "stream",
     "text": [
      "Surplus 분배 결과:\n",
      "[0]: 4668.36\n",
      "[1]: 4784.92\n",
      "[2]: 4703.61\n",
      "[3]: 4899.48\n",
      "[4]: 4779.14\n",
      "\n",
      "최종 Profit:\n",
      "[0] 206495.93 (2.31%)\n",
      "[1] 336095.41 (1.44%)\n",
      "[2] 410949.72 (1.16%)\n",
      "[3] 447147.75 (1.11%)\n",
      "[4] 166873.07 (2.95%)\n"
     ]
    }
   ],
   "source": [
    "only_value = pd.read_csv('result/result_only_obj.csv').values\n",
    "only_profit = pd.read_csv('result/result_only_profit.csv').values\n",
    "surplus = agg.objVal - only_value[0] #\n",
    "\n",
    "I, T, S = R.shape\n",
    "\n",
    "R_proportion = R / R.sum(axis=1, keepdims=True) \n",
    "R_proportion = np.nan_to_num(R_proportion) \n",
    "\n",
    "R_proportion_P = np.multiply(R_proportion, P_DA[:, np.newaxis])\n",
    "\n",
    "R_weighted = R_proportion_P.sum(axis=(1, 2)) \n",
    "\n",
    "R_weighted_normalized = R_weighted / R_weighted.sum() \n",
    "\n",
    "surplus_distribution = surplus * R_weighted_normalized  \n",
    "\n",
    "final_profit = only_profit.flatten() + surplus_distribution\n",
    "\n",
    "print(\"Surplus 분배 결과:\")\n",
    "for i, value in enumerate(surplus_distribution):\n",
    "    print(f\"[{i}]: {value:.2f}\")\n",
    "\n",
    "print(\"\\n최종 Profit:\")\n",
    "for i, (profit, only) in enumerate(zip(final_profit, only_profit.flatten())):\n",
    "    increase_percentage = ((profit - only) / only) * 100\n",
    "    print(f\"[{i}] {profit:.2f} ({increase_percentage:.2f}%)\")"
   ]
  },
  {
   "cell_type": "markdown",
   "metadata": {},
   "source": [
    "### 결과 저장"
   ]
  },
  {
   "cell_type": "code",
   "execution_count": 13,
   "metadata": {},
   "outputs": [],
   "source": [
    "alpha_df = pd.DataFrame({\n",
    "    'alpha': [alpha[t].x for t in range(T)]\n",
    "})\n",
    "alpha_df.to_csv('result/result_base_alpha.csv', index=False)\n",
    "\n",
    "# # beta_plus 저장\n",
    "# beta_plus_df = pd.DataFrame(\n",
    "#     [[beta_plus[t,s].x for s in range(S)] \n",
    "#      for t in range(T)],\n",
    "#     columns=[f'S{s}' for s in range(S)]\n",
    "# )\n",
    "# beta_plus_df.to_csv('result_beta_plus.csv', index=False)\n",
    "\n",
    "# # beta_minus 저장\n",
    "# beta_minus_df = pd.DataFrame(\n",
    "#     [[beta_minus[t,s].x for s in range(S)] \n",
    "#      for t in range(T)],\n",
    "#     columns=[f'S{s}' for s in range(S)]\n",
    "# )\n",
    "# beta_minus_df.to_csv('result_beta_minus.csv', index=False)"
   ]
  },
  {
   "cell_type": "code",
   "execution_count": 14,
   "metadata": {},
   "outputs": [],
   "source": [
    "agg_profit_value = pd.DataFrame({'agg_profit_value': final_profit})\n",
    "agg_profit_value.to_csv('result/result_agg_profit.csv', index=False)\n",
    "\n",
    "agg_obj = pd.DataFrame({'agg_obj': [agg.objVal]})\n",
    "agg_obj.to_csv('result/result_agg_obj.csv', index=False)"
   ]
  }
 ],
 "metadata": {
  "kernelspec": {
   "display_name": "Python 3",
   "language": "python",
   "name": "python3"
  },
  "language_info": {
   "codemirror_mode": {
    "name": "ipython",
    "version": 3
   },
   "file_extension": ".py",
   "mimetype": "text/x-python",
   "name": "python",
   "nbconvert_exporter": "python",
   "pygments_lexer": "ipython3",
   "version": "3.9.6"
  }
 },
 "nbformat": 4,
 "nbformat_minor": 2
}
