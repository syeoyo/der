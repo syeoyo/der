{
 "cells": [
  {
   "cell_type": "code",
   "execution_count": 10,
   "metadata": {},
   "outputs": [
    {
     "name": "stdout",
     "output_type": "stream",
     "text": [
      "✅ 총 3개 파일을 불러왔습니다: 1201.csv, 401.csv, 89.csv\n",
      "📊 데이터 Shape: I=3, T=24, S=20\n",
      "✅ 시뮬레이션 초기화 완료: S=20, Randomness='high', M1=768.00, M2=1202.00\n"
     ]
    }
   ],
   "source": [
    "import pandas as pd\n",
    "import numpy as np\n",
    "import matplotlib.pyplot as plt\n",
    "import gurobipy as gp\n",
    "from gurobipy import GRB\n",
    "import os\n",
    "from itertools import product\n",
    "from functions import (load_parameters, load_generation_data, load_price_data, generate_randomized_generation,\n",
    "generate_rt_scenarios, plot_generation_data, plot_randomized_generation, plot_scenarios_for_generator, plot_rt_scenarios, plot_summary)\n",
    "\n",
    "generation_data, I, T = load_generation_data(date_filter=\"2022-07-18\")\n",
    "S, R, P_RT, K, K0, M1, M2 = load_parameters(I, T, generation_data)\n",
    "P_DA, P_PN = load_price_data()"
   ]
  },
  {
   "cell_type": "code",
   "execution_count": 11,
   "metadata": {},
   "outputs": [
    {
     "name": "stdout",
     "output_type": "stream",
     "text": [
      "Set parameter MIPGap to value 1e-07\n",
      "Gurobi Optimizer version 12.0.1 build v12.0.1rc0 (win64 - Windows 11.0 (26100.2))\n",
      "\n",
      "CPU model: 13th Gen Intel(R) Core(TM) i9-13900K, instruction set [SSE2|AVX|AVX2]\n",
      "Thread count: 24 physical cores, 32 logical processors, using up to 32 threads\n",
      "\n",
      "Non-default parameters:\n",
      "MIPGap  1e-07\n",
      "\n",
      "Optimize a model with 15900 rows, 11652 columns and 37500 nonzeros\n",
      "Model fingerprint: 0x922d2d54\n",
      "Variable types: 7332 continuous, 4320 integer (4320 binary)\n",
      "Coefficient statistics:\n",
      "  Matrix range     [1e+00, 8e+02]\n",
      "  Objective range  [2e+00, 2e+02]\n",
      "  Bounds range     [1e+00, 1e+00]\n",
      "  RHS range        [1e+00, 8e+02]\n",
      "Presolve removed 12386 rows and 8782 columns\n",
      "Presolve time: 0.12s\n",
      "Presolved: 3514 rows, 2870 columns, 8907 nonzeros\n",
      "Variable types: 1793 continuous, 1077 integer (1077 binary)\n",
      "Found heuristic solution: objective 644938.08616\n",
      "Found heuristic solution: objective 673148.13885\n",
      "\n",
      "Root relaxation: objective 7.927224e+05, 1618 iterations, 0.02 seconds (0.03 work units)\n",
      "\n",
      "    Nodes    |    Current Node    |     Objective Bounds      |     Work\n",
      " Expl Unexpl |  Obj  Depth IntInf | Incumbent    BestBd   Gap | It/Node Time\n",
      "\n",
      "     0     0 792722.365    0   17 673148.139 792722.365  17.8%     -    0s\n",
      "H    0     0                    792688.68201 792722.365  0.00%     -    0s\n",
      "     0     0 792694.986    0    2 792688.682 792694.986  0.00%     -    0s\n",
      "     0     0 792691.334    0    1 792688.682 792691.334  0.00%     -    0s\n",
      "     0     0 792691.334    0    1 792688.682 792691.334  0.00%     -    0s\n",
      "H    0     0                    792691.33367 792691.334  0.00%     -    0s\n",
      "     0     0 792691.334    0    1 792691.334 792691.334  0.00%     -    0s\n",
      "\n",
      "Cutting planes:\n",
      "  Implied bound: 14\n",
      "  MIR: 2\n",
      "  Flow cover: 37\n",
      "  Relax-and-lift: 8\n",
      "\n",
      "Explored 1 nodes (1810 simplex iterations) in 0.20 seconds (0.28 work units)\n",
      "Thread count was 32 (of 32 available processors)\n",
      "\n",
      "Solution count 4: 792691 792689 673148 644938 \n",
      "\n",
      "Optimal solution found (tolerance 1.00e-07)\n",
      "Best objective 7.926913336672e+05, best bound 7.926913336672e+05, gap 0.0000%\n",
      "Optimal solution found! Objective value: 792691.3336671868\n"
     ]
    }
   ],
   "source": [
    "only = gp.Model(\"only\")\n",
    "only.setParam(\"MIPGap\", 1e-7)\n",
    "\n",
    "x = only.addVars(I, T, vtype=GRB.CONTINUOUS, lb=0, name=\"x\")\n",
    "yp = only.addVars(I, T, S, vtype=GRB.CONTINUOUS, lb=0, name=\"y_plus\")\n",
    "ym = only.addVars(I, T, S, vtype=GRB.CONTINUOUS, lb=0, name=\"y_minus\")\n",
    "z = only.addVars(I, T+1, S, vtype=GRB.CONTINUOUS, name=\"z\")\n",
    "zc = only.addVars(I, T, S, vtype=GRB.CONTINUOUS, name=\"z_charge\")\n",
    "zd = only.addVars(I, T, S, vtype=GRB.CONTINUOUS, name=\"z_discharge\")\n",
    "zeta = only.addVars(I, T, S, vtype=GRB.BINARY, name=\"zeta\")\n",
    "delta = only.addVars(I, T, S, vtype=GRB.BINARY, name=\"delta\")\n",
    "rho = only.addVars(I, T, S, vtype=GRB.BINARY, name=\"rho\")\n",
    "\n",
    "only.update()\n",
    "\n",
    "obj = gp.quicksum(P_DA[t] * x[i, t] for i, t in product(range(I), range(T))) \\\n",
    "    + gp.quicksum(1 / S * (P_RT[t, s] * yp[i, t, s] - P_PN[t] * ym[i, t, s]) for i, t, s in product(range(I), range(T), range(S)))\n",
    "\n",
    "only.setObjective(obj, GRB.MAXIMIZE)\n",
    "\n",
    "for i, t, s in product(range(I), range(T), range(S)):\n",
    "    only.addConstr(R[i, t, s] - x[i, t] == yp[i, t, s] - ym[i, t, s] + zc[i, t, s] - zd[i, t, s])\n",
    "    only.addConstr(yp[i, t, s] <= R[i, t, s])\n",
    "    only.addConstr(z[i, t + 1, s] == z[i, t, s] + zc[i, t, s] - zd[i, t, s])\n",
    "    only.addConstr(zd[i, t, s] <= z[i, t, s])\n",
    "    only.addConstr(zc[i, t, s] <= K[i] - z[i, t, s])\n",
    "    only.addConstr(yp[i, t, s] <= M1 * rho[i, t, s])\n",
    "    only.addConstr(ym[i, t, s] <= M1 * (1 - rho[i, t, s]))\n",
    "    only.addConstr(ym[i, t, s] <= M1 * delta[i, t, s])\n",
    "    only.addConstr(zc[i, t, s] <= M1 * (1 - delta[i, t, s]))\n",
    "    only.addConstr(zc[i, t, s] <= M1 * zeta[i, t, s])\n",
    "    only.addConstr(zd[i, t, s] <= M1 * (1 - zeta[i, t, s]))\n",
    "for i, s in product(range(I), range(S)):\n",
    "    only.addConstr(z[i, 0, s] == K0[i])\n",
    "\n",
    "only.optimize()\n",
    "\n",
    "if only.status == GRB.OPTIMAL:\n",
    "    print(f\"Optimal solution found! Objective value: {only.objVal}\")\n",
    "else:\n",
    "    print(\"No optimal solution found.\")\n",
    "\n",
    "x_vals = np.array([[x[i, t].X for t in range(T)] for i in range(I)])\n",
    "yp_vals = np.array([[[yp[i, t, s].X for s in range(S)] for t in range(T)] for i in range(I)]) \n",
    "ym_vals = np.array([[[ym[i, t, s].X for s in range(S)] for t in range(T)] for i in range(I)])\n",
    "z_vals  = np.array([[[z[i, t, s].X for s in range(S)] for t in range(T)] for i in range(I)])\n",
    "zc_vals = np.array([[[zc[i, t, s].X for s in range(S)] for t in range(T)] for i in range(I)])\n",
    "zd_vals = np.array([[[zd[i, t, s].X for s in range(S)] for t in range(T)] for i in range(I)])"
   ]
  },
  {
   "cell_type": "code",
   "execution_count": 18,
   "metadata": {},
   "outputs": [
    {
     "name": "stdout",
     "output_type": "stream",
     "text": [
      " s  t  i |        R        x       y+       y-       zc       zd        z\n",
      "--------------------------------------------------------------------------------\n",
      " 0  9  2 |     6.00     0.00     0.00     0.00     6.00     0.00     3.00\n",
      " 1  9  2 |    18.00     0.00    18.00     0.00     0.00     0.00     5.00\n",
      " 2  9  2 |    17.00     0.00     0.00     0.00    17.00     0.00     4.00\n"
     ]
    }
   ],
   "source": [
    "header = (\n",
    "        f\"{'s':>2} {'t':>2} {'i':>2} | \"\n",
    "        f\"{'R':>8} {'x':>8} {'y+':>8} {'y-':>8} {'zc':>8} {'zd':>8} {'z':>8}\\n\"\n",
    "        + \"-\" * 80\n",
    "    )\n",
    "print(header)\n",
    "\n",
    "for s, t, i in product(range(0,3), range(9, 10), range(2,3)):\n",
    "        R_val = R[i, t, s]\n",
    "        x_val = x_vals[i, t]\n",
    "        yp_val = yp_vals[i, t, s]\n",
    "        ym_val = ym_vals[i, t, s]\n",
    "        zc_val = zc_vals[i, t, s]\n",
    "        zd_val = zd_vals[i, t, s]\n",
    "        z_val = z_vals[i, t, s]\n",
    "\n",
    "        print(\n",
    "            f\"{s:>2} {t:>2} {i:>2} | \"\n",
    "            f\"{R_val:>8.2f} {x_val:>8.2f} {yp_val:>8.2f} {ym_val:>8.2f} \"\n",
    "            f\"{zc_val:>8.2f} {zd_val:>8.2f} {z_val:>8.2f}\"\n",
    "        )"
   ]
  },
  {
   "cell_type": "code",
   "execution_count": 13,
   "metadata": {},
   "outputs": [
    {
     "name": "stdout",
     "output_type": "stream",
     "text": [
      "[DISAGGREGATION MODEL]\n",
      "DA Profit      = 223865.08\n",
      "RT Profit      = 576594.16\n",
      "Penalty Cost   = 7767.91\n",
      "Total Profit   = 792691.33\n"
     ]
    }
   ],
   "source": [
    "da_profit = sum(P_DA[t] * x[i, t].X for i in range(I) for t in range(T))\n",
    "rt_profit = sum(P_RT[t, s] * yp[i, t, s].X / S for i in range(I) for t in range(T) for s in range(S))\n",
    "pn_cost   = sum(P_PN[t] * ym[i, t, s].X / S for i in range(I) for t in range(T) for s in range(S))\n",
    "total_profit = da_profit + rt_profit - pn_cost\n",
    "\n",
    "print(\"[DISAGGREGATION MODEL]\")\n",
    "print(f\"DA Profit      = {da_profit:.2f}\")\n",
    "print(f\"RT Profit      = {rt_profit:.2f}\")\n",
    "print(f\"Penalty Cost   = {pn_cost:.2f}\")\n",
    "print(f\"Total Profit   = {total_profit:.2f}\")"
   ]
  },
  {
   "cell_type": "code",
   "execution_count": 14,
   "metadata": {},
   "outputs": [
    {
     "name": "stdout",
     "output_type": "stream",
     "text": [
      "\n",
      "[ONLY MODEL] Day-Ahead Commitment (sum over DERs):\n",
      "TOTAL: 1439.00\n"
     ]
    },
    {
     "data": {
      "image/png": "[encoded data removed]",
      "text/plain": [
       "<Figure size 800x400 with 1 Axes>"
      ]
     },
     "metadata": {},
     "output_type": "display_data"
    }
   ],
   "source": [
    "print(\"\\n[ONLY MODEL] Day-Ahead Commitment (sum over DERs):\")\n",
    "total_only_commit = 0\n",
    "for t in range(T):\n",
    "    commit_t = sum(x[i, t].X for i in range(I))\n",
    "    total_only_commit += commit_t\n",
    "    # print(f\"Time {t}: {commit_t:.2f}\")\n",
    "print(f\"TOTAL: {total_only_commit:.2f}\")\n",
    "\n",
    "plt.figure(figsize=(8, 4))\n",
    "plt.bar(range(T), x_vals.sum(axis=0))\n",
    "plt.title(\"Total Day-Ahead Commitment Over Time\")\n",
    "plt.xlabel(\"Hour\")\n",
    "plt.ylabel(\"Total x\")\n",
    "plt.ylim(0,1500)\n",
    "plt.grid(True)\n",
    "plt.show()"
   ]
  },
  {
   "cell_type": "code",
   "execution_count": 15,
   "metadata": {},
   "outputs": [
    {
     "data": {
      "image/png": "[encoded data removed]",
      "text/plain": [
       "<Figure size 1000x500 with 1 Axes>"
      ]
     },
     "metadata": {},
     "output_type": "display_data"
    }
   ],
   "source": [
    "i=0\n",
    "s=4\n",
    "zc_single = zc_vals[i, :, s]  \n",
    "zd_single = zd_vals[i, :, s]\n",
    "z_single = z_vals[i, :, s]\n",
    "hours = np.arange(len(zc_single))\n",
    "\n",
    "plt.figure(figsize=(10, 5))\n",
    "# plt.step(hours, zc_single, where='post', label=f\"Charge (DER {i}, Scen {s})\", color = 'green', linestyle = \"--\", linewidth = 1.5)\n",
    "# plt.step(hours, zd_single, where='post', label=f\"Discharge (DER {i}, Scen {s})\", linestyle = \"--\", color = 'red')\n",
    "plt.step(hours, z_single, where='post', label=f\"SoC (DER {i}, Scen {s})\", color='#00821E', linewidth=2)\n",
    "plt.title(f\"[Only] Battery Charging/Discharging (DER {i}, Scenario {s})\")\n",
    "plt.xlabel(\"Hour\")\n",
    "plt.ylabel(\"Energy (kWh)\")\n",
    "plt.xticks(hours)\n",
    "plt.legend()\n",
    "plt.grid(True)\n",
    "plt.tight_layout()\n",
    "plt.show()"
   ]
  },
  {
   "cell_type": "markdown",
   "metadata": {},
   "source": [
    "### Charging/Discharging as first stage variable"
   ]
  },
  {
   "cell_type": "code",
   "execution_count": 16,
   "metadata": {},
   "outputs": [],
   "source": [
    "# R_forecast = np.mean(R, axis=2) * 0.9\n",
    "\n",
    "# m = gp.Model(\"DA_RT_Storage\")\n",
    "# m.setParam(\"MIPGap\", 1e-7)\n",
    "\n",
    "# # ---------------변수설정----------------\n",
    "# x = m.addVars(I, T, name=\"x\", lb=0)\n",
    "# # zc_DA = m.addVars(I, T, name=\"zc_DA\", lb=0)\n",
    "# # zd_DA = m.addVars(I, T, name=\"zd_DA\", lb=0)\n",
    "# mu = m.addVars(I, T, vtype=GRB.BINARY, name=\"mu\")\n",
    "\n",
    "# yp = m.addVars(I, T, S, name=\"y_plus\", lb=0)\n",
    "# ym = m.addVars(I, T, S, name=\"y_minus\", lb=0)\n",
    "# z = m.addVars(I, T+1, S, name=\"z_RT\", lb=0)\n",
    "# zc_RT = m.addVars(I, T, S, name=\"zc_RT\", lb=0)\n",
    "# zd_RT = m.addVars(I, T, S, name=\"zd_RT\", lb=0)\n",
    "# rho = m.addVars(I, T, S, vtype=GRB.BINARY, name=\"rho\")\n",
    "# delta = m.addVars(I, T, S, vtype=GRB.BINARY, name=\"delta\")\n",
    "# zeta = m.addVars(I, T, S, vtype=GRB.BINARY, name=\"zeta\")\n",
    "\n",
    "# # --------------목적함수----------------\n",
    "# m.setObjective(sum(P_DA[t] * x[i, t] for i, t in product(range(I), range(T))) +\n",
    "#     sum((1 / S) * (P_RT[t, s] * yp[i, t, s] - P_PN[t] * ym[i, t, s]) for i, t, s in product(range(I), range(T), range(S))), GRB.MAXIMIZE)\n",
    "\n",
    "# # ---------------제약식-----------------\n",
    "# # for i, t in product(range(I), range(T)):\n",
    "# #     m.addConstr(x[i, t] - zd_DA[i, t] + zc_DA[i, t] == R_forecast[i, t])\n",
    "# #     m.addConstr(zc_DA[i, t] <= M1 * mu[i, t])\n",
    "# #     m.addConstr(zd_DA[i, t] <= M1 * (1 - mu[i, t]))\n",
    "\n",
    "# for i, t, s in product(range(I), range(T), range(S)):\n",
    "#     # m.addConstr(zc_DA[i, t] <= K[i] - z[i, t, s])\n",
    "#     # m.addConstr(zd_DA[i, t] <= z[i, t, s])\n",
    "#     # m.addConstr(R[i, t, s] - x[i, t] == yp[i, t, s] - ym[i, t, s] + zc_RT[i, t, s] - zd_RT[i, t, s] + zc_DA[i, t] - zd_DA[i, t])\n",
    "#     m.addConstr(R[i, t, s] - x[i, t] == yp[i, t, s] - ym[i, t, s] + zc_RT[i, t, s] - zd_RT[i, t, s])\n",
    "#     m.addConstr(yp[i, t, s] <= R[i, t, s])\n",
    "#     m.addConstr(zd_RT[i, t, s] <= z[i, t, s] + zc_DA[i, t] - zd_DA[i, t])\n",
    "#     m.addConstr(zc_RT[i, t, s] <= K[i] - z[i, t, s] - zc_DA[i, t] + zd_DA[i, t])\n",
    "#     m.addConstr(z[i, t, s] <= K[i])\n",
    "#     m.addConstr(z[i, t + 1, s] == z[i, t, s] + zc_DA[i, t] - zd_DA[i, t] + zc_RT[i, t, s] - zd_RT[i, t, s])\n",
    "#     m.addConstr(yp[i, t, s] <= M1 * rho[i, t, s])\n",
    "#     m.addConstr(ym[i, t, s] <= M1 * (1 - rho[i, t, s]))\n",
    "#     m.addConstr(ym[i, t, s] <= M1 * delta[i, t, s])\n",
    "#     m.addConstr(zc_RT[i, t, s] <= M1 * (1 - delta[i, t, s]))\n",
    "#     m.addConstr(zc_RT[i, t, s] <= M1 * zeta[i, t, s])\n",
    "#     m.addConstr(zd_RT[i, t, s] <= M1 * (1 - zeta[i, t, s]))\n",
    "# for i, s in product(range(I), range(S)):\n",
    "#     m.addConstr(z[i, 0, s] == K0[i])\n",
    "    \n",
    "# m.optimize()\n",
    "\n",
    "# x_vals      = np.array([[x[i, t].X for t in range(T)] for i in range(I)])\n",
    "# # zc_DA_vals  = np.array([[zc_DA[i, t].X for t in range(T)] for i in range(I)])\n",
    "# # zd_DA_vals  = np.array([[zd_DA[i, t].X for t in range(T)] for i in range(I)])\n",
    "\n",
    "# yp_vals     = np.array([[[yp[i, t, s].X for s in range(S)] for t in range(T)] for i in range(I)])\n",
    "# ym_vals     = np.array([[[ym[i, t, s].X for s in range(S)] for t in range(T)] for i in range(I)])\n",
    "# z_vals   = np.array([[[z[i, t, s].X for s in range(S)] for t in range(T + 1)] for i in range(I)])\n",
    "# zc_RT_vals  = np.array([[[zc_RT[i, t, s].X for s in range(S)] for t in range(T)] for i in range(I)])\n",
    "# zd_RT_vals  = np.array([[[zd_RT[i, t, s].X for s in range(S)] for t in range(T)] for i in range(I)])"
   ]
  }
 ],
 "metadata": {
  "kernelspec": {
   "display_name": "base",
   "language": "python",
   "name": "python3"
  },
  "language_info": {
   "codemirror_mode": {
    "name": "ipython",
    "version": 3
   },
   "file_extension": ".py",
   "mimetype": "text/x-python",
   "name": "python",
   "nbconvert_exporter": "python",
   "pygments_lexer": "ipython3",
   "version": "3.12.7"
  }
 },
 "nbformat": 4,
 "nbformat_minor": 2
}
