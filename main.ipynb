{
 "cells": [
  {
   "cell_type": "code",
   "execution_count": null,
   "metadata": {},
   "outputs": [],
   "source": [
    "import pandas as pd\n",
    "import numpy as np\n",
    "import matplotlib.pyplot as plt\n",
    "import gurobipy as gp\n",
    "from gurobipy import GRB\n",
    "import os\n",
    "from itertools import product\n",
    "from functions import (load_parameters, load_generation_data, load_price_data, generate_randomized_generation,\n",
    "generate_rt_scenarios, plot_generation_data, plot_randomized_generation, plot_scenarios_for_generator, plot_rt_scenarios)\n",
    "\n",
    "generation_data, I, T = load_generation_data(date_filter=\"2022-07-18\")\n",
    "S, R, P_RT, K, K0, M1, M2 = load_parameters(I, T, generation_data)\n",
    "P_DA, P_PN = load_price_data()"
   ]
  }
 ],
 "metadata": {
  "kernelspec": {
   "display_name": "Python 3",
   "language": "python",
   "name": "python3"
  },
  "language_info": {
   "name": "python",
   "version": "3.9.6"
  }
 },
 "nbformat": 4,
 "nbformat_minor": 2
}
