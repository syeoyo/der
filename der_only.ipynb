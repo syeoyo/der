{
 "cells": [
  {
   "cell_type": "code",
   "execution_count": 1,
   "metadata": {},
   "outputs": [],
   "source": [
    "import pandas as pd\n",
    "import numpy as np\n",
    "import cvxpy as cp\n",
    "import matplotlib.pyplot as plt\n",
    "import gurobipy as gp\n",
    "from gurobipy import GRB"
   ]
  },
  {
   "cell_type": "markdown",
   "metadata": {},
   "source": [
    "### 데이터 로드 (q: 15분 단위, h: 1시간 단위)"
   ]
  },
  {
   "cell_type": "code",
   "execution_count": 2,
   "metadata": {},
   "outputs": [],
   "source": [
    "generation_q = pd.read_csv(\n",
    "    \"/Users/jangseohyun/Documents/workspace/symply/DER/DATA_generation.csv\"\n",
    ")\n",
    "generation_q[\"Time\"] = pd.to_datetime(generation_q[\"Time\"], format=\"%Y-%m-%d %H:%M\")\n",
    "generation_q[\"Hour\"] = generation_q[\"Time\"].dt.floor(\"h\")\n",
    "generation_h = generation_q.groupby(\"Hour\").sum(numeric_only=True)\n",
    "\n",
    "demand_q = pd.read_csv(\n",
    "    \"/Users/jangseohyun/Documents/workspace/symply/DER/DATA_demand.csv\"\n",
    ")\n",
    "demand_q[\"Time\"] = pd.to_datetime(demand_q[\"Time\"], format=\"%Y-%m-%d %H:%M\")\n",
    "demand_q[\"Hour\"] = demand_q[\"Time\"].dt.floor(\"h\")\n",
    "demand_h = demand_q.groupby(\"Hour\").sum(numeric_only=True)\n",
    "\n",
    "price_q = pd.read_csv(\n",
    "    \"/Users/jangseohyun/Documents/workspace/symply/DER/DATA_price.csv\"\n",
    ")\n",
    "price_q[\"Time\"] = pd.to_datetime(price_q[\"Time\"], format=\"%Y-%m-%d %H:%M\")"
   ]
  },
  {
   "cell_type": "markdown",
   "metadata": {},
   "source": [
    "### Set"
   ]
  },
  {
   "cell_type": "code",
   "execution_count": 3,
   "metadata": {},
   "outputs": [],
   "source": [
    "I = list(range(len(generation_q.columns) - 11))\n",
    "T = list(generation_q['Time'].dt.hour.unique())\n",
    "S = list(range(20))\n",
    "prob = {s: 1 / len(S) for s in S}"
   ]
  },
  {
   "cell_type": "markdown",
   "metadata": {},
   "source": [
    "### 데이터 전처리"
   ]
  },
  {
   "cell_type": "markdown",
   "metadata": {},
   "source": [
    "#### Generation"
   ]
  },
  {
   "cell_type": "code",
   "execution_count": 4,
   "metadata": {},
   "outputs": [],
   "source": [
    "generation_avg = np.array(\n",
    "    [[generation_h[generation_h.index.hour == t].mean().iloc[i] for t in T] for i in I]\n",
    ")\n",
    "\n",
    "\n",
    "def generate_randomized_generation(I, T, S, generation_avg, randomness_level):\n",
    "    np.random.seed(7)\n",
    "    if randomness_level == \"low\":\n",
    "        noise_factors = np.random.uniform(0.8, 1.2, size=(len(I), len(T), len(S)))\n",
    "    elif randomness_level == \"medium\":\n",
    "        noise_factors = np.random.uniform(0.5, 1.5, size=(len(I), len(T), len(S)))\n",
    "    elif randomness_level == \"high\":\n",
    "        noise_factors = np.random.uniform(0.2, 1.8, size=(len(I), len(T), len(S)))\n",
    "    else:\n",
    "        raise ValueError(\n",
    "            \"Invalid randomness level. Please choose 'low', 'medium', or 'high'.\"\n",
    "        )\n",
    "\n",
    "    generation_r = np.zeros((len(I), len(T), len(S)))\n",
    "    for i in range(len(I)):\n",
    "        for t in range(len(T)):\n",
    "            for s in range(len(S)):\n",
    "                generation_r[i, t, s] = generation_avg[i, t] * noise_factors[i, t, s]\n",
    "\n",
    "    return generation_r"
   ]
  },
  {
   "cell_type": "markdown",
   "metadata": {},
   "source": [
    "#### Demand"
   ]
  },
  {
   "cell_type": "code",
   "execution_count": 5,
   "metadata": {},
   "outputs": [],
   "source": [
    "demand_avg = np.array(\n",
    "    [[demand_h[demand_h.index.hour == t].mean().iloc[i] for t in T] for i in I]\n",
    ")\n",
    "\n",
    "\n",
    "def generate_randomized_demand(I, T, S, demand_avg, randomness_level):\n",
    "    np.random.seed(17)\n",
    "    if randomness_level == \"low\":\n",
    "        noise_factors = np.random.uniform(0.8, 1.2, size=(len(I), len(T), len(S)))\n",
    "    elif randomness_level == \"medium\":\n",
    "        noise_factors = np.random.uniform(0.5, 1.5, size=(len(I), len(T), len(S)))\n",
    "    elif randomness_level == \"high\":\n",
    "        noise_factors = np.random.uniform(0.2, 1.8, size=(len(I), len(T), len(S)))\n",
    "    else:\n",
    "        raise ValueError(\n",
    "            \"Invalid randomness level. Please choose 'low', 'medium', or 'high'.\"\n",
    "        )\n",
    "\n",
    "    demand_r = np.zeros((len(I), len(T), len(S)))\n",
    "    for i in range(len(I)):\n",
    "        for t in range(len(T)):\n",
    "            for s in range(len(S)):\n",
    "                demand_r[i, t, s] = demand_avg[i, t] * noise_factors[i, t, s]\n",
    "\n",
    "    return demand_r"
   ]
  },
  {
   "cell_type": "markdown",
   "metadata": {},
   "source": [
    "#### Randomize"
   ]
  },
  {
   "cell_type": "code",
   "execution_count": 6,
   "metadata": {},
   "outputs": [],
   "source": [
    "random_key = 'high'"
   ]
  },
  {
   "cell_type": "code",
   "execution_count": 7,
   "metadata": {},
   "outputs": [],
   "source": [
    "generation_r = generate_randomized_generation(I, T, S, generation_avg, random_key)\n",
    "demand_r = generate_randomized_demand(I, T, S, demand_avg, random_key)"
   ]
  },
  {
   "cell_type": "markdown",
   "metadata": {},
   "source": [
    "#### Residual = generation - demand"
   ]
  },
  {
   "cell_type": "code",
   "execution_count": 8,
   "metadata": {},
   "outputs": [],
   "source": [
    "residual = np.zeros((len(I), len(T), len(S)))\n",
    "for i in range(len(I)):\n",
    "    for t in range(len(T)):\n",
    "        for s in range(len(S)):\n",
    "            residual[i, t, s] = generation_r[i, t, s] - demand_r[i, t, s]\n",
    "\n",
    "R = np.zeros((len(I), len(T), len(S)))\n",
    "for i in range(len(I)):\n",
    "    for t in range(len(T)):\n",
    "        for s in range(len(S)):\n",
    "            R[i, t, s] = max(0, residual[i, t, s])"
   ]
  },
  {
   "cell_type": "markdown",
   "metadata": {},
   "source": [
    "#### Price 설정"
   ]
  },
  {
   "cell_type": "code",
   "execution_count": 9,
   "metadata": {},
   "outputs": [],
   "source": [
    "price_q[\"Hour\"] = price_q[\"Time\"].dt.floor(\"h\")\n",
    "price_h = price_q.groupby(\"Hour\").mean(numeric_only=True)\n",
    "\n",
    "price = price_h.iloc[: len(S) * len(T)]\n",
    "\n",
    "P_DA = np.array(\n",
    "    [sum(price[\"Price\"].iloc[t + s * len(T)] for s in S) / len(S) * 1.2 for t in T]\n",
    ")\n",
    "P_RT = np.array([[price[\"Price\"].iloc[t + s * len(T)] for s in S] for t in T])\n",
    "P_PN = np.array(\n",
    "    [sum(price[\"Price\"].iloc[t + s * len(T)] for s in S) / len(S) * 2 for t in T]\n",
    ")"
   ]
  },
  {
   "cell_type": "markdown",
   "metadata": {},
   "source": [
    "### 모델 DER only"
   ]
  },
  {
   "cell_type": "code",
   "execution_count": 10,
   "metadata": {},
   "outputs": [
    {
     "name": "stdout",
     "output_type": "stream",
     "text": [
      "Set parameter Username\n",
      "Set parameter LicenseID to value 2611964\n",
      "Academic license - for non-commercial use only - expires 2026-01-20\n"
     ]
    }
   ],
   "source": [
    "only = gp.Model(\"only\")\n",
    "only.Params.OutputFlag = 0\n",
    "only.setParam('TimeLimit', 3600)\n",
    "only.setParam('Presolve', 0)\n",
    "\n",
    "x = only.addVars(len(I), len(T), vtype=GRB.CONTINUOUS, lb=0, name=\"x\")\n",
    "y_plus = only.addVars(len(I), len(T), len(S), vtype=GRB.CONTINUOUS, lb=0, name=\"y_plus\")\n",
    "y_minus = only.addVars(len(I), len(T), len(S), vtype=GRB.CONTINUOUS, lb=0, name=\"y_minus\")\n",
    "\n",
    "M = max(R[i, t, s] for i in range(len(I)) for t in range(len(T)) for s in range(len(S)))\n",
    "z = only.addVars(len(I), len(T), len(S), vtype=GRB.BINARY, name=\"z\")\n",
    "\n",
    "only.update()\n",
    "\n",
    "obj = gp.quicksum(\n",
    "    P_DA[t] * x[i, t] for i in range(len(I)) for t in range(len(T))\n",
    ") + gp.quicksum(\n",
    "    prob[s] * (P_RT[t, s] * y_plus[i, t, s] - P_PN[t] * y_minus[i, t, s])\n",
    "    for i in range(len(I))\n",
    "    for t in range(len(T))\n",
    "    for s in range(len(S))\n",
    ")\n",
    "\n",
    "only.setObjective(obj, GRB.MAXIMIZE)"
   ]
  },
  {
   "cell_type": "code",
   "execution_count": 11,
   "metadata": {},
   "outputs": [
    {
     "name": "stdout",
     "output_type": "stream",
     "text": [
      "Optimal solution found!\n",
      "Objective value: 10662.081463159064\n"
     ]
    }
   ],
   "source": [
    "for i in range(len(I)):\n",
    "    for t in range(len(T)):\n",
    "        for s in range(len(S)):\n",
    "            only.addConstr(R[i, t, s] - x[i, t] == y_plus[i, t, s] - y_minus[i, t, s])\n",
    "\n",
    "for i in range(len(I)):\n",
    "    for t in range(len(T)):\n",
    "        for s in range(len(S)):\n",
    "            only.addConstr(y_plus[i, t, s] <= R[i, t, s])\n",
    "\n",
    "for i in range(len(I)):\n",
    "    for t in range(len(T)):\n",
    "        for s in range(len(S)):\n",
    "            only.addConstr(y_plus[i, t, s] <= M * z[i, t, s])\n",
    "            only.addConstr(y_minus[i, t, s] <= M * (1 - z[i, t, s]))\n",
    "\n",
    "only.optimize()\n",
    "\n",
    "if only.status == GRB.OPTIMAL:\n",
    "    print(\"Optimal solution found!\")\n",
    "    print(f\"Objective value: {only.objVal}\")\n",
    "else:\n",
    "    print(\"No optimal solution found.\")"
   ]
  },
  {
   "cell_type": "markdown",
   "metadata": {},
   "source": [
    "### 결과 분석"
   ]
  },
  {
   "cell_type": "markdown",
   "metadata": {},
   "source": [
    "#### 수익 분석"
   ]
  },
  {
   "cell_type": "code",
   "execution_count": 12,
   "metadata": {},
   "outputs": [
    {
     "name": "stdout",
     "output_type": "stream",
     "text": [
      "DA: 1007.91\n",
      "RT: 9931.55\n",
      "Penalty: 277.38\n",
      "목적 함수 기반 총 이익 (_obj): 10662.08\n"
     ]
    }
   ],
   "source": [
    "# Day-ahead 수익 비교\n",
    "total_da_profit_obj = 0\n",
    "for i in range(len(I)):\n",
    "    for t in range(len(T)):\n",
    "        total_da_profit_obj += P_DA[t] * x[i,t].x\n",
    "\n",
    "# Real-time 수익 비교\n",
    "total_rt_profit_obj = 0\n",
    "for i in range(len(I)):\n",
    "    for t in range(len(T)):\n",
    "        for s in range(len(S)):\n",
    "            rt_profit_obj = P_RT[t, s] * y_plus[i, t, s].x\n",
    "            total_rt_profit_obj += prob[s] * rt_profit_obj\n",
    "\n",
    "# 패널티 비용 비교\n",
    "total_penalty_cost_obj = 0\n",
    "for i in range(len(I)):\n",
    "    for t in range(len(T)):\n",
    "        for s in range(len(S)):\n",
    "            penalty_cost_obj = P_PN[t] * y_minus[i, t, s].x\n",
    "            total_penalty_cost_obj += prob[s] * penalty_cost_obj\n",
    "\n",
    "# 총 시스템 이익 (목적 함수 기반)\n",
    "total_system_profit_obj = total_da_profit_obj + total_rt_profit_obj - total_penalty_cost_obj\n",
    "\n",
    "# 결과 출력\n",
    "print(f\"DA: {total_da_profit_obj:.2f}\")\n",
    "print(f\"RT: {total_rt_profit_obj:.2f}\")\n",
    "print(f\"Penalty: {total_penalty_cost_obj:.2f}\")\n",
    "print(f\"목적 함수 기반 총 이익 (_obj): {total_system_profit_obj:.2f}\")"
   ]
  },
  {
   "cell_type": "code",
   "execution_count": 13,
   "metadata": {},
   "outputs": [
    {
     "data": {
      "image/png": "[encoded data removed]",
      "text/plain": [
       "<Figure size 1000x600 with 1 Axes>"
      ]
     },
     "metadata": {},
     "output_type": "display_data"
    }
   ],
   "source": [
    "# ✅ 특정 시간과 시나리오 선택\n",
    "t_target = 14  # 원하는 시간 (예: 13시)\n",
    "s_target = 3  # 원하는 시나리오 (예: 시나리오 3)\n",
    "\n",
    "# ✅ 개별 DER owner들의 y_plus와 y_minus 값 추출\n",
    "y_plus_values = [y_plus[i, t_target, s_target].x for i in range(len(I))]\n",
    "y_minus_values = [\n",
    "    -y_minus[i, t_target, s_target].x for i in range(len(I))\n",
    "]  # Shortage는 음수로 변환\n",
    "\n",
    "# ✅ DER owner 인덱스\n",
    "der_indices = np.arange(len(I))\n",
    "\n",
    "# ✅ Figure 설정\n",
    "fig, ax = plt.subplots(figsize=(10, 6))\n",
    "\n",
    "# ✅ Surplus (y_plus) -> 초록색\n",
    "ax.bar(der_indices, y_plus_values, color=\"green\", label=\"Surplus Energy\")\n",
    "\n",
    "# ✅ Shortage (y_minus) -> 빨간색\n",
    "ax.bar(der_indices, y_minus_values, color=\"red\", label=\"Shortage Energy\")\n",
    "\n",
    "# ✅ 0 기준선 추가\n",
    "ax.axhline(0, color=\"black\", linewidth=0.5)\n",
    "\n",
    "# ✅ 레이블 및 축 설정\n",
    "ax.set_xlabel(\"Individual DER Owner\")\n",
    "ax.set_ylabel(\"Energy\")\n",
    "ax.set_xticks(der_indices)  # DER owner 인덱스 설정\n",
    "ax.legend()\n",
    "ax.set_ylim(-4, 19)\n",
    "\n",
    "# ✅ 제목 추가\n",
    "plt.title(\n",
    "    f\"Individual Deviation from Commitment Decision in Hour {t_target} Scenario {s_target}\"\n",
    ")\n",
    "\n",
    "# ✅ 그래프 출력\n",
    "plt.show()"
   ]
  },
  {
   "cell_type": "markdown",
   "metadata": {},
   "source": [
    "#### 하루 개인별 커밋량 합 분석"
   ]
  },
  {
   "cell_type": "code",
   "execution_count": 14,
   "metadata": {},
   "outputs": [
    {
     "name": "stdout",
     "output_type": "stream",
     "text": [
      "시간 0: 0.0\n",
      "시간 1: 0.0\n",
      "시간 2: 0.0\n",
      "시간 3: 0.0\n",
      "시간 4: 0.0\n",
      "시간 5: 0.0\n",
      "시간 6: 0.0\n",
      "시간 7: 0.0\n",
      "시간 8: 0.0\n",
      "시간 9: 0.5147986034749454\n",
      "시간 10: 1.1537325783348145\n",
      "시간 11: 4.468186031172859\n",
      "시간 12: 8.480075496175662\n",
      "시간 13: 5.14820899283779\n",
      "시간 14: 4.1076077229136345\n",
      "시간 15: 0.0995089161398921\n",
      "시간 16: 0.5935178075250587\n",
      "시간 17: 0.0\n",
      "시간 18: 0.0\n",
      "시간 19: 0.0\n",
      "시간 20: 0.0\n",
      "시간 21: 0.0\n",
      "시간 22: 0.0\n",
      "시간 23: 0.0\n",
      "총 하루 commitment: 24.57\n"
     ]
    }
   ],
   "source": [
    "sum_x = 0\n",
    "for t in T:\n",
    "    time_sum = sum(x[i,t].x for i in I)\n",
    "    print(f\"시간 {t}: {time_sum}\")\n",
    "    sum_x += time_sum\n",
    "print(f\"총 하루 commitment: {sum_x:.2f}\")\n"
   ]
  },
  {
   "cell_type": "markdown",
   "metadata": {},
   "source": [
    "#### 개인 수익 분석"
   ]
  },
  {
   "cell_type": "code",
   "execution_count": 15,
   "metadata": {},
   "outputs": [
    {
     "name": "stdout",
     "output_type": "stream",
     "text": [
      "\n",
      "der_profit:\n",
      "[0] 1204.52\n",
      "[1] 872.55\n",
      "[2] 1237.50\n",
      "[3] 1128.51\n",
      "[4] 724.24\n",
      "[5] 963.51\n",
      "[6] 1732.71\n",
      "[7] 1098.93\n",
      "[8] 768.93\n",
      "[9] 930.68\n",
      "\n",
      "모든 der의 profit 합계: 10662.08\n"
     ]
    }
   ],
   "source": [
    "# 모든 der의 profit 합계 계산\n",
    "total_der_profit = 0\n",
    "der_profit = {}\n",
    "for i in range(len(I)):\n",
    "    # 각 der i의 profit 합계 계산\n",
    "    der_profit[i] = sum(P_DA[t] * x[i,t].x + sum(prob[s] * (P_RT[t,s] * y_plus[i,t,s].x - P_PN[t] * y_minus[i,t,s].x) for s in range(len(S))) for t in range(len(T)))\n",
    "    total_der_profit += der_profit[i]\n",
    "\n",
    "print(\"\\nder_profit:\")\n",
    "for i in range(len(I)):\n",
    "    print(f\"[{i}] {der_profit[i]:.2f}\")\n",
    "\n",
    "print(f\"\\n모든 der의 profit 합계: {total_der_profit:.2f}\")\n"
   ]
  },
  {
   "cell_type": "markdown",
   "metadata": {},
   "source": [
    "### 결과 저장"
   ]
  },
  {
   "cell_type": "code",
   "execution_count": 16,
   "metadata": {},
   "outputs": [],
   "source": [
    "# R_sum = {(i, t): sum(R[i, t, s] for s in S) / len(S) for i in I for t in T}\n",
    "# R_df = pd.DataFrame({i: {t: R_sum[i, t] for t in T} for i in I})\n",
    "# R_df.to_csv('result_R.csv', index=False)\n",
    "\n",
    "# pd.DataFrame(list(P_DA.items()), columns=['time', 'price']).to_csv('result_P_DA.csv', index=False)\n",
    "\n",
    "total_x_only = {t: sum(x[i,t].x for i in I) for t in T}\n",
    "total_x_only_df = pd.DataFrame({'total_x_only': total_x_only})\n",
    "total_x_only_df.to_csv('result/result_base_totalX.csv', index=False)\n",
    "\n",
    "only_profit_value = pd.DataFrame({'only_profit_value': der_profit})\n",
    "only_profit_value.to_csv('result/result_only_profit.csv', index=False)\n",
    "\n",
    "only_obj = pd.DataFrame({'only_obj': [only.objVal]})\n",
    "only_obj.to_csv('result/result_only_obj.csv', index=False)\n"
   ]
  }
 ],
 "metadata": {
  "kernelspec": {
   "display_name": "base",
   "language": "python",
   "name": "python3"
  },
  "language_info": {
   "codemirror_mode": {
    "name": "ipython",
    "version": 3
   },
   "file_extension": ".py",
   "mimetype": "text/x-python",
   "name": "python",
   "nbconvert_exporter": "python",
   "pygments_lexer": "ipython3",
   "version": "3.12.7"
  }
 },
 "nbformat": 4,
 "nbformat_minor": 2
}
