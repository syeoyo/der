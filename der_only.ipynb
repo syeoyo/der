{
 "cells": [
  {
   "cell_type": "code",
   "execution_count": 2,
   "metadata": {},
   "outputs": [],
   "source": [
    "import pandas as pd\n",
    "import numpy as np\n",
    "import cvxpy as cp\n",
    "import matplotlib.pyplot as plt\n",
    "import gurobipy as gp\n",
    "from gurobipy import GRB\n",
    "import os"
   ]
  },
  {
   "cell_type": "markdown",
   "metadata": {},
   "source": [
    "### 데이터 전처리"
   ]
  },
  {
   "cell_type": "code",
   "execution_count": 3,
   "metadata": {},
   "outputs": [],
   "source": [
    "# generation_q = pd.read_csv(\n",
    "#     \"/Users/jangseohyun/Documents/workspace/symply/DER/DATA_generation.csv\"\n",
    "# )\n",
    "# generation_q[\"Time\"] = pd.to_datetime(generation_q[\"Time\"], format=\"%Y-%m-%d %H:%M\")\n",
    "# generation_q[\"Hour\"] = generation_q[\"Time\"].dt.floor(\"h\")\n",
    "# generation_h = generation_q.groupby(\"Hour\").sum(numeric_only=True)\n",
    "\n",
    "# demand_q = pd.read_csv(\n",
    "#     \"/Users/jangseohyun/Documents/workspace/symply/DER/DATA_demand.csv\"\n",
    "# )\n",
    "# demand_q[\"Time\"] = pd.to_datetime(demand_q[\"Time\"], format=\"%Y-%m-%d %H:%M\")\n",
    "# demand_q[\"Hour\"] = demand_q[\"Time\"].dt.floor(\"h\")\n",
    "# demand_h = demand_q.groupby(\"Hour\").sum(numeric_only=True)\n",
    "\n",
    "# price_q = pd.read_csv(\n",
    "#     \"/Users/jangseohyun/Documents/workspace/symply/DER/DATA_price.csv\"\n",
    "# )\n",
    "# price_q[\"Time\"] = pd.to_datetime(price_q[\"Time\"], format=\"%Y-%m-%d %H:%M\")\n",
    "\n",
    "# I = list(range(len(generation_q.columns) - 11))\n",
    "# T = list(generation_q['Time'].dt.hour.unique())\n",
    "# S = list(range(20))\n",
    "# prob = {s: 1 / len(S) for s in S}"
   ]
  },
  {
   "cell_type": "markdown",
   "metadata": {},
   "source": [
    "#### Generation"
   ]
  },
  {
   "cell_type": "code",
   "execution_count": 4,
   "metadata": {},
   "outputs": [],
   "source": [
    "# generation_avg = np.array(\n",
    "#     [[generation_h[generation_h.index.hour == t].mean().iloc[i] for t in T] for i in I]\n",
    "# )\n",
    "\n",
    "\n",
    "# def generate_randomized_generation(I, T, S, generation_avg, randomness_level):\n",
    "#     np.random.seed(7)\n",
    "#     if randomness_level == \"low\":\n",
    "#         noise_factors = np.random.uniform(0.8, 1.2, size=(len(I), len(T), len(S)))\n",
    "#     elif randomness_level == \"medium\":\n",
    "#         noise_factors = np.random.uniform(0.5, 1.5, size=(len(I), len(T), len(S)))\n",
    "#     elif randomness_level == \"high\":\n",
    "#         noise_factors = np.random.uniform(0.2, 1.8, size=(len(I), len(T), len(S)))\n",
    "#     else:\n",
    "#         raise ValueError(\n",
    "#             \"Invalid randomness level. Please choose 'low', 'medium', or 'high'.\"\n",
    "#         )\n",
    "\n",
    "#     generation_r = np.zeros((len(I), len(T), len(S)))\n",
    "#     for i in range(len(I)):\n",
    "#         for t in range(len(T)):\n",
    "#             for s in range(len(S)):\n",
    "#                 generation_r[i, t, s] = generation_avg[i, t] * noise_factors[i, t, s]\n",
    "\n",
    "#     return generation_r"
   ]
  },
  {
   "cell_type": "markdown",
   "metadata": {},
   "source": [
    "#### Demand"
   ]
  },
  {
   "cell_type": "code",
   "execution_count": 5,
   "metadata": {},
   "outputs": [],
   "source": [
    "# demand_avg = np.array(\n",
    "#     [[demand_h[demand_h.index.hour == t].mean().iloc[i] for t in T] for i in I]\n",
    "# )\n",
    "\n",
    "\n",
    "# def generate_randomized_demand(I, T, S, demand_avg, randomness_level):\n",
    "#     np.random.seed(17)\n",
    "#     if randomness_level == \"low\":\n",
    "#         noise_factors = np.random.uniform(0.8, 1.2, size=(len(I), len(T), len(S)))\n",
    "#     elif randomness_level == \"medium\":\n",
    "#         noise_factors = np.random.uniform(0.5, 1.5, size=(len(I), len(T), len(S)))\n",
    "#     elif randomness_level == \"high\":\n",
    "#         noise_factors = np.random.uniform(0.2, 1.8, size=(len(I), len(T), len(S)))\n",
    "#     else:\n",
    "#         raise ValueError(\n",
    "#             \"Invalid randomness level. Please choose 'low', 'medium', or 'high'.\"\n",
    "#         )\n",
    "\n",
    "#     demand_r = np.zeros((len(I), len(T), len(S)))\n",
    "#     for i in range(len(I)):\n",
    "#         for t in range(len(T)):\n",
    "#             for s in range(len(S)):\n",
    "#                 demand_r[i, t, s] = demand_avg[i, t] * noise_factors[i, t, s]\n",
    "\n",
    "#     return demand_r"
   ]
  },
  {
   "cell_type": "markdown",
   "metadata": {},
   "source": [
    "#### Randomize"
   ]
  },
  {
   "cell_type": "code",
   "execution_count": 6,
   "metadata": {},
   "outputs": [],
   "source": [
    "# random_key = 'high'"
   ]
  },
  {
   "cell_type": "code",
   "execution_count": 7,
   "metadata": {},
   "outputs": [],
   "source": [
    "# generation_r = generate_randomized_generation(I, T, S, generation_avg, random_key)\n",
    "# demand_r = generate_randomized_demand(I, T, S, demand_avg, random_key)"
   ]
  },
  {
   "cell_type": "markdown",
   "metadata": {},
   "source": [
    "#### Residual = generation - demand"
   ]
  },
  {
   "cell_type": "code",
   "execution_count": 8,
   "metadata": {},
   "outputs": [],
   "source": [
    "# residual = np.zeros((len(I), len(T), len(S)))\n",
    "# for i in range(len(I)):\n",
    "#     for t in range(len(T)):\n",
    "#         for s in range(len(S)):\n",
    "#             residual[i, t, s] = generation_r[i, t, s] - demand_r[i, t, s]\n",
    "\n",
    "# R = np.zeros((len(I), len(T), len(S)))\n",
    "# for i in range(len(I)):\n",
    "#     for t in range(len(T)):\n",
    "#         for s in range(len(S)):\n",
    "#             R[i, t, s] = max(0, residual[i, t, s])"
   ]
  },
  {
   "cell_type": "markdown",
   "metadata": {},
   "source": [
    "#### Price 설정"
   ]
  },
  {
   "cell_type": "code",
   "execution_count": 9,
   "metadata": {},
   "outputs": [],
   "source": [
    "# price_q[\"Hour\"] = price_q[\"Time\"].dt.floor(\"h\")\n",
    "# price_h = price_q.groupby(\"Hour\").mean(numeric_only=True)\n",
    "\n",
    "# price = price_h.iloc[: len(S) * len(T)]\n",
    "\n",
    "# P_DA = np.array(\n",
    "#     [sum(price[\"Price\"].iloc[t + s * len(T)] for s in S) / len(S) * 1.2 for t in T]\n",
    "# )\n",
    "# P_RT = np.array([[price[\"Price\"].iloc[t + s * len(T)] for s in S] for t in T])\n",
    "# P_PN = np.array(\n",
    "#     [sum(price[\"Price\"].iloc[t + s * len(T)] for s in S) / len(S) * 2 for t in T]\n",
    "# )"
   ]
  },
  {
   "cell_type": "markdown",
   "metadata": {},
   "source": [
    "### 모델 DER only"
   ]
  },
  {
   "cell_type": "code",
   "execution_count": 10,
   "metadata": {},
   "outputs": [
    {
     "name": "stdout",
     "output_type": "stream",
     "text": [
      "✅ 총 5개 파일을 불러왔습니다: 1201.csv, 137.csv, 401.csv, 524.csv, 89.csv\n",
      "📊 데이터 Shape: I=5, T=24, S=20\n"
     ]
    },
    {
     "name": "stderr",
     "output_type": "stream",
     "text": [
      "/var/folders/2_/9m9qjphn0xs45xzpvf1hl0j00000gn/T/ipykernel_64177/2046979868.py:126: FutureWarning: 'H' is deprecated and will be removed in a future version, please use 'h' instead.\n",
      "  nyc_rt[\"Hour\"] = nyc_rt[\"Time Stamp\"].dt.floor(\"H\")\n"
     ]
    }
   ],
   "source": [
    "def load_generation_data(include_files=None, date_filter=None):\n",
    "    data_dir = \"/Users/jangseohyun/Documents/workspace/symply/DER/data/generation\"\n",
    "    all_files = sorted([f for f in os.listdir(data_dir) if f.endswith('.csv')])\n",
    "\n",
    "    if include_files is not None:\n",
    "        for file in include_files:\n",
    "            if file not in all_files:\n",
    "                raise ValueError(f\"파일을 찾을 수 없습니다: {file}\")\n",
    "        files_to_load = [f for f in all_files if f in include_files]\n",
    "    else:\n",
    "        files_to_load = all_files\n",
    "\n",
    "    I = len(files_to_load)  \n",
    "    T = 24 \n",
    "    generation_data = np.zeros((I, T)) \n",
    "\n",
    "    loaded_files = []\n",
    "    \n",
    "    for idx, file in enumerate(files_to_load):\n",
    "        file_path = os.path.join(data_dir, file)\n",
    "        df = pd.read_csv(file_path)\n",
    "        df.columns = df.columns.str.strip()\n",
    "\n",
    "        date_col = \"Date\"\n",
    "        hour_col = \"Hour (Eastern Time, Daylight-Adjusted)\"\n",
    "        gen_col = \"Electricity Generated\"\n",
    "\n",
    "        if any(col not in df.columns for col in [date_col, hour_col, gen_col]):\n",
    "            print(f\"{file}: 필요한 컬럼 없음. 스킵됨.\")\n",
    "            continue\n",
    "\n",
    "        if date_filter:\n",
    "            df = df[df[date_col] == date_filter]\n",
    "            if df.empty:\n",
    "                print(f\"{file}: {date_filter} 데이터 없음. 스킵됨.\")\n",
    "                continue \n",
    "\n",
    "        df = df[df[hour_col].astype(str).str.match(r'^\\d+$')]\n",
    "        df[\"Time\"] = df[hour_col].astype(int)\n",
    "        df = df[df[\"Time\"].between(0, 23)]\n",
    "\n",
    "        for t in range(T):\n",
    "            if t in df[\"Time\"].values:\n",
    "                generation_data[idx, t] = df[df[\"Time\"] == t][gen_col].values[0]\n",
    "\n",
    "        loaded_files.append(file)\n",
    "\n",
    "    print(f\"✅ 총 {I}개 파일을 불러왔습니다: {', '.join(loaded_files)}\")\n",
    "\n",
    "    return generation_data, I, T\n",
    "\n",
    "def generate_randomized_generation(I, T, S, data, randomness_level):\n",
    "    np.random.seed(7)\n",
    "\n",
    "    noise_ranges = {\n",
    "        \"low\": (0.8, 1.2),\n",
    "        \"medium\": (0.5, 1.5),\n",
    "        \"high\": (0.2, 1.8),\n",
    "    }\n",
    "\n",
    "    if randomness_level not in noise_ranges:\n",
    "        raise ValueError(\"Invalid randomness level. Please choose 'low', 'medium', or 'high'.\")\n",
    "\n",
    "    low, high = noise_ranges[randomness_level]\n",
    "    noise_factors = np.random.uniform(low, high, size=(I, T, S))\n",
    "\n",
    "    generation_r = np.expand_dims(data, axis=-1) * noise_factors\n",
    "    \n",
    "    print(f\"📊 데이터 Shape: I={I}, T={T}, S={S}\")\n",
    "    return generation_r\n",
    "\n",
    "def plot_generation_data(generation_data, I):\n",
    "    hours = np.arange(24)\n",
    "    plt.figure(figsize=(15, 9))\n",
    "\n",
    "    for i in range(I):\n",
    "        plt.plot(hours, generation_data[i], marker='o', linestyle='-', alpha=0.7, label=f'Generator {i}')\n",
    "\n",
    "    plt.xlabel(\"Hour\")\n",
    "    plt.ylabel(\"Electricity Generated (kWh)\")\n",
    "    plt.title(\"Hourly Electricity Generation for All Generators\")\n",
    "    plt.xticks(hours)  # 0~23 시간 설정\n",
    "    plt.legend(loc=\"upper left\", fontsize='small')\n",
    "\n",
    "    plt.show()\n",
    "\n",
    "def plot_randomized_generation(R, I, T, S):\n",
    "    hours = np.arange(T)\n",
    "    \n",
    "    plt.figure(figsize=(15, 9))\n",
    "\n",
    "    for i in range(I):\n",
    "        plt.plot(hours, R[i, :, S], marker='o', linestyle='-', alpha=0.7, label=f'Generator {i}')\n",
    "\n",
    "    plt.xlabel(\"Hour\")\n",
    "    plt.ylabel(\"Electricity Generated (kWh)\")\n",
    "    plt.title(f\"Randomized Hourly Generation for Scenario {S}\")\n",
    "    plt.xticks(hours) \n",
    "    plt.legend(loc=\"upper left\") \n",
    "\n",
    "    plt.show()\n",
    "       \n",
    "def plot_scenarios_for_generator(R, i):\n",
    "\n",
    "    T = R.shape[1]\n",
    "    S = R.shape[2] \n",
    "    hours = np.arange(T) \n",
    "\n",
    "    plt.figure(figsize=(15, 9))\n",
    "\n",
    "    for s in range(S):\n",
    "        plt.plot(hours, R[i, :, s], linestyle='-', alpha=0.6, label=f'Scenario {s+1}')\n",
    "\n",
    "    plt.xlabel(\"Hour\")\n",
    "    plt.ylabel(\"Electricity Generated (kWh)\")\n",
    "    plt.title(f\"Hourly Electricity Generation for Generator {i} Across All Scenarios\")\n",
    "    plt.xticks(hours)\n",
    "    plt.legend(loc=\"upper left\", fontsize='small', ncol=2)\n",
    "    plt.show()\n",
    "\n",
    "def generate_rt_scenarios(rt_da, S, randomness_level):\n",
    "\n",
    "    rt_da[\"Time Stamp\"] = pd.to_datetime(rt_da[\"Time Stamp\"])\n",
    "    nyc_rt = rt_da[rt_da[\"Name\"] == \"N.Y.C.\"].copy() \n",
    "\n",
    "    nyc_rt[\"Hour\"] = nyc_rt[\"Time Stamp\"].dt.floor(\"H\")\n",
    "    hourly_avg = nyc_rt.groupby(\"Hour\")[\"LBMP ($/MWHr)\"].mean().reset_index()\n",
    "    price_hourly = hourly_avg[\"LBMP ($/MWHr)\"].to_numpy()\n",
    "    T = len(price_hourly)\n",
    "\n",
    "    np.random.seed(17)\n",
    "    noise_ranges = {\n",
    "        \"low\": (0.95, 1.05),\n",
    "        \"medium\": (0.85, 1.15),\n",
    "        \"high\": (0.7, 1.3),\n",
    "    }\n",
    "\n",
    "    if randomness_level not in noise_ranges:\n",
    "        raise ValueError(\"Invalid randomness level. Choose from 'low', 'medium', 'high'.\")\n",
    "\n",
    "    low, high = noise_ranges[randomness_level]\n",
    "    noise_factors = np.random.uniform(low, high, size=(T, S))\n",
    "\n",
    "    P_RT = np.expand_dims(price_hourly, axis=-1) * noise_factors\n",
    "\n",
    "    return P_RT\n",
    "\n",
    "def plot_rt_scenarios(P_RT):\n",
    "    T, S = P_RT.shape\n",
    "    hours = np.arange(T)\n",
    "\n",
    "    plt.figure(figsize=(15, 8))\n",
    "\n",
    "    for s in range(S):\n",
    "        plt.plot(hours, P_RT[:, s], linestyle='-', alpha=0.6, label=f\"Scenario {s+1}\")\n",
    "\n",
    "    plt.xlabel(\"Hour\")\n",
    "    plt.ylabel(\"Price ($/MWHr)\")\n",
    "    plt.title(\"Real-Time Price Scenarios (Hourly Averaged)\")\n",
    "    plt.xticks(hours)\n",
    "    plt.legend(loc=\"upper left\", fontsize=\"small\", ncol=2)\n",
    "\n",
    "    plt.show()\n",
    "    \n",
    "only_profit = np.array(pd.read_csv(\"result/result_only_profit.csv\"))\n",
    "ny_da = pd.read_csv(\"/Users/jangseohyun/Documents/workspace/symply/DER/data/price/20220718da.csv\")\n",
    "ny_rt = pd.read_csv(\"/Users/jangseohyun/Documents/workspace/symply/DER/data/price/20220718rt.csv\")\n",
    "ny_da[\"Time Stamp\"] = pd.to_datetime(ny_da[\"Time Stamp\"])\n",
    "ny_da[\"Hour\"] = ny_da[\"Time Stamp\"].dt.hour\n",
    "nyc_data = ny_da[ny_da[\"Name\"] == \"N.Y.C.\"]\n",
    "P_DA = nyc_data[\"LBMP ($/MWHr)\"].to_numpy() * 1.3\n",
    "P_PN = P_DA * 1.5\n",
    "\n",
    "# plot_generation_data(generation_data, 10)\n",
    "# plot_randomized_generation(R, I, T, 7)\n",
    "# plot_scenarios_for_generator(R, 1)\n",
    "# plot_rt_scenarios(P_RT)\n",
    "\n",
    "# include_files = ['1201.csv', '137.csv', '281.csv', '397.csv', '401.csv', '430.csv', '514.csv', '524.csv', '775.csv', '89.csv']\n",
    "include_files = ['1201.csv', '137.csv', '401.csv', '524.csv', '89.csv']\n",
    "generation_data, I, T = load_generation_data(include_files, \"2022-07-18\")\n",
    "\n",
    "S = 20\n",
    "randomness_level = \"medium\"\n",
    "R = generate_randomized_generation(I, T, S, generation_data, randomness_level)\n",
    "P_RT = generate_rt_scenarios(ny_rt, S, randomness_level)\n"
   ]
  },
  {
   "cell_type": "code",
   "execution_count": 11,
   "metadata": {},
   "outputs": [
    {
     "name": "stdout",
     "output_type": "stream",
     "text": [
      "Set parameter Username\n",
      "Set parameter LicenseID to value 2611964\n",
      "Academic license - for non-commercial use only - expires 2026-01-20\n"
     ]
    }
   ],
   "source": [
    "only = gp.Model(\"only\")\n",
    "\n",
    "x = only.addVars(I, T, vtype=GRB.CONTINUOUS, lb=0, name=\"x\")\n",
    "y_plus = only.addVars(I, T, S, vtype=GRB.CONTINUOUS, lb=0, name=\"y_plus\")\n",
    "y_minus = only.addVars(I, T, S, vtype=GRB.CONTINUOUS, lb=0, name=\"y_minus\")\n",
    "\n",
    "M = max(R[i, t, s] for i in range(I) for t in range(T) for s in range(S))\n",
    "z = only.addVars(I, T, S, vtype=GRB.BINARY, name=\"z\")\n",
    "\n",
    "only.update()\n",
    "\n",
    "obj = gp.quicksum(\n",
    "    P_DA[t] * x[i, t] for i in range(I) for t in range(T)\n",
    ") + gp.quicksum(\n",
    "    1/S * (P_RT[t, s] * y_plus[i, t, s] - P_PN[t] * y_minus[i, t, s])\n",
    "    for i in range(I)\n",
    "    for t in range(T)\n",
    "    for s in range(S)\n",
    ")\n",
    "\n",
    "only.setObjective(obj, GRB.MAXIMIZE)"
   ]
  },
  {
   "cell_type": "code",
   "execution_count": 12,
   "metadata": {},
   "outputs": [
    {
     "name": "stdout",
     "output_type": "stream",
     "text": [
      "Gurobi Optimizer version 12.0.0 build v12.0.0rc1 (mac64[arm] - Darwin 24.3.0 24D70)\n",
      "\n",
      "CPU model: Apple M3\n",
      "Thread count: 8 physical cores, 8 logical processors, using up to 8 threads\n",
      "\n",
      "Optimize a model with 9600 rows, 7320 columns and 19200 nonzeros\n",
      "Model fingerprint: 0x8bcbcf41\n",
      "Variable types: 4920 continuous, 2400 integer (2400 binary)\n",
      "Coefficient statistics:\n",
      "  Matrix range     [1e+00, 6e+02]\n",
      "  Objective range  [3e+00, 2e+02]\n",
      "  Bounds range     [1e+00, 1e+00]\n",
      "  RHS range        [1e-01, 6e+02]\n",
      "Found heuristic solution: objective 1150530.1811\n",
      "Presolve removed 9540 rows and 7259 columns\n",
      "Presolve time: 0.04s\n",
      "Presolved: 60 rows, 61 columns, 140 nonzeros\n",
      "Found heuristic solution: objective 1539265.3541\n",
      "Variable types: 41 continuous, 20 integer (20 binary)\n",
      "\n",
      "Root relaxation: interrupted, 30 iterations, 0.00 seconds (0.00 work units)\n",
      "\n",
      "    Nodes    |    Current Node    |     Objective Bounds      |     Work\n",
      " Expl Unexpl |  Obj  Depth IntInf | Incumbent    BestBd   Gap | It/Node Time\n",
      "\n",
      "     0     0          -    0      1539265.35 1539397.86  0.01%     -    0s\n",
      "\n",
      "Explored 1 nodes (30 simplex iterations) in 0.05 seconds (0.05 work units)\n",
      "Thread count was 8 (of 8 available processors)\n",
      "\n",
      "Solution count 2: 1.53927e+06 1.15053e+06 \n",
      "\n",
      "Optimal solution found (tolerance 1.00e-04)\n",
      "Best objective 1.539265354148e+06, best bound 1.539397863688e+06, gap 0.0086%\n",
      "Optimal solution found!\n",
      "Objective value: 1539265.3541476936\n"
     ]
    }
   ],
   "source": [
    "for i in range(I):\n",
    "    for t in range(T):\n",
    "        for s in range(S):\n",
    "            only.addConstr(R[i, t, s] - x[i, t] == y_plus[i, t, s] - y_minus[i, t, s])\n",
    "\n",
    "for i in range(I):\n",
    "    for t in range(T):\n",
    "        for s in range(S):\n",
    "            only.addConstr(y_plus[i, t, s] <= R[i, t, s])\n",
    "\n",
    "for i in range(I):\n",
    "    for t in range(T):\n",
    "        for s in range(S):\n",
    "            only.addConstr(y_plus[i, t, s] <= M * z[i, t, s])\n",
    "            only.addConstr(y_minus[i, t, s] <= M * (1 - z[i, t, s]))\n",
    "\n",
    "only.optimize()\n",
    "\n",
    "if only.status == GRB.OPTIMAL:\n",
    "    print(\"Optimal solution found!\")\n",
    "    print(f\"Objective value: {only.objVal}\")\n",
    "else:\n",
    "    print(\"No optimal solution found.\")"
   ]
  },
  {
   "cell_type": "markdown",
   "metadata": {},
   "source": [
    "### 결과 분석"
   ]
  },
  {
   "cell_type": "markdown",
   "metadata": {},
   "source": [
    "#### 수익 분석"
   ]
  },
  {
   "cell_type": "code",
   "execution_count": 13,
   "metadata": {},
   "outputs": [
    {
     "name": "stdout",
     "output_type": "stream",
     "text": [
      "DA: 374392.90\n",
      "RT: 1186293.00\n",
      "Penalty: 21420.54\n",
      "목적 함수 기반 총 이익 (_obj): 1539265.35\n"
     ]
    }
   ],
   "source": [
    "# Day-ahead 수익 비교\n",
    "total_da_profit_obj = 0\n",
    "for i in range(I):\n",
    "    for t in range(T):\n",
    "        total_da_profit_obj += P_DA[t] * x[i,t].x\n",
    "\n",
    "# Real-time 수익 비교\n",
    "total_rt_profit_obj = 0\n",
    "for i in range(I):\n",
    "    for t in range(T):\n",
    "        for s in range(S):\n",
    "            rt_profit_obj = P_RT[t, s] * y_plus[i, t, s].x\n",
    "            total_rt_profit_obj += 1/S * rt_profit_obj\n",
    "\n",
    "# 패널티 비용 비교\n",
    "total_penalty_cost_obj = 0\n",
    "for i in range(I):\n",
    "    for t in range(T):\n",
    "        for s in range(S):\n",
    "            penalty_cost_obj = P_PN[t] * y_minus[i, t, s].x\n",
    "            total_penalty_cost_obj += 1/S * penalty_cost_obj\n",
    "\n",
    "# 총 시스템 이익 (목적 함수 기반)\n",
    "total_system_profit_obj = total_da_profit_obj + total_rt_profit_obj - total_penalty_cost_obj\n",
    "\n",
    "# 결과 출력\n",
    "print(f\"DA: {total_da_profit_obj:.2f}\")\n",
    "print(f\"RT: {total_rt_profit_obj:.2f}\")\n",
    "print(f\"Penalty: {total_penalty_cost_obj:.2f}\")\n",
    "print(f\"목적 함수 기반 총 이익 (_obj): {total_system_profit_obj:.2f}\")"
   ]
  },
  {
   "cell_type": "code",
   "execution_count": 14,
   "metadata": {},
   "outputs": [
    {
     "data": {
      "image/png": "[encoded data removed]",
      "text/plain": [
       "<Figure size 1000x600 with 1 Axes>"
      ]
     },
     "metadata": {},
     "output_type": "display_data"
    }
   ],
   "source": [
    "# ✅ 특정 시간과 시나리오 선택\n",
    "t_target = 14  # 원하는 시간 (예: 13시)\n",
    "s_target = 3  # 원하는 시나리오 (예: 시나리오 3)\n",
    "\n",
    "# ✅ 개별 DER owner들의 y_plus와 y_minus 값 추출\n",
    "y_plus_values = [y_plus[i, t_target, s_target].x for i in range(I)]\n",
    "y_minus_values = [\n",
    "    -y_minus[i, t_target, s_target].x for i in range(I)\n",
    "]  # Shortage는 음수로 변환\n",
    "\n",
    "# ✅ DER owner 인덱스\n",
    "der_indices = np.arange(I)\n",
    "\n",
    "# ✅ Figure 설정\n",
    "fig, ax = plt.subplots(figsize=(10, 6))\n",
    "\n",
    "# ✅ Surplus (y_plus) -> 초록색\n",
    "ax.bar(der_indices, y_plus_values, color=\"green\", label=\"Surplus Energy\")\n",
    "\n",
    "# ✅ Shortage (y_minus) -> 빨간색\n",
    "ax.bar(der_indices, y_minus_values, color=\"red\", label=\"Shortage Energy\")\n",
    "\n",
    "# ✅ 0 기준선 추가\n",
    "ax.axhline(0, color=\"black\", linewidth=0.5)\n",
    "\n",
    "# ✅ 레이블 및 축 설정\n",
    "ax.set_xlabel(\"Individual DER Owner\")\n",
    "ax.set_ylabel(\"Energy\")\n",
    "ax.set_xticks(der_indices)  # DER owner 인덱스 설정\n",
    "ax.legend()\n",
    "# ax.set_ylim(-4, 19)\n",
    "\n",
    "# ✅ 제목 추가\n",
    "plt.title(\n",
    "    f\"Individual Deviation from Commitment Decision in Hour {t_target} Scenario {s_target}\"\n",
    ")\n",
    "\n",
    "# ✅ 그래프 출력\n",
    "plt.show()"
   ]
  },
  {
   "cell_type": "markdown",
   "metadata": {},
   "source": [
    "#### 하루 개인별 커밋량 합 분석"
   ]
  },
  {
   "cell_type": "code",
   "execution_count": 15,
   "metadata": {},
   "outputs": [
    {
     "name": "stdout",
     "output_type": "stream",
     "text": [
      "시간 0: 0.0\n",
      "시간 1: 0.0\n",
      "시간 2: 0.0\n",
      "시간 3: 0.0\n",
      "시간 4: 0.28403118755573914\n",
      "시간 5: 0.0\n",
      "시간 6: 2.4981276760799687\n",
      "시간 7: 7.445725211758897\n",
      "시간 8: 24.369290928759025\n",
      "시간 9: 141.54069608000876\n",
      "시간 10: 301.98973431531476\n",
      "시간 11: 0.0\n",
      "시간 12: 0.0\n",
      "시간 13: 0.0\n",
      "시간 14: 1032.020294451971\n",
      "시간 15: 0.0\n",
      "시간 16: 536.169079397722\n",
      "시간 17: 0.0\n",
      "시간 18: 0.0\n",
      "시간 19: 331.91600206193453\n",
      "시간 20: 89.37735829078197\n",
      "시간 21: 17.02908218068784\n",
      "시간 22: 0.0\n",
      "시간 23: 0.0\n",
      "총 하루 commitment: 2484.64\n"
     ]
    }
   ],
   "source": [
    "sum_x = 0\n",
    "for t in range(T):\n",
    "    time_sum = sum(x[i,t].x for i in range(I))\n",
    "    print(f\"시간 {t}: {time_sum}\")\n",
    "    sum_x += time_sum\n",
    "print(f\"총 하루 commitment: {sum_x:.2f}\")\n"
   ]
  },
  {
   "cell_type": "markdown",
   "metadata": {},
   "source": [
    "#### 개인 수익 분석"
   ]
  },
  {
   "cell_type": "code",
   "execution_count": 16,
   "metadata": {},
   "outputs": [
    {
     "name": "stdout",
     "output_type": "stream",
     "text": [
      "\n",
      "der_profit:\n",
      "[0] 204610.06\n",
      "[1] 340694.55\n",
      "[2] 391107.28\n",
      "[3] 446291.43\n",
      "[4] 156562.03\n",
      "\n",
      "모든 der의 profit 합계: 1539265.35\n"
     ]
    }
   ],
   "source": [
    "# 모든 der의 profit 합계 계산\n",
    "total_der_profit = 0\n",
    "der_profit = {}\n",
    "for i in range(I):\n",
    "    # 각 der i의 profit 합계 계산\n",
    "    der_profit[i] = sum(P_DA[t] * x[i,t].x + sum(1/S * (P_RT[t,s] * y_plus[i,t,s].x - P_PN[t] * y_minus[i,t,s].x) for s in range(S)) for t in range(T))\n",
    "    total_der_profit += der_profit[i]\n",
    "\n",
    "print(\"\\nder_profit:\")\n",
    "for i in range(I):\n",
    "    print(f\"[{i}] {der_profit[i]:.2f}\")\n",
    "\n",
    "print(f\"\\n모든 der의 profit 합계: {total_der_profit:.2f}\")\n"
   ]
  },
  {
   "cell_type": "markdown",
   "metadata": {},
   "source": [
    "### 결과 저장"
   ]
  },
  {
   "cell_type": "code",
   "execution_count": 17,
   "metadata": {},
   "outputs": [],
   "source": [
    "# R_sum = {(i, t): sum(R[i, t, s] for s in S) / len(S) for i in I for t in T}\n",
    "# R_df = pd.DataFrame({i: {t: R_sum[i, t] for t in T} for i in I})\n",
    "# R_df.to_csv('result_R.csv', index=False)\n",
    "\n",
    "# pd.DataFrame(list(P_DA.items()), columns=['time', 'price']).to_csv('result_P_DA.csv', index=False)\n",
    "\n",
    "total_x_only = {t: sum(x[i,t].x for i in range(I)) for t in range(T)}\n",
    "total_x_only_df = pd.DataFrame({'total_x_only': total_x_only})\n",
    "total_x_only_df.to_csv('result/result_base_totalX.csv', index=False)\n",
    "\n",
    "only_profit_value = pd.DataFrame({'only_profit_value': der_profit})\n",
    "only_profit_value.to_csv('result/result_only_profit.csv', index=False)\n",
    "\n",
    "only_obj = pd.DataFrame({'only_obj': [only.objVal]})\n",
    "only_obj.to_csv('result/result_only_obj.csv', index=False)\n"
   ]
  }
 ],
 "metadata": {
  "kernelspec": {
   "display_name": "base",
   "language": "python",
   "name": "python3"
  },
  "language_info": {
   "codemirror_mode": {
    "name": "ipython",
    "version": 3
   },
   "file_extension": ".py",
   "mimetype": "text/x-python",
   "name": "python",
   "nbconvert_exporter": "python",
   "pygments_lexer": "ipython3",
   "version": "3.12.7"
  }
 },
 "nbformat": 4,
 "nbformat_minor": 2
}
