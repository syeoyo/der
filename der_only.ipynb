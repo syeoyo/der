{
 "cells": [
  {
   "cell_type": "code",
   "execution_count": 1,
   "metadata": {},
   "outputs": [
    {
     "name": "stdout",
     "output_type": "stream",
     "text": [
      "✅ 총 3개 파일을 불러왔습니다: 1201.csv, 401.csv, 89.csv\n",
      "📊 데이터 Shape: I=3, T=24, S=30\n",
      "✅ 시뮬레이션 초기화 완료: S=30, Randomness='high', M1=773.00, M2=1199.00\n"
     ]
    }
   ],
   "source": [
    "import pandas as pd\n",
    "import numpy as np\n",
    "import matplotlib.pyplot as plt\n",
    "import gurobipy as gp\n",
    "from gurobipy import GRB\n",
    "import os\n",
    "from itertools import product\n",
    "from functions import (load_parameters, load_generation_data, load_price_data, generate_randomized_generation,\n",
    "generate_rt_scenarios, plot_generation_data, plot_randomized_generation, plot_scenarios_for_generator, plot_rt_scenarios)\n",
    "\n",
    "generation_data, I, T = load_generation_data(date_filter=\"2022-07-18\")\n",
    "S, R, P_RT, K, K0, M1, M2 = load_parameters(I, T, generation_data)\n",
    "P_DA, P_PN = load_price_data()"
   ]
  },
  {
   "cell_type": "markdown",
   "metadata": {},
   "source": [
    "### 모델 DER only"
   ]
  },
  {
   "cell_type": "code",
   "execution_count": 2,
   "metadata": {},
   "outputs": [
    {
     "name": "stdout",
     "output_type": "stream",
     "text": [
      "Set parameter Username\n",
      "Set parameter LicenseID to value 2611964\n",
      "Academic license - for non-commercial use only - expires 2026-01-20\n"
     ]
    }
   ],
   "source": [
    "only = gp.Model(\"only\")\n",
    "# only.setParam(\"MIPGap\", 1e-7)\n",
    "\n",
    "x = only.addVars(I, T, vtype=GRB.CONTINUOUS, lb=0, name=\"x\")\n",
    "y_plus = only.addVars(I, T, S, vtype=GRB.CONTINUOUS, lb=0, name=\"y_plus\")\n",
    "y_minus = only.addVars(I, T, S, vtype=GRB.CONTINUOUS, lb=0, name=\"y_minus\")\n",
    "\n",
    "M = max(R[i, t, s] for i in range(I) for t in range(T) for s in range(S))\n",
    "z = only.addVars(I, T, S, vtype=GRB.BINARY, name=\"z\")\n",
    "\n",
    "only.update()\n",
    "\n",
    "obj = gp.quicksum(\n",
    "    P_DA[t] * x[i, t] for i in range(I) for t in range(T)\n",
    ") + gp.quicksum(\n",
    "    1/S * (P_RT[t, s] * y_plus[i, t, s] - P_PN[t] * y_minus[i, t, s])\n",
    "    for i in range(I)\n",
    "    for t in range(T)\n",
    "    for s in range(S)\n",
    ")\n",
    "\n",
    "only.setObjective(obj, GRB.MAXIMIZE)"
   ]
  },
  {
   "cell_type": "code",
   "execution_count": 3,
   "metadata": {},
   "outputs": [
    {
     "name": "stdout",
     "output_type": "stream",
     "text": [
      "Gurobi Optimizer version 12.0.1 build v12.0.1rc0 (mac64[arm] - Darwin 24.3.0 24D81)\n",
      "\n",
      "CPU model: Apple M3\n",
      "Thread count: 8 physical cores, 8 logical processors, using up to 8 threads\n",
      "\n",
      "Optimize a model with 4320 rows, 6552 columns and 8640 nonzeros\n",
      "Model fingerprint: 0x695706d5\n",
      "Variable types: 4392 continuous, 2160 integer (2160 binary)\n",
      "Coefficient statistics:\n",
      "  Matrix range     [1e+00, 1e+00]\n",
      "  Objective range  [2e+00, 2e+02]\n",
      "  Bounds range     [1e+00, 1e+00]\n",
      "  RHS range        [1e+00, 8e+02]\n",
      "Found heuristic solution: objective 629145.20014\n",
      "Presolve removed 4320 rows and 6552 columns\n",
      "Presolve time: 0.00s\n",
      "Presolve: All rows and columns removed\n",
      "\n",
      "Explored 0 nodes (0 simplex iterations) in 0.00 seconds (0.00 work units)\n",
      "Thread count was 1 (of 8 available processors)\n",
      "\n",
      "Solution count 2: 755304 629145 \n",
      "\n",
      "Optimal solution found (tolerance 1.00e-04)\n",
      "Best objective 7.553036144954e+05, best bound 7.553036144954e+05, gap 0.0000%\n",
      "Optimal solution found!\n",
      "Objective value: 755303.6144954375\n"
     ]
    }
   ],
   "source": [
    "for i in range(I):\n",
    "    for t in range(T):\n",
    "        for s in range(S):\n",
    "            only.addConstr(R[i, t, s] - x[i, t] == y_plus[i, t, s] - y_minus[i, t, s])\n",
    "\n",
    "for i in range(I):\n",
    "    for t in range(T):\n",
    "        for s in range(S):\n",
    "            only.addConstr(y_plus[i, t, s] <= R[i, t, s])\n",
    "\n",
    "# for i in range(I):\n",
    "#     for t in range(T):\n",
    "#         for s in range(S):\n",
    "#             only.addConstr(y_plus[i, t, s] <= M * z[i, t, s])\n",
    "#             only.addConstr(y_minus[i, t, s] <= M * (1 - z[i, t, s]))\n",
    "\n",
    "only.optimize()\n",
    "\n",
    "if only.status == GRB.OPTIMAL:\n",
    "    print(\"Optimal solution found!\")\n",
    "    print(f\"Objective value: {only.objVal}\")\n",
    "else:\n",
    "    print(\"No optimal solution found.\")"
   ]
  },
  {
   "cell_type": "markdown",
   "metadata": {},
   "source": [
    "### 결과 분석"
   ]
  },
  {
   "cell_type": "markdown",
   "metadata": {},
   "source": [
    "#### 수익 분석"
   ]
  },
  {
   "cell_type": "code",
   "execution_count": 4,
   "metadata": {},
   "outputs": [
    {
     "name": "stdout",
     "output_type": "stream",
     "text": [
      "DA: 167420.54\n",
      "RT: 613507.35\n",
      "Penalty: 25624.27\n",
      "목적 함수 기반 총 이익 (_obj): 755303.61\n"
     ]
    }
   ],
   "source": [
    "# Day-ahead 수익 비교\n",
    "total_da_profit_obj = 0\n",
    "for i in range(I):\n",
    "    for t in range(T):\n",
    "        total_da_profit_obj += P_DA[t] * x[i,t].x\n",
    "\n",
    "# Real-time 수익 비교\n",
    "total_rt_profit_obj = 0\n",
    "for i in range(I):\n",
    "    for t in range(T):\n",
    "        for s in range(S):\n",
    "            rt_profit_obj = P_RT[t, s] * y_plus[i, t, s].x\n",
    "            total_rt_profit_obj += 1/S * rt_profit_obj\n",
    "\n",
    "# 패널티 비용 비교\n",
    "total_penalty_cost_obj = 0\n",
    "for i in range(I):\n",
    "    for t in range(T):\n",
    "        for s in range(S):\n",
    "            penalty_cost_obj = P_PN[t] * y_minus[i, t, s].x\n",
    "            total_penalty_cost_obj += 1/S * penalty_cost_obj\n",
    "\n",
    "# 총 시스템 이익 (목적 함수 기반)\n",
    "total_system_profit_obj = total_da_profit_obj + total_rt_profit_obj - total_penalty_cost_obj\n",
    "\n",
    "# 결과 출력\n",
    "print(f\"DA: {total_da_profit_obj:.2f}\")\n",
    "print(f\"RT: {total_rt_profit_obj:.2f}\")\n",
    "print(f\"Penalty: {total_penalty_cost_obj:.2f}\")\n",
    "print(f\"목적 함수 기반 총 이익 (_obj): {total_system_profit_obj:.2f}\")"
   ]
  },
  {
   "cell_type": "markdown",
   "metadata": {},
   "source": [
    "#### 하루 개인별 커밋량 합 분석"
   ]
  },
  {
   "cell_type": "code",
   "execution_count": 5,
   "metadata": {},
   "outputs": [
    {
     "name": "stdout",
     "output_type": "stream",
     "text": [
      "시간 0: 0.0\n",
      "시간 1: 0.0\n",
      "시간 2: 0.0\n",
      "시간 3: 0.0\n",
      "시간 4: 0.0\n",
      "시간 5: 0.0\n",
      "시간 6: 2.0\n",
      "시간 7: 4.0\n",
      "시간 8: 19.0\n",
      "시간 9: 69.0\n",
      "시간 10: 96.0\n",
      "시간 11: 0.0\n",
      "시간 12: 0.0\n",
      "시간 13: 0.0\n",
      "시간 14: 575.0\n",
      "시간 15: 0.0\n",
      "시간 16: 205.0\n",
      "시간 17: 0.0\n",
      "시간 18: 0.0\n",
      "시간 19: 89.0\n",
      "시간 20: 37.0\n",
      "시간 21: 4.0\n",
      "시간 22: 0.0\n",
      "시간 23: 0.0\n",
      "총 하루 commitment: 1100.00\n"
     ]
    }
   ],
   "source": [
    "sum_x = 0\n",
    "for t in range(T):\n",
    "    time_sum = sum(x[i,t].x for i in range(I))\n",
    "    print(f\"시간 {t}: {time_sum}\")\n",
    "    sum_x += time_sum\n",
    "print(f\"총 하루 commitment: {sum_x:.2f}\")\n"
   ]
  },
  {
   "cell_type": "markdown",
   "metadata": {},
   "source": [
    "#### 개인 수익 분석"
   ]
  },
  {
   "cell_type": "code",
   "execution_count": 6,
   "metadata": {},
   "outputs": [
    {
     "name": "stdout",
     "output_type": "stream",
     "text": [
      "\n",
      "der_profit:\n",
      "[0] 201827.57\n",
      "[1] 385269.97\n",
      "[2] 168206.08\n",
      "\n",
      "모든 der의 profit 합계: 755303.61\n"
     ]
    }
   ],
   "source": [
    "# 모든 der의 profit 합계 계산\n",
    "total_der_profit = 0\n",
    "der_profit = {}\n",
    "for i in range(I):\n",
    "    # 각 der i의 profit 합계 계산\n",
    "    der_profit[i] = sum(P_DA[t] * x[i,t].x + sum(1/S * (P_RT[t,s] * y_plus[i,t,s].x - P_PN[t] * y_minus[i,t,s].x) for s in range(S)) for t in range(T))\n",
    "    total_der_profit += der_profit[i]\n",
    "\n",
    "print(\"\\nder_profit:\")\n",
    "for i in range(I):\n",
    "    print(f\"[{i}] {der_profit[i]:.2f}\")\n",
    "\n",
    "print(f\"\\n모든 der의 profit 합계: {total_der_profit:.2f}\")\n",
    "\n",
    "der_hourly_profit = np.zeros((I, T, 4))\n",
    "\n",
    "for i in range(I):\n",
    "    for t in range(T):\n",
    "        da_profit = P_DA[t] * x[i, t].x\n",
    "        rt_profit = sum(1 / S * (P_RT[t, s] * y_plus[i, t, s].x) for s in range(S))\n",
    "        pen_cost = sum(1 / S * (P_PN[t] * y_minus[i, t, s].x) for s in range(S))\n",
    "        hourly_total = da_profit + rt_profit - pen_cost\n",
    "\n",
    "        der_hourly_profit[i, t, 0] = da_profit  # DA profit\n",
    "        der_hourly_profit[i, t, 1] = rt_profit  # RT profit\n",
    "        der_hourly_profit[i, t, 2] = pen_cost   # Penalty cost\n",
    "        der_hourly_profit[i, t, 3] = hourly_total\n"
   ]
  },
  {
   "cell_type": "markdown",
   "metadata": {},
   "source": [
    "### 결과 저장"
   ]
  },
  {
   "cell_type": "code",
   "execution_count": 7,
   "metadata": {},
   "outputs": [],
   "source": [
    "# R_sum = {(i, t): sum(R[i, t, s] for s in range(S)) / S for i in range(I) for t in range(T)}\n",
    "# R_df = pd.DataFrame({i: {t: R_sum[i, t] for t in range(T)} for i in range(I)})\n",
    "# R_df.to_csv('result_R.csv', index=False)\n",
    "\n",
    "# pd.DataFrame(list(P_DA.items()), columns=['time', 'price']).to_csv('result_P_DA.csv', index=False)\n",
    "\n",
    "# total_x_only = {t: sum(x[i,t].x for i in range(I)) for t in range(T)}\n",
    "# total_x_only_df = pd.DataFrame({'total_x_only': total_x_only})\n",
    "# total_x_only_df.to_csv('result/result_base_totalX.csv', index=False)\n",
    "\n",
    "only_obj = pd.DataFrame({'only_obj': [only.objVal]})\n",
    "only_obj.to_csv('result/result_only_obj.csv', index=False)\n",
    "\n",
    "only_profit_value = pd.DataFrame({'only_profit_value': der_profit})\n",
    "only_profit_value.to_csv('result/result_only_profit.csv', index=False)\n",
    "\n",
    "data_list = []\n",
    "\n",
    "for i in range(I):\n",
    "    for t in range(T):\n",
    "        data_list.append([i, t, \n",
    "                          der_hourly_profit[i, t, 0],  # DA profit\n",
    "                          der_hourly_profit[i, t, 1],  # RT profit\n",
    "                          der_hourly_profit[i, t, 2],  # Penalty cost\n",
    "                          der_hourly_profit[i, t, 3]]) # Hourly total profit\n",
    "\n",
    "# Pandas DataFrame 생성\n",
    "df = pd.DataFrame(data_list, columns=['DER', 'Hour', 'hourly_da', 'hourly_rt', 'hourly_pen', 'hourly_total'])\n",
    "\n",
    "# CSV 파일로 저장\n",
    "df.to_csv('result/result_only_hourly_profit.csv', index=False)\n"
   ]
  }
 ],
 "metadata": {
  "kernelspec": {
   "display_name": "Python 3",
   "language": "python",
   "name": "python3"
  },
  "language_info": {
   "codemirror_mode": {
    "name": "ipython",
    "version": 3
   },
   "file_extension": ".py",
   "mimetype": "text/x-python",
   "name": "python",
   "nbconvert_exporter": "python",
   "pygments_lexer": "ipython3",
   "version": "3.9.6"
  }
 },
 "nbformat": 4,
 "nbformat_minor": 2
}
