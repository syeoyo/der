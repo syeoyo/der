{
 "cells": [
  {
   "cell_type": "code",
   "execution_count": 2,
   "metadata": {},
   "outputs": [
    {
     "name": "stdout",
     "output_type": "stream",
     "text": [
      "✅ 총 5개 파일을 불러왔습니다: 1201.csv, 137.csv, 401.csv, 524.csv, 89.csv\n",
      "📊 데이터 Shape: I=5, T=24, S=30\n",
      "✅ 시뮬레이션 초기화 완료: S=30, Randomness='high', M1=722.00, M2=1957.00\n"
     ]
    }
   ],
   "source": [
    "import pandas as pd\n",
    "import numpy as np\n",
    "import matplotlib.pyplot as plt\n",
    "import gurobipy as gp\n",
    "from gurobipy import GRB\n",
    "import os\n",
    "from itertools import product\n",
    "from functions import (load_parameters, load_generation_data, load_price_data, generate_randomized_generation,\n",
    "generate_rt_scenarios, plot_generation_data, plot_randomized_generation, plot_scenarios_for_generator, plot_rt_scenarios)\n",
    "pd.set_option(\"display.max_rows\", None)\n",
    "pd.set_option(\"display.max_columns\", None)\n",
    "pd.set_option(\"display.width\", None)\n",
    "pd.set_option(\"display.max_colwidth\", None)\n",
    "\n",
    "generation_data, I, T = load_generation_data(date_filter=\"2022-07-18\")\n",
    "S, R, P_RT, K, K0, M1, M2 = load_parameters(I, T, generation_data)\n",
    "P_DA, P_PN = load_price_data()"
   ]
  },
  {
   "cell_type": "code",
   "execution_count": 12,
   "metadata": {},
   "outputs": [
    {
     "name": "stdout",
     "output_type": "stream",
     "text": [
      "Optimal solution found!\n",
      "Objective value: 1543726.3813601604\n"
     ]
    }
   ],
   "source": [
    "only = gp.Model(\"only\")\n",
    "only.setParam('OutputFlag', 0)\n",
    "only.setParam(\"MIPGap\", 1e-7)\n",
    "\n",
    "x_ind = only.addVars(I, T, vtype=GRB.CONTINUOUS, lb=0, name=\"x_individual\")\n",
    "yp_ind = only.addVars(I, T, S, vtype=GRB.CONTINUOUS, lb=0, name=\"y_plus_individual\")\n",
    "ym_ind = only.addVars(I, T, S, vtype=GRB.CONTINUOUS, lb=0, name=\"y_minus_individual\")\n",
    "\n",
    "M = max(R[i, t, s] for i in range(I) for t in range(T) for s in range(S))\n",
    "z = only.addVars(I, T, S, vtype=GRB.BINARY, name=\"z\")\n",
    "\n",
    "only.update()\n",
    "\n",
    "obj = gp.quicksum(P_DA[t] * x_ind[i, t] for i in range(I) for t in range(T)) + gp.quicksum(1 / S * (P_RT[t, s] * yp_ind[i, t, s] - P_PN[t] * ym_ind[i, t, s]) for i in range(I) for t in range(T) for s in range(S))\n",
    "only.setObjective(obj, GRB.MAXIMIZE)\n",
    "\n",
    "for i, t, s in product(range(I), range(T), range(S)):\n",
    "    only.addConstr(R[i, t, s] - x_ind[i, t] == yp_ind[i, t, s] - ym_ind[i, t, s])\n",
    "    only.addConstr(yp_ind[i, t, s] <= R[i, t, s])\n",
    "    only.addConstr(yp_ind[i, t, s] <= M * z[i, t, s])\n",
    "    only.addConstr(ym_ind[i, t, s] <= M * (1 - z[i, t, s]))\n",
    "\n",
    "only.optimize()\n",
    "\n",
    "if only.status == GRB.OPTIMAL:\n",
    "    print(\"Optimal solution found!\")\n",
    "    print(f\"Objective value: {only.objVal}\")\n",
    "else:\n",
    "    print(\"No optimal solution found.\")\n",
    "    \n",
    "x_ind_vals = np.array([[x_ind[i, t].x for t in range(T)] for i in range(I)])\n",
    "y_plus_ind_vals = np.array([[[yp_ind[i, t, s].x for s in range(S)] for t in range(T)] for i in range(I)])\n",
    "y_minus_ind_vals = np.array([[[ym_ind[i, t, s].x for s in range(S)] for t in range(T)] for i in range(I)])"
   ]
  },
  {
   "cell_type": "code",
   "execution_count": 13,
   "metadata": {},
   "outputs": [
    {
     "name": "stdout",
     "output_type": "stream",
     "text": [
      "Optimal solution found!\n",
      "Objective value: 1567561.8840047559\n"
     ]
    }
   ],
   "source": [
    "agg = gp.Model(\"agg\")\n",
    "agg.setParam('OutputFlag', 0)\n",
    "agg.setParam(\"MIPGap\", 1e-7)\n",
    "\n",
    "a_agg = agg.addVars(T, vtype=GRB.CONTINUOUS, lb=0, name=\"alpha\")\n",
    "bp_agg = agg.addVars(T, S, vtype=GRB.CONTINUOUS, lb=0, name=\"beta_plus\")\n",
    "bm_agg = agg.addVars(T, S, vtype=GRB.CONTINUOUS, lb=0, name=\"beta_minus\")\n",
    "M = max(sum(R[i, t, s] for i in range(I)) for t in range(T) for s in range(S))\n",
    "z = agg.addVars(T, S, vtype=GRB.BINARY, name=\"z\")\n",
    "prob = np.array([1 / S for s in range(S)])\n",
    "\n",
    "agg.update()\n",
    "\n",
    "obj = gp.quicksum(P_DA[t] * a_agg[t] for t in range(T)) + gp.quicksum(prob[s] * (P_RT[t, s] * bp_agg[t, s] - P_PN[t] * bm_agg[t, s]) for t in range(T) for s in range(S))\n",
    "agg.setObjective(obj, GRB.MAXIMIZE)\n",
    "\n",
    "for t, s in product(range(T), range(S)):\n",
    "    agg.addConstr(gp.quicksum(R[i, t, s] for i in range(I)) - a_agg[t] == bp_agg[t, s] - bm_agg[t, s])\n",
    "    agg.addConstr(gp.quicksum(R[i, t, s] for i in range(I)) >= bp_agg[t, s])\n",
    "    agg.addConstr(bp_agg[t, s] <= M * z[t, s])\n",
    "    agg.addConstr(bm_agg[t, s] <= M * (1 - z[t, s]))\n",
    "\n",
    "agg.optimize()\n",
    "\n",
    "if agg.status == GRB.OPTIMAL:\n",
    "    print(\"Optimal solution found!\")\n",
    "    print(f\"Objective value: {agg.objVal}\")\n",
    "else:\n",
    "    print(\"No optimal solution found.\")\n",
    "    \n",
    "a_agg_vals = np.array([a_agg[t].x for t in range(T)])\n",
    "b_plus_ind_vals = np.array([[bp_agg[t, s].x for s in range(S)] for t in range(T)])\n",
    "b_minus_ind_vals = np.array([[bm_agg[t, s].x for s in range(S)] for t in range(T)])"
   ]
  },
  {
   "cell_type": "code",
   "execution_count": 16,
   "metadata": {},
   "outputs": [
    {
     "name": "stdout",
     "output_type": "stream",
     "text": [
      "Optimal solution found!\n",
      "Objective value: 1567561.8840047559\n"
     ]
    }
   ],
   "source": [
    "set = gp.Model(\"Settlement\") \n",
    "set.setParam('OutputFlag', 0)\n",
    "set.setParam(\"PoolSolutions\", 15)\n",
    "set.setParam(\"PoolSearchMode\", 2)\n",
    "set.setParam(\"PoolGap\", 0.05)\n",
    "\n",
    "a = set.addVars(T, vtype=GRB.CONTINUOUS, lb=0, name=\"alpha\")\n",
    "bp = set.addVars(T, S, vtype=GRB.CONTINUOUS, lb=0, name=\"beta_plus\")\n",
    "bm = set.addVars(T, S, vtype=GRB.CONTINUOUS, lb=0, name=\"beta_minus\")\n",
    "x = set.addVars(I, T, S, vtype=GRB.CONTINUOUS, lb=0, name=\"x\")\n",
    "yp = set.addVars(I, T, S, vtype=GRB.CONTINUOUS, lb=0, name=\"y_plus\")\n",
    "ym = set.addVars(I, T, S, vtype=GRB.CONTINUOUS, lb=0, name=\"y_minus\")\n",
    "zy = set.addVars(I, T, S, vtype=GRB.BINARY, name=\"z_y\")\n",
    "\n",
    "d = set.addVars(I, I, T, S, vtype=GRB.CONTINUOUS, lb=0, name=\"d\")\n",
    "ep = set.addVars(I, T, S, vtype=GRB.CONTINUOUS, lb=0, name=\"e_plus\")\n",
    "em = set.addVars(I, T, S, vtype=GRB.CONTINUOUS, lb=0, name=\"e_minus\")\n",
    "ze = set.addVars(T, S, vtype=GRB.BINARY, name=\"z_e\") \n",
    "set.update()\n",
    "\n",
    "obj = gp.quicksum(P_DA[t] * a[t] for t in range(T)) + gp.quicksum(1/S * (P_RT[t, s] * bp[t, s] - P_PN[t] * bm[t, s]) for t in range(T) for s in range(S))\n",
    "\n",
    "set.setObjective(obj, GRB.MAXIMIZE)\n",
    "\n",
    "for i, t, s in product(range(I), range(T), range(S)):\n",
    "    set.addConstr(R[i, t, s] - x[i, t, s] == yp[i, t, s] - ym[i, t, s])\n",
    "    set.addConstr(yp[i, t, s] <= R[i, t, s])\n",
    "    set.addConstr(ep[i,t,s] == yp[i,t,s] - gp.quicksum(d[i,j,t,s] for j in range(I) if j != i))\n",
    "    set.addConstr(em[i,t,s] == ym[i,t,s] - gp.quicksum(d[j,i,t,s] for j in range(I) if j != i))\n",
    "    set.addConstr(gp.quicksum(d[i, j, t, s] for j in range(I) if j != i) <= yp[i, t, s])\n",
    "    set.addConstr(gp.quicksum(d[j, i, t, s] for j in range(I) if j != i) <= ym[i, t, s])\n",
    "    set.addConstr(d[i, i, t, s] == 0)\n",
    "    set.addConstr(yp[i, t, s] <= M1 * zy[i, t, s])\n",
    "    set.addConstr(ym[i, t, s] <= M1 * (1 - zy[i, t, s]))\n",
    "    \n",
    "for t, s in product(range(T), range(S)):\n",
    "    set.addConstr(a[t] == gp.quicksum(x[i, t, s] for i in range(I)))\n",
    "    set.addConstr(bp[t,s] == gp.quicksum(ep[i, t, s] for i in range(I)))\n",
    "    set.addConstr(bm[t,s] == gp.quicksum(em[i, t, s] for i in range(I)))\n",
    "    set.addConstr(gp.quicksum(R[i, t, s] for i in range(I)) - gp.quicksum(x[i, t, s] for i in range(I)) == gp.quicksum(ep[i, t, s] for i in range(I)) - gp.quicksum(em[i, t, s] for i in range(I)))\n",
    "    set.addConstr(gp.quicksum(ep[i, t, s] for i in range(I)) <= gp.quicksum(R[i, t, s] for i in range(I)))\n",
    "    set.addConstr(gp.quicksum(ep[i, t, s] for i in range(I)) <= M2 * ze[t, s])\n",
    "    set.addConstr(gp.quicksum(em[i, t, s] for i in range(I)) <= M2 * (1 - ze[t, s]))\n",
    "\n",
    "set.optimize()\n",
    "\n",
    "if set.status == GRB.OPTIMAL:\n",
    "    print(\"Optimal solution found!\")\n",
    "    print(f\"Objective value: {set.objVal}\")\n",
    "else:\n",
    "    print(\"No optimal solution found.\")"
   ]
  },
  {
   "cell_type": "code",
   "execution_count": null,
   "metadata": {},
   "outputs": [],
   "source": [
    "#"
   ]
  }
 ],
 "metadata": {
  "kernelspec": {
   "display_name": "base",
   "language": "python",
   "name": "python3"
  },
  "language_info": {
   "codemirror_mode": {
    "name": "ipython",
    "version": 3
   },
   "file_extension": ".py",
   "mimetype": "text/x-python",
   "name": "python",
   "nbconvert_exporter": "python",
   "pygments_lexer": "ipython3",
   "version": "3.12.7"
  }
 },
 "nbformat": 4,
 "nbformat_minor": 2
}
