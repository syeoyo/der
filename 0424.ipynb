{
 "cells": [
  {
   "cell_type": "markdown",
   "metadata": {},
   "source": [
    "### Models"
   ]
  },
  {
   "cell_type": "code",
   "execution_count": 8,
   "metadata": {},
   "outputs": [
    {
     "name": "stdout",
     "output_type": "stream",
     "text": [
      "✅ 총 5개 파일을 불러왔습니다: 1201.csv, 137.csv, 401.csv, 524.csv, 89.csv\n",
      "📊 데이터 Shape: I=5, T=24, S=30\n",
      "✅ 시뮬레이션 초기화 완료: S=30, Randomness='high', M1=722.00, M2=1957.00\n"
     ]
    }
   ],
   "source": [
    "import pandas as pd\n",
    "import numpy as np\n",
    "import matplotlib.pyplot as plt\n",
    "import gurobipy as gp\n",
    "from gurobipy import GRB\n",
    "import os\n",
    "from itertools import product\n",
    "from functions import (load_parameters, load_generation_data, load_price_data, generate_randomized_generation,\n",
    "generate_rt_scenarios, plot_generation_data, plot_randomized_generation, plot_scenarios_for_generator, plot_rt_scenarios)\n",
    "pd.set_option(\"display.max_rows\", None)\n",
    "pd.set_option(\"display.max_columns\", None)\n",
    "pd.set_option(\"display.width\", None)\n",
    "pd.set_option(\"display.max_colwidth\", None)\n",
    "\n",
    "generation_data, I, T = load_generation_data(date_filter=\"2022-07-18\")\n",
    "S, R, P_RT, K, K0, M1, M2 = load_parameters(I, T, generation_data)\n",
    "P_DA, P_PN = load_price_data()"
   ]
  },
  {
   "cell_type": "code",
   "execution_count": 9,
   "metadata": {},
   "outputs": [
    {
     "name": "stdout",
     "output_type": "stream",
     "text": [
      "Objective value: 1543726.3813601548\n"
     ]
    }
   ],
   "source": [
    "only = gp.Model(\"only\")\n",
    "only.setParam('OutputFlag', 0)\n",
    "only.setParam(\"MIPGap\", 1e-7)\n",
    "\n",
    "x_ind = only.addVars(I, T, vtype=GRB.CONTINUOUS, lb=0, name=\"x_individual\")\n",
    "yp_ind = only.addVars(I, T, S, vtype=GRB.CONTINUOUS, lb=0, name=\"y_plus_individual\")\n",
    "ym_ind = only.addVars(I, T, S, vtype=GRB.CONTINUOUS, lb=0, name=\"y_minus_individual\")\n",
    "\n",
    "M = max(R[i, t, s] for i in range(I) for t in range(T) for s in range(S))\n",
    "z = only.addVars(I, T, S, vtype=GRB.BINARY, name=\"z\")\n",
    "\n",
    "only.update()\n",
    "\n",
    "obj = gp.quicksum(P_DA[t] * x_ind[i, t] for i in range(I) for t in range(T)) + gp.quicksum(1 / S * (P_RT[t, s] * yp_ind[i, t, s] - P_PN[t] * ym_ind[i, t, s]) for i in range(I) for t in range(T) for s in range(S))\n",
    "only.setObjective(obj, GRB.MAXIMIZE)\n",
    "\n",
    "for i, t, s in product(range(I), range(T), range(S)):\n",
    "    only.addConstr(R[i, t, s] - x_ind[i, t] == yp_ind[i, t, s] - ym_ind[i, t, s])\n",
    "    only.addConstr(yp_ind[i, t, s] <= R[i, t, s])\n",
    "    only.addConstr(yp_ind[i, t, s] <= M * z[i, t, s])\n",
    "    only.addConstr(ym_ind[i, t, s] <= M * (1 - z[i, t, s]))\n",
    "\n",
    "only.optimize()\n",
    "\n",
    "if only.status == GRB.OPTIMAL:\n",
    "    print(f\"Objective value: {only.objVal}\")\n",
    "else:\n",
    "    print(\"No optimal solution found.\")\n",
    "    \n",
    "x_ind_vals = np.array([[x_ind[i, t].x for t in range(T)] for i in range(I)])\n",
    "y_plus_ind_vals = np.array([[[yp_ind[i, t, s].x for s in range(S)] for t in range(T)] for i in range(I)])\n",
    "y_minus_ind_vals = np.array([[[ym_ind[i, t, s].x for s in range(S)] for t in range(T)] for i in range(I)])"
   ]
  },
  {
   "cell_type": "code",
   "execution_count": 10,
   "metadata": {},
   "outputs": [
    {
     "name": "stdout",
     "output_type": "stream",
     "text": [
      "Objective value: 1567561.8840047552\n"
     ]
    }
   ],
   "source": [
    "agg = gp.Model(\"agg\")\n",
    "agg.setParam('OutputFlag', 0)\n",
    "agg.setParam(\"MIPGap\", 1e-7)\n",
    "\n",
    "a_agg = agg.addVars(T, vtype=GRB.CONTINUOUS, lb=0, name=\"alpha\")\n",
    "bp_agg = agg.addVars(T, S, vtype=GRB.CONTINUOUS, lb=0, name=\"beta_plus\")\n",
    "bm_agg = agg.addVars(T, S, vtype=GRB.CONTINUOUS, lb=0, name=\"beta_minus\")\n",
    "M = max(sum(R[i, t, s] for i in range(I)) for t in range(T) for s in range(S))\n",
    "z = agg.addVars(T, S, vtype=GRB.BINARY, name=\"z\")\n",
    "prob = np.array([1 / S for s in range(S)])\n",
    "\n",
    "agg.update()\n",
    "\n",
    "obj = gp.quicksum(P_DA[t] * a_agg[t] for t in range(T)) + gp.quicksum(prob[s] * (P_RT[t, s] * bp_agg[t, s] - P_PN[t] * bm_agg[t, s]) for t in range(T) for s in range(S))\n",
    "agg.setObjective(obj, GRB.MAXIMIZE)\n",
    "\n",
    "for t, s in product(range(T), range(S)):\n",
    "    agg.addConstr(gp.quicksum(R[i, t, s] for i in range(I)) - a_agg[t] == bp_agg[t, s] - bm_agg[t, s])\n",
    "    agg.addConstr(gp.quicksum(R[i, t, s] for i in range(I)) >= bp_agg[t, s])\n",
    "    agg.addConstr(bp_agg[t, s] <= M * z[t, s])\n",
    "    agg.addConstr(bm_agg[t, s] <= M * (1 - z[t, s]))\n",
    "\n",
    "agg.optimize()\n",
    "\n",
    "if agg.status == GRB.OPTIMAL:\n",
    "    print(f\"Objective value: {agg.objVal}\")\n",
    "else:\n",
    "    print(\"No optimal solution found.\")\n",
    "    \n",
    "a_agg_vals = np.array([a_agg[t].x for t in range(T)])\n",
    "b_plus_ind_vals = np.array([[bp_agg[t, s].x for s in range(S)] for t in range(T)])\n",
    "b_minus_ind_vals = np.array([[bm_agg[t, s].x for s in range(S)] for t in range(T)])"
   ]
  },
  {
   "cell_type": "code",
   "execution_count": 11,
   "metadata": {},
   "outputs": [
    {
     "name": "stdout",
     "output_type": "stream",
     "text": [
      "Objective value: 1567561.8840047552\n"
     ]
    }
   ],
   "source": [
    "set = gp.Model(\"Settlement\") \n",
    "set.setParam('OutputFlag', 0)\n",
    "set.setParam(\"PoolSolutions\", 15)\n",
    "set.setParam(\"PoolSearchMode\", 2)\n",
    "set.setParam(\"PoolGap\", 0.05)\n",
    "\n",
    "a = set.addVars(T, vtype=GRB.CONTINUOUS, lb=0, name=\"alpha\")\n",
    "bp = set.addVars(T, S, vtype=GRB.CONTINUOUS, lb=0, name=\"beta_plus\")\n",
    "bm = set.addVars(T, S, vtype=GRB.CONTINUOUS, lb=0, name=\"beta_minus\")\n",
    "x = set.addVars(I, T, S, vtype=GRB.CONTINUOUS, lb=0, name=\"x\")\n",
    "yp = set.addVars(I, T, S, vtype=GRB.CONTINUOUS, lb=0, name=\"y_plus\")\n",
    "ym = set.addVars(I, T, S, vtype=GRB.CONTINUOUS, lb=0, name=\"y_minus\")\n",
    "zy = set.addVars(I, T, S, vtype=GRB.BINARY, name=\"z_y\")\n",
    "\n",
    "d = set.addVars(I, I, T, S, vtype=GRB.CONTINUOUS, lb=0, name=\"d\")\n",
    "ep = set.addVars(I, T, S, vtype=GRB.CONTINUOUS, lb=0, name=\"e_plus\")\n",
    "em = set.addVars(I, T, S, vtype=GRB.CONTINUOUS, lb=0, name=\"e_minus\")\n",
    "ze = set.addVars(T, S, vtype=GRB.BINARY, name=\"z_e\") \n",
    "set.update()\n",
    "\n",
    "obj = gp.quicksum(P_DA[t] * a[t] for t in range(T)) + gp.quicksum(1/S * (P_RT[t, s] * bp[t, s] - P_PN[t] * bm[t, s]) for t in range(T) for s in range(S))\n",
    "\n",
    "set.setObjective(obj, GRB.MAXIMIZE)\n",
    "\n",
    "for i, t, s in product(range(I), range(T), range(S)):\n",
    "    set.addConstr(R[i, t, s] - x[i, t, s] == yp[i, t, s] - ym[i, t, s])\n",
    "    set.addConstr(yp[i, t, s] <= R[i, t, s])\n",
    "    set.addConstr(ep[i,t,s] == yp[i,t,s] - gp.quicksum(d[i,j,t,s] for j in range(I) if j != i))\n",
    "    set.addConstr(em[i,t,s] == ym[i,t,s] - gp.quicksum(d[j,i,t,s] for j in range(I) if j != i))\n",
    "    set.addConstr(gp.quicksum(d[i, j, t, s] for j in range(I) if j != i) <= yp[i, t, s])\n",
    "    set.addConstr(gp.quicksum(d[j, i, t, s] for j in range(I) if j != i) <= ym[i, t, s])\n",
    "    set.addConstr(d[i, i, t, s] == 0)\n",
    "    set.addConstr(yp[i, t, s] <= M1 * zy[i, t, s])\n",
    "    set.addConstr(ym[i, t, s] <= M1 * (1 - zy[i, t, s]))\n",
    "    \n",
    "for t, s in product(range(T), range(S)):\n",
    "    set.addConstr(a[t] == gp.quicksum(x[i, t, s] for i in range(I)))\n",
    "    set.addConstr(bp[t,s] == gp.quicksum(ep[i, t, s] for i in range(I)))\n",
    "    set.addConstr(bm[t,s] == gp.quicksum(em[i, t, s] for i in range(I)))\n",
    "    set.addConstr(gp.quicksum(R[i, t, s] for i in range(I)) - gp.quicksum(x[i, t, s] for i in range(I)) == gp.quicksum(ep[i, t, s] for i in range(I)) - gp.quicksum(em[i, t, s] for i in range(I)))\n",
    "    set.addConstr(gp.quicksum(ep[i, t, s] for i in range(I)) <= gp.quicksum(R[i, t, s] for i in range(I)))\n",
    "    set.addConstr(gp.quicksum(ep[i, t, s] for i in range(I)) <= M2 * ze[t, s])\n",
    "    set.addConstr(gp.quicksum(em[i, t, s] for i in range(I)) <= M2 * (1 - ze[t, s]))\n",
    "\n",
    "set.optimize()\n",
    "\n",
    "if set.status == GRB.OPTIMAL:\n",
    "    print(f\"Objective value: {set.objVal}\")\n",
    "else:\n",
    "    print(\"No optimal solution found.\")"
   ]
  },
  {
   "cell_type": "markdown",
   "metadata": {},
   "source": [
    "### Curve Derivation"
   ]
  },
  {
   "cell_type": "markdown",
   "metadata": {},
   "source": [
    "Individual Participation Profit Curve \n",
    "\n",
    "Maximize Individual Profit"
   ]
  },
  {
   "cell_type": "code",
   "execution_count": 12,
   "metadata": {},
   "outputs": [
    {
     "ename": "KeyboardInterrupt",
     "evalue": "",
     "output_type": "error",
     "traceback": [
      "\u001b[0;31m---------------------------------------------------------------------------\u001b[0m",
      "\u001b[0;31mKeyboardInterrupt\u001b[0m                         Traceback (most recent call last)",
      "Cell \u001b[0;32mIn[12], line 31\u001b[0m\n\u001b[1;32m     29\u001b[0m     m\u001b[38;5;241m.\u001b[39maddConstr(yp_ind[i, t, s] \u001b[38;5;241m<\u001b[39m\u001b[38;5;241m=\u001b[39m R[i, t, s])\n\u001b[1;32m     30\u001b[0m     m\u001b[38;5;241m.\u001b[39maddConstr(yp_ind[i, t, s] \u001b[38;5;241m<\u001b[39m\u001b[38;5;241m=\u001b[39m M \u001b[38;5;241m*\u001b[39m z[i, t, s])\n\u001b[0;32m---> 31\u001b[0m     \u001b[43mm\u001b[49m\u001b[38;5;241;43m.\u001b[39;49m\u001b[43maddConstr\u001b[49m\u001b[43m(\u001b[49m\u001b[43mym_ind\u001b[49m\u001b[43m[\u001b[49m\u001b[43mi\u001b[49m\u001b[43m,\u001b[49m\u001b[43m \u001b[49m\u001b[43mt\u001b[49m\u001b[43m,\u001b[49m\u001b[43m \u001b[49m\u001b[43ms\u001b[49m\u001b[43m]\u001b[49m\u001b[43m \u001b[49m\u001b[38;5;241;43m<\u001b[39;49m\u001b[38;5;241;43m=\u001b[39;49m\u001b[43m \u001b[49m\u001b[43mM\u001b[49m\u001b[43m \u001b[49m\u001b[38;5;241;43m*\u001b[39;49m\u001b[43m \u001b[49m\u001b[43m(\u001b[49m\u001b[38;5;241;43m1\u001b[39;49m\u001b[43m \u001b[49m\u001b[38;5;241;43m-\u001b[39;49m\u001b[43m \u001b[49m\u001b[43mz\u001b[49m\u001b[43m[\u001b[49m\u001b[43mi\u001b[49m\u001b[43m,\u001b[49m\u001b[43m \u001b[49m\u001b[43mt\u001b[49m\u001b[43m,\u001b[49m\u001b[43m \u001b[49m\u001b[43ms\u001b[49m\u001b[43m]\u001b[49m\u001b[43m)\u001b[49m\u001b[43m)\u001b[49m\n\u001b[1;32m     33\u001b[0m \u001b[38;5;66;03m# ❗ Commit x[i_target, t_target]을 강제로 고정\u001b[39;00m\n\u001b[1;32m     34\u001b[0m m\u001b[38;5;241m.\u001b[39maddConstr(x_ind[i_target, t_target] \u001b[38;5;241m==\u001b[39m x_fixed)\n",
      "File \u001b[0;32msrc/gurobipy/_model.pyx:3980\u001b[0m, in \u001b[0;36mgurobipy._model.Model.addConstr\u001b[0;34m()\u001b[0m\n",
      "File \u001b[0;32msrc/gurobipy/linexpr.pxi:500\u001b[0m, in \u001b[0;36mgurobipy._core.LinExpr.__sub__\u001b[0;34m()\u001b[0m\n",
      "File \u001b[0;32msrc/gurobipy/linexpr.pxi:541\u001b[0m, in \u001b[0;36mgurobipy._core.LinExpr.__rmul__\u001b[0;34m()\u001b[0m\n",
      "File \u001b[0;32msrc/gurobipy/linexpr.pxi:536\u001b[0m, in \u001b[0;36mgurobipy._core.LinExpr.__mul__\u001b[0;34m()\u001b[0m\n",
      "File \u001b[0;32msrc/gurobipy/linexpr.pxi:42\u001b[0m, in \u001b[0;36mgurobipy._core.LinExpr.__init__\u001b[0;34m()\u001b[0m\n",
      "File \u001b[0;32m<frozen abc>:117\u001b[0m, in \u001b[0;36m__instancecheck__\u001b[0;34m(cls, instance)\u001b[0m\n",
      "\u001b[0;31mKeyboardInterrupt\u001b[0m: "
     ]
    }
   ],
   "source": [
    "import matplotlib.pyplot as plt\n",
    "\n",
    "i_target = 0  # 조사할 DER 인덱스\n",
    "t_target = 10  # 조사할 시간대\n",
    "x_max = 800  # 가능한 최대 commitment 값 (시나리오 전부 고려)\n",
    "profits = []\n",
    "\n",
    "# 기존 모델을 복사해서 각 x에 대해 돌림\n",
    "for x_fixed in range(x_max + 1):\n",
    "    m = gp.Model(\"x_vs_profit\")\n",
    "    m.setParam(\"OutputFlag\", 0)\n",
    "    m.setParam(\"MIPGap\", 1e-7)\n",
    "\n",
    "    x_ind = m.addVars(I, T, vtype=GRB.CONTINUOUS, lb=0, name=\"x_ind\")\n",
    "    yp_ind = m.addVars(I, T, S, vtype=GRB.CONTINUOUS, lb=0, name=\"y_plus_ind\")\n",
    "    ym_ind = m.addVars(I, T, S, vtype=GRB.CONTINUOUS, lb=0, name=\"y_minus_ind\")\n",
    "    z = m.addVars(I, T, S, vtype=GRB.BINARY, name=\"z\")\n",
    "\n",
    "    m.update()\n",
    "\n",
    "    M = max(R[i, t, s] for i in range(I) for t in range(T) for s in range(S))\n",
    "    obj = gp.quicksum(P_DA[t] * x_ind[i, t] for i in range(I) for t in range(T)) + gp.quicksum(\n",
    "        1 / S * (P_RT[t, s] * yp_ind[i, t, s] - P_PN[t] * ym_ind[i, t, s])\n",
    "        for i in range(I) for t in range(T) for s in range(S))\n",
    "    m.setObjective(obj, GRB.MAXIMIZE)\n",
    "\n",
    "    for i, t, s in product(range(I), range(T), range(S)):\n",
    "        m.addConstr(R[i, t, s] - x_ind[i, t] == yp_ind[i, t, s] - ym_ind[i, t, s])\n",
    "        m.addConstr(yp_ind[i, t, s] <= R[i, t, s])\n",
    "        m.addConstr(yp_ind[i, t, s] <= M * z[i, t, s])\n",
    "        m.addConstr(ym_ind[i, t, s] <= M * (1 - z[i, t, s]))\n",
    "\n",
    "    # ❗ Commit x[i_target, t_target]을 강제로 고정\n",
    "    m.addConstr(x_ind[i_target, t_target] == x_fixed)\n",
    "\n",
    "    m.optimize()\n",
    "\n",
    "    if m.status == GRB.OPTIMAL:\n",
    "        profits.append(m.objVal)\n",
    "    else:\n",
    "        profits.append(None)\n",
    "\n",
    "# 🎨 Plot\n",
    "plt.figure(figsize=(8, 5))\n",
    "plt.plot(range(x_max + 1), profits, marker='o')\n",
    "plt.title(f\"Expected Profit vs. Commitment (i={i_target}, t={t_target})\")\n",
    "plt.xlabel(\"Commitment x\")\n",
    "plt.ylabel(\"Expected Profit\")\n",
    "plt.grid(True)\n",
    "plt.show()"
   ]
  },
  {
   "cell_type": "markdown",
   "metadata": {},
   "source": [
    "Aggregated Participation Profit Curve\n",
    "\n",
    "Maximize Individual Profit"
   ]
  },
  {
   "cell_type": "code",
   "execution_count": null,
   "metadata": {},
   "outputs": [],
   "source": []
  },
  {
   "cell_type": "markdown",
   "metadata": {},
   "source": [
    "Aggregated Participation Profit Curve\n",
    "\n",
    "Maximize Aggregated Profit"
   ]
  },
  {
   "cell_type": "code",
   "execution_count": null,
   "metadata": {},
   "outputs": [],
   "source": []
  }
 ],
 "metadata": {
  "kernelspec": {
   "display_name": "base",
   "language": "python",
   "name": "python3"
  },
  "language_info": {
   "codemirror_mode": {
    "name": "ipython",
    "version": 3
   },
   "file_extension": ".py",
   "mimetype": "text/x-python",
   "name": "python",
   "nbconvert_exporter": "python",
   "pygments_lexer": "ipython3",
   "version": "3.12.2"
  }
 },
 "nbformat": 4,
 "nbformat_minor": 2
}
